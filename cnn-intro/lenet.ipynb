{
 "cells": [
  {
   "cell_type": "code",
   "execution_count": 1,
   "id": "6b7fdf37",
   "metadata": {
    "_cell_guid": "b1076dfc-b9ad-4769-8c92-a6c4dae69d19",
    "_uuid": "8f2839f25d086af736a60e9eeb907d3b93b6e0e5",
    "execution": {
     "iopub.execute_input": "2025-01-16T08:52:11.542779Z",
     "iopub.status.busy": "2025-01-16T08:52:11.542324Z",
     "iopub.status.idle": "2025-01-16T08:52:16.620736Z",
     "shell.execute_reply": "2025-01-16T08:52:16.619987Z"
    },
    "papermill": {
     "duration": 5.088576,
     "end_time": "2025-01-16T08:52:16.622263",
     "exception": false,
     "start_time": "2025-01-16T08:52:11.533687",
     "status": "completed"
    },
    "tags": []
   },
   "outputs": [],
   "source": [
    "import torch\n",
    "from torch import nn"
   ]
  },
  {
   "cell_type": "code",
   "execution_count": 2,
   "id": "08051b1c",
   "metadata": {
    "execution": {
     "iopub.execute_input": "2025-01-16T08:52:16.632325Z",
     "iopub.status.busy": "2025-01-16T08:52:16.631992Z",
     "iopub.status.idle": "2025-01-16T08:52:24.688686Z",
     "shell.execute_reply": "2025-01-16T08:52:24.687640Z"
    },
    "papermill": {
     "duration": 8.063017,
     "end_time": "2025-01-16T08:52:24.690083",
     "exception": false,
     "start_time": "2025-01-16T08:52:16.627066",
     "status": "completed"
    },
    "tags": []
   },
   "outputs": [
    {
     "name": "stdout",
     "output_type": "stream",
     "text": [
      "Downloading http://fashion-mnist.s3-website.eu-central-1.amazonaws.com/train-images-idx3-ubyte.gz\n",
      "Downloading http://fashion-mnist.s3-website.eu-central-1.amazonaws.com/train-images-idx3-ubyte.gz to data/FashionMNIST/raw/train-images-idx3-ubyte.gz\n"
     ]
    },
    {
     "name": "stderr",
     "output_type": "stream",
     "text": [
      "100%|██████████| 26421880/26421880 [00:01<00:00, 15752189.85it/s]\n"
     ]
    },
    {
     "name": "stdout",
     "output_type": "stream",
     "text": [
      "Extracting data/FashionMNIST/raw/train-images-idx3-ubyte.gz to data/FashionMNIST/raw\n",
      "\n",
      "Downloading http://fashion-mnist.s3-website.eu-central-1.amazonaws.com/train-labels-idx1-ubyte.gz\n",
      "Downloading http://fashion-mnist.s3-website.eu-central-1.amazonaws.com/train-labels-idx1-ubyte.gz to data/FashionMNIST/raw/train-labels-idx1-ubyte.gz\n"
     ]
    },
    {
     "name": "stderr",
     "output_type": "stream",
     "text": [
      "100%|██████████| 29515/29515 [00:00<00:00, 271717.76it/s]\n"
     ]
    },
    {
     "name": "stdout",
     "output_type": "stream",
     "text": [
      "Extracting data/FashionMNIST/raw/train-labels-idx1-ubyte.gz to data/FashionMNIST/raw\n",
      "\n",
      "Downloading http://fashion-mnist.s3-website.eu-central-1.amazonaws.com/t10k-images-idx3-ubyte.gz\n",
      "Downloading http://fashion-mnist.s3-website.eu-central-1.amazonaws.com/t10k-images-idx3-ubyte.gz to data/FashionMNIST/raw/t10k-images-idx3-ubyte.gz\n"
     ]
    },
    {
     "name": "stderr",
     "output_type": "stream",
     "text": [
      "100%|██████████| 4422102/4422102 [00:00<00:00, 4976384.02it/s]\n"
     ]
    },
    {
     "name": "stdout",
     "output_type": "stream",
     "text": [
      "Extracting data/FashionMNIST/raw/t10k-images-idx3-ubyte.gz to data/FashionMNIST/raw\n",
      "\n",
      "Downloading http://fashion-mnist.s3-website.eu-central-1.amazonaws.com/t10k-labels-idx1-ubyte.gz\n",
      "Downloading http://fashion-mnist.s3-website.eu-central-1.amazonaws.com/t10k-labels-idx1-ubyte.gz to data/FashionMNIST/raw/t10k-labels-idx1-ubyte.gz\n"
     ]
    },
    {
     "name": "stderr",
     "output_type": "stream",
     "text": [
      "100%|██████████| 5148/5148 [00:00<00:00, 11124305.51it/s]"
     ]
    },
    {
     "name": "stdout",
     "output_type": "stream",
     "text": [
      "Extracting data/FashionMNIST/raw/t10k-labels-idx1-ubyte.gz to data/FashionMNIST/raw\n",
      "\n"
     ]
    },
    {
     "name": "stderr",
     "output_type": "stream",
     "text": [
      "\n"
     ]
    }
   ],
   "source": [
    "from torchvision.datasets import FashionMNIST, MNIST\n",
    "from torchvision.transforms import ToTensor\n",
    "\n",
    "train_data = FashionMNIST(\n",
    "    root=\"data\",\n",
    "    train=True,\n",
    "    download=True,\n",
    "    transform=ToTensor(),\n",
    ")\n",
    "\n",
    "test_data = FashionMNIST(\n",
    "    root=\"data\",\n",
    "    train=False,\n",
    "    download=True,\n",
    "    transform=ToTensor(),\n",
    ")\n",
    "\n",
    "class_names = train_data.classes"
   ]
  },
  {
   "cell_type": "code",
   "execution_count": 3,
   "id": "b0799e41",
   "metadata": {
    "execution": {
     "iopub.execute_input": "2025-01-16T08:52:24.704531Z",
     "iopub.status.busy": "2025-01-16T08:52:24.704132Z",
     "iopub.status.idle": "2025-01-16T08:52:24.708238Z",
     "shell.execute_reply": "2025-01-16T08:52:24.707320Z"
    },
    "papermill": {
     "duration": 0.012374,
     "end_time": "2025-01-16T08:52:24.709471",
     "exception": false,
     "start_time": "2025-01-16T08:52:24.697097",
     "status": "completed"
    },
    "tags": []
   },
   "outputs": [],
   "source": [
    "import matplotlib.pyplot as plt"
   ]
  },
  {
   "cell_type": "code",
   "execution_count": 4,
   "id": "58cdea27",
   "metadata": {
    "execution": {
     "iopub.execute_input": "2025-01-16T08:52:24.722429Z",
     "iopub.status.busy": "2025-01-16T08:52:24.722209Z",
     "iopub.status.idle": "2025-01-16T08:52:24.971730Z",
     "shell.execute_reply": "2025-01-16T08:52:24.970870Z"
    },
    "papermill": {
     "duration": 0.257403,
     "end_time": "2025-01-16T08:52:24.973129",
     "exception": false,
     "start_time": "2025-01-16T08:52:24.715726",
     "status": "completed"
    },
    "tags": []
   },
   "outputs": [
    {
     "data": {
      "image/png": "[encoded data removed]",
      "text/plain": [
       "<Figure size 500x400 with 1 Axes>"
      ]
     },
     "metadata": {},
     "output_type": "display_data"
    }
   ],
   "source": [
    "plt.figure(figsize=(5, 4))\n",
    "\n",
    "random_idx = torch.randint(0, len(train_data), size=[1]).item()\n",
    "img, label = train_data[random_idx]\n",
    "\n",
    "plt.imshow(img.squeeze(), cmap=\"gray\")\n",
    "plt.title(class_names[label])\n",
    "plt.axis(False)\n",
    "plt.show()"
   ]
  },
  {
   "cell_type": "code",
   "execution_count": 5,
   "id": "9c862e76",
   "metadata": {
    "execution": {
     "iopub.execute_input": "2025-01-16T08:52:24.987700Z",
     "iopub.status.busy": "2025-01-16T08:52:24.987444Z",
     "iopub.status.idle": "2025-01-16T08:52:24.991123Z",
     "shell.execute_reply": "2025-01-16T08:52:24.990442Z"
    },
    "papermill": {
     "duration": 0.011884,
     "end_time": "2025-01-16T08:52:24.992372",
     "exception": false,
     "start_time": "2025-01-16T08:52:24.980488",
     "status": "completed"
    },
    "tags": []
   },
   "outputs": [],
   "source": [
    "from torch.utils.data import DataLoader\n",
    "\n",
    "train_dataloader = DataLoader(train_data, batch_size=128, shuffle=True)\n",
    "test_dataloader = DataLoader(test_data, batch_size=128, shuffle=True)"
   ]
  },
  {
   "cell_type": "code",
   "execution_count": 6,
   "id": "48310ab8",
   "metadata": {
    "execution": {
     "iopub.execute_input": "2025-01-16T08:52:25.006743Z",
     "iopub.status.busy": "2025-01-16T08:52:25.006464Z",
     "iopub.status.idle": "2025-01-16T08:52:25.013338Z",
     "shell.execute_reply": "2025-01-16T08:52:25.012570Z"
    },
    "papermill": {
     "duration": 0.015515,
     "end_time": "2025-01-16T08:52:25.014648",
     "exception": false,
     "start_time": "2025-01-16T08:52:24.999133",
     "status": "completed"
    },
    "tags": []
   },
   "outputs": [],
   "source": [
    "class LeNet(nn.Module):\n",
    "    def __init__(self, in_channels=1, out_shape=10, hidden_units=6, activation_fn=nn.Sigmoid):\n",
    "        super().__init__()\n",
    "        self.activation_fn = activation_fn \n",
    "        self.block_1 = nn.Sequential(\n",
    "            nn.Conv2d(in_channels=in_channels, out_channels=hidden_units, kernel_size=5, stride=1, padding=2),\n",
    "            activation_fn(),\n",
    "            nn.MaxPool2d(kernel_size=2, stride=2),\n",
    "            nn.Conv2d(in_channels=hidden_units, out_channels=(hidden_units + 10), kernel_size=5, stride=1, padding=0),\n",
    "            activation_fn(),\n",
    "            nn.MaxPool2d(kernel_size=2, stride=2),\n",
    "        )\n",
    "        self.classifier = nn.Sequential(\n",
    "            nn.Flatten(),\n",
    "            nn.LazyLinear(out_features=120), activation_fn(),\n",
    "            nn.Linear(120, 84), activation_fn(),\n",
    "            nn.Linear(84, out_shape),\n",
    "        )\n",
    "        dummy_input = torch.randn(1, 1, 28, 28) \n",
    "        _ = self(dummy_input)\n",
    "        self.initialize_weights()\n",
    "\n",
    "    def initialize_weights(self):\n",
    "        for layer in self.modules():\n",
    "            if isinstance(layer, nn.Linear) or isinstance(layer, nn.Conv2d):\n",
    "                nn.init.xavier_uniform_(layer.weight)  \n",
    "                if layer.bias is not None:\n",
    "                    nn.init.constant_(layer.bias, 0) \n",
    "\n",
    "    def forward(self, x):\n",
    "        x = self.block_1(x)\n",
    "        x = self.classifier(x)\n",
    "\n",
    "        return x"
   ]
  },
  {
   "cell_type": "code",
   "execution_count": 7,
   "id": "ed6bf969",
   "metadata": {
    "execution": {
     "iopub.execute_input": "2025-01-16T08:52:25.029203Z",
     "iopub.status.busy": "2025-01-16T08:52:25.028955Z",
     "iopub.status.idle": "2025-01-16T08:52:25.110779Z",
     "shell.execute_reply": "2025-01-16T08:52:25.109920Z"
    },
    "papermill": {
     "duration": 0.090572,
     "end_time": "2025-01-16T08:52:25.112012",
     "exception": false,
     "start_time": "2025-01-16T08:52:25.021440",
     "status": "completed"
    },
    "tags": []
   },
   "outputs": [
    {
     "data": {
      "text/plain": [
       "'cuda'"
      ]
     },
     "execution_count": 7,
     "metadata": {},
     "output_type": "execute_result"
    }
   ],
   "source": [
    "device = \"cuda\" if torch.cuda.is_available() else \"cpu\"\n",
    "device"
   ]
  },
  {
   "cell_type": "code",
   "execution_count": 8,
   "id": "73ec75a9",
   "metadata": {
    "execution": {
     "iopub.execute_input": "2025-01-16T08:52:25.126033Z",
     "iopub.status.busy": "2025-01-16T08:52:25.125798Z",
     "iopub.status.idle": "2025-01-16T08:52:25.131764Z",
     "shell.execute_reply": "2025-01-16T08:52:25.131108Z"
    },
    "papermill": {
     "duration": 0.014237,
     "end_time": "2025-01-16T08:52:25.133144",
     "exception": false,
     "start_time": "2025-01-16T08:52:25.118907",
     "status": "completed"
    },
    "tags": []
   },
   "outputs": [],
   "source": [
    "def train_step(model, train_dataloader, loss_fn, accuracy_fn, optimizer, device=\"cpu\"):\n",
    "    model.to(device)\n",
    "    model.train()\n",
    "    train_loss = train_acc = 0\n",
    "    for X, y in train_dataloader:\n",
    "        X, y = X.to(device), y.to(device)\n",
    "        \n",
    "        y_logits = model(X)\n",
    "\n",
    "        loss = loss_fn(y_logits, y)\n",
    "\n",
    "        train_loss += loss\n",
    "        train_acc += accuracy_fn(y_logits.argmax(dim=1), y)\n",
    "\n",
    "        optimizer.zero_grad()\n",
    "        loss.backward()\n",
    "        optimizer.step()\n",
    "\n",
    "    train_loss /= len(train_dataloader)\n",
    "    train_acc /= len(train_dataloader)\n",
    "\n",
    "    return train_loss.detach().cpu().item(), train_acc\n",
    "\n",
    "\n",
    "def test_step(model, train_dataloader, loss_fn, accuracy_fn, device=\"cpu\"):\n",
    "    model.to(device)\n",
    "    model.eval()\n",
    "    test_loss = test_acc = 0\n",
    "    with torch.inference_mode():\n",
    "        for X, y in test_dataloader:\n",
    "            X, y = X.to(device), y.to(device)\n",
    "            \n",
    "            y_logits = model(X)\n",
    "        \n",
    "            test_loss += loss_fn(y_logits, y)\n",
    "            test_acc += accuracy_fn(y_logits.argmax(dim=1), y)\n",
    "    \n",
    "    \n",
    "        test_loss /= len(test_dataloader)\n",
    "        test_acc /= len(test_dataloader)\n",
    "        \n",
    "        return test_loss.detach().cpu().item(), test_acc"
   ]
  },
  {
   "cell_type": "code",
   "execution_count": 9,
   "id": "55259675",
   "metadata": {
    "execution": {
     "iopub.execute_input": "2025-01-16T08:52:25.147733Z",
     "iopub.status.busy": "2025-01-16T08:52:25.147462Z",
     "iopub.status.idle": "2025-01-16T08:52:25.150866Z",
     "shell.execute_reply": "2025-01-16T08:52:25.150043Z"
    },
    "papermill": {
     "duration": 0.012207,
     "end_time": "2025-01-16T08:52:25.152110",
     "exception": false,
     "start_time": "2025-01-16T08:52:25.139903",
     "status": "completed"
    },
    "tags": []
   },
   "outputs": [],
   "source": [
    "def accuracy_fn(y_pred, y_true):\n",
    "    return torch.eq(y_pred, y_true).sum().item() / len(y_true)"
   ]
  },
  {
   "cell_type": "markdown",
   "id": "539b7ff7",
   "metadata": {
    "papermill": {
     "duration": 0.006282,
     "end_time": "2025-01-16T08:52:25.165137",
     "exception": false,
     "start_time": "2025-01-16T08:52:25.158855",
     "status": "completed"
    },
    "tags": []
   },
   "source": [
    "# Sigmoid as activation func"
   ]
  },
  {
   "cell_type": "code",
   "execution_count": 10,
   "id": "2179b7ce",
   "metadata": {
    "execution": {
     "iopub.execute_input": "2025-01-16T08:52:25.179165Z",
     "iopub.status.busy": "2025-01-16T08:52:25.178826Z",
     "iopub.status.idle": "2025-01-16T08:52:25.368400Z",
     "shell.execute_reply": "2025-01-16T08:52:25.367465Z"
    },
    "papermill": {
     "duration": 0.198312,
     "end_time": "2025-01-16T08:52:25.370031",
     "exception": false,
     "start_time": "2025-01-16T08:52:25.171719",
     "status": "completed"
    },
    "tags": []
   },
   "outputs": [],
   "source": [
    "model_0 = LeNet(out_shape=len(class_names), activation_fn=nn.Sigmoid)"
   ]
  },
  {
   "cell_type": "code",
   "execution_count": 11,
   "id": "dd9c5895",
   "metadata": {
    "execution": {
     "iopub.execute_input": "2025-01-16T08:52:25.386368Z",
     "iopub.status.busy": "2025-01-16T08:52:25.386096Z",
     "iopub.status.idle": "2025-01-16T08:53:54.259879Z",
     "shell.execute_reply": "2025-01-16T08:53:54.259002Z"
    },
    "papermill": {
     "duration": 88.883652,
     "end_time": "2025-01-16T08:53:54.261540",
     "exception": false,
     "start_time": "2025-01-16T08:52:25.377888",
     "status": "completed"
    },
    "tags": []
   },
   "outputs": [
    {
     "data": {
      "application/vnd.jupyter.widget-view+json": {
       "model_id": "ed385cc73d9b4be986101b0122fd80cd",
       "version_major": 2,
       "version_minor": 0
      },
      "text/plain": [
       "  0%|          | 0/11 [00:00<?, ?it/s]"
      ]
     },
     "metadata": {},
     "output_type": "display_data"
    },
    {
     "name": "stdout",
     "output_type": "stream",
     "text": [
      "Epoche: 0\n",
      "---------\n",
      "Train loss: 2.31171 | Train accuracy: 0.10%\n",
      "Test loss: 2.30589 | Test accuracy: 0.10%\n",
      "Epoche: 2\n",
      "---------\n",
      "Train loss: 2.29661 | Train accuracy: 0.12%\n",
      "Test loss: 2.28267 | Test accuracy: 0.20%\n",
      "Epoche: 4\n",
      "---------\n",
      "Train loss: 1.17769 | Train accuracy: 0.57%\n",
      "Test loss: 1.04956 | Test accuracy: 0.62%\n",
      "Epoche: 6\n",
      "---------\n",
      "Train loss: 0.85724 | Train accuracy: 0.69%\n",
      "Test loss: 0.82259 | Test accuracy: 0.70%\n",
      "Epoche: 8\n",
      "---------\n",
      "Train loss: 0.69374 | Train accuracy: 0.74%\n",
      "Test loss: 0.68485 | Test accuracy: 0.74%\n",
      "Epoche: 10\n",
      "---------\n",
      "Train loss: 0.61649 | Train accuracy: 0.76%\n",
      "Test loss: 0.62923 | Test accuracy: 0.76%\n"
     ]
    }
   ],
   "source": [
    "from tqdm.auto import tqdm\n",
    "\n",
    "loss_fn = torch.nn.CrossEntropyLoss()\n",
    "optim = torch.optim.SGD(model_0.parameters(), lr=0.01, momentum=0.9, nesterov=True)\n",
    "\n",
    "epoches = 11\n",
    "\n",
    "train_losses_0 = []\n",
    "test_losses_0 = []\n",
    "test_acc_0 = []\n",
    "\n",
    "for epoche in tqdm(range(epoches)):\n",
    "    train_info = train_step(model_0, train_dataloader, loss_fn, accuracy_fn, optim, device)\n",
    "    test_info = test_step(model_0, test_dataloader, loss_fn, accuracy_fn, device)\n",
    "\n",
    "    if epoche % 2 == 0:\n",
    "        print(f\"Epoche: {epoche}\\n---------\")\n",
    "        print(f\"Train loss: {train_info[0]:.5f} | Train accuracy: {train_info[1]:.2f}%\")\n",
    "        print(f\"Test loss: {test_info[0]:.5f} | Test accuracy: {test_info[1]:.2f}%\")\n",
    "\n",
    "    train_losses_0.append(train_info[0])\n",
    "    test_losses_0.append(test_info[0])\n",
    "    test_acc_0.append(test_info[1])"
   ]
  },
  {
   "cell_type": "code",
   "execution_count": 12,
   "id": "1a04ecc6",
   "metadata": {
    "execution": {
     "iopub.execute_input": "2025-01-16T08:53:54.277433Z",
     "iopub.status.busy": "2025-01-16T08:53:54.277192Z",
     "iopub.status.idle": "2025-01-16T08:53:54.539248Z",
     "shell.execute_reply": "2025-01-16T08:53:54.538433Z"
    },
    "papermill": {
     "duration": 0.271401,
     "end_time": "2025-01-16T08:53:54.540658",
     "exception": false,
     "start_time": "2025-01-16T08:53:54.269257",
     "status": "completed"
    },
    "tags": []
   },
   "outputs": [
    {
     "data": {
      "image/png": "[encoded data removed]",
      "text/plain": [
       "<Figure size 600x400 with 1 Axes>"
      ]
     },
     "metadata": {},
     "output_type": "display_data"
    }
   ],
   "source": [
    "plt.figure(figsize=(6, 4))\n",
    "\n",
    "plt.plot(range(epoches), train_losses_0, c=\"darkorange\",label=\"Train loss\")\n",
    "plt.plot(range(epoches), test_losses_0, c=\"slateblue\", ls='dashed', label=\"Test loss\")\n",
    "plt.plot(range(epoches), test_acc_0, c=\"darkseagreen\", ls='dashdot', label=\"Test acc\")\n",
    "plt.xlabel(\"Epoch\")\n",
    "plt.ylabel(\"Loss\")\n",
    "plt.title(\"Losses using Sigmoid\")\n",
    "plt.legend()\n",
    "plt.grid(True)\n",
    "plt.show()"
   ]
  },
  {
   "cell_type": "markdown",
   "id": "36a406d7",
   "metadata": {
    "papermill": {
     "duration": 0.007403,
     "end_time": "2025-01-16T08:53:54.555990",
     "exception": false,
     "start_time": "2025-01-16T08:53:54.548587",
     "status": "completed"
    },
    "tags": []
   },
   "source": [
    "# ReLU as activation func"
   ]
  },
  {
   "cell_type": "code",
   "execution_count": 13,
   "id": "12df40be",
   "metadata": {
    "execution": {
     "iopub.execute_input": "2025-01-16T08:53:54.571809Z",
     "iopub.status.busy": "2025-01-16T08:53:54.571570Z",
     "iopub.status.idle": "2025-01-16T08:55:20.968200Z",
     "shell.execute_reply": "2025-01-16T08:55:20.967340Z"
    },
    "papermill": {
     "duration": 86.407011,
     "end_time": "2025-01-16T08:55:20.970548",
     "exception": false,
     "start_time": "2025-01-16T08:53:54.563537",
     "status": "completed"
    },
    "tags": []
   },
   "outputs": [
    {
     "data": {
      "application/vnd.jupyter.widget-view+json": {
       "model_id": "c71efc824bcb4dbaa261988aceadc3a3",
       "version_major": 2,
       "version_minor": 0
      },
      "text/plain": [
       "  0%|          | 0/11 [00:00<?, ?it/s]"
      ]
     },
     "metadata": {},
     "output_type": "display_data"
    },
    {
     "name": "stdout",
     "output_type": "stream",
     "text": [
      "Epoche: 0\n",
      "---------\n",
      "Train loss: 0.75281 | Train accuracy: 0.72%\n",
      "Test loss: 0.50445 | Test accuracy: 0.81%\n",
      "Epoche: 2\n",
      "---------\n",
      "Train loss: 0.36959 | Train accuracy: 0.87%\n",
      "Test loss: 0.38141 | Test accuracy: 0.87%\n",
      "Epoche: 4\n",
      "---------\n",
      "Train loss: 0.31543 | Train accuracy: 0.89%\n",
      "Test loss: 0.34542 | Test accuracy: 0.87%\n",
      "Epoche: 6\n",
      "---------\n",
      "Train loss: 0.28548 | Train accuracy: 0.89%\n",
      "Test loss: 0.34045 | Test accuracy: 0.88%\n",
      "Epoche: 8\n",
      "---------\n",
      "Train loss: 0.26650 | Train accuracy: 0.90%\n",
      "Test loss: 0.31408 | Test accuracy: 0.89%\n",
      "Epoche: 10\n",
      "---------\n",
      "Train loss: 0.24734 | Train accuracy: 0.91%\n",
      "Test loss: 0.29486 | Test accuracy: 0.90%\n"
     ]
    }
   ],
   "source": [
    "model_1 = LeNet(out_shape=len(class_names), activation_fn=nn.ReLU)\n",
    "\n",
    "from tqdm.auto import tqdm\n",
    "\n",
    "loss_fn = torch.nn.CrossEntropyLoss()\n",
    "optim = torch.optim.SGD(model_1.parameters(), lr=0.01, momentum=0.9, nesterov=True)\n",
    "\n",
    "epoches = 11\n",
    "\n",
    "train_losses_1 = []\n",
    "test_losses_1 = []\n",
    "test_acc_1 = []\n",
    "\n",
    "for epoche in tqdm(range(epoches)):\n",
    "    train_info = train_step(model_1, train_dataloader, loss_fn, accuracy_fn, optim, device)\n",
    "    test_info = test_step(model_1, test_dataloader, loss_fn, accuracy_fn, device)\n",
    "\n",
    "    if epoche % 2 == 0:\n",
    "        print(f\"Epoche: {epoche}\\n---------\")\n",
    "        print(f\"Train loss: {train_info[0]:.5f} | Train accuracy: {train_info[1]:.2f}%\")\n",
    "        print(f\"Test loss: {test_info[0]:.5f} | Test accuracy: {test_info[1]:.2f}%\")\n",
    "\n",
    "    train_losses_1.append(train_info[0])\n",
    "    test_losses_1.append(test_info[0])\n",
    "    test_acc_1.append(test_info[1])"
   ]
  },
  {
   "cell_type": "code",
   "execution_count": 14,
   "id": "5ef1efcf",
   "metadata": {
    "execution": {
     "iopub.execute_input": "2025-01-16T08:55:20.989184Z",
     "iopub.status.busy": "2025-01-16T08:55:20.988924Z",
     "iopub.status.idle": "2025-01-16T08:55:21.275554Z",
     "shell.execute_reply": "2025-01-16T08:55:21.274699Z"
    },
    "papermill": {
     "duration": 0.297821,
     "end_time": "2025-01-16T08:55:21.277292",
     "exception": false,
     "start_time": "2025-01-16T08:55:20.979471",
     "status": "completed"
    },
    "tags": []
   },
   "outputs": [
    {
     "data": {
      "image/png": "[encoded data removed]",
      "text/plain": [
       "<Figure size 600x400 with 1 Axes>"
      ]
     },
     "metadata": {},
     "output_type": "display_data"
    }
   ],
   "source": [
    "plt.figure(figsize=(6, 4))\n",
    "\n",
    "plt.plot(range(epoches), train_losses_1, c=\"darkorange\",label=\"Train loss\")\n",
    "plt.plot(range(epoches), test_losses_1, c=\"slateblue\", ls='dashed', label=\"Test loss\")\n",
    "plt.plot(range(epoches), test_acc_1, c=\"darkseagreen\", ls='dashdot', label=\"Test acc\")\n",
    "plt.xlabel(\"Epoch\")\n",
    "plt.ylabel(\"Loss\")\n",
    "plt.title(\"Losses using ReLU\")\n",
    "plt.legend()\n",
    "plt.grid(True)\n",
    "plt.show()"
   ]
  },
  {
   "cell_type": "markdown",
   "id": "e51c6943",
   "metadata": {
    "papermill": {
     "duration": 0.008686,
     "end_time": "2025-01-16T08:55:21.295999",
     "exception": false,
     "start_time": "2025-01-16T08:55:21.287313",
     "status": "completed"
    },
    "tags": []
   },
   "source": [
    "# GELU as activation func"
   ]
  },
  {
   "cell_type": "code",
   "execution_count": 15,
   "id": "b39f345f",
   "metadata": {
    "execution": {
     "iopub.execute_input": "2025-01-16T08:55:21.315162Z",
     "iopub.status.busy": "2025-01-16T08:55:21.314932Z",
     "iopub.status.idle": "2025-01-16T08:56:47.550458Z",
     "shell.execute_reply": "2025-01-16T08:56:47.549619Z"
    },
    "papermill": {
     "duration": 86.246837,
     "end_time": "2025-01-16T08:56:47.552007",
     "exception": false,
     "start_time": "2025-01-16T08:55:21.305170",
     "status": "completed"
    },
    "tags": []
   },
   "outputs": [
    {
     "data": {
      "application/vnd.jupyter.widget-view+json": {
       "model_id": "d318b5001dd140f3a1d681e1d1d132e2",
       "version_major": 2,
       "version_minor": 0
      },
      "text/plain": [
       "  0%|          | 0/11 [00:00<?, ?it/s]"
      ]
     },
     "metadata": {},
     "output_type": "display_data"
    },
    {
     "name": "stdout",
     "output_type": "stream",
     "text": [
      "Epoche: 0\n",
      "---------\n",
      "Train loss: 0.80294 | Train accuracy: 0.71%\n",
      "Test loss: 0.47061 | Test accuracy: 0.83%\n",
      "Epoche: 2\n",
      "---------\n",
      "Train loss: 0.34858 | Train accuracy: 0.87%\n",
      "Test loss: 0.35613 | Test accuracy: 0.87%\n",
      "Epoche: 4\n",
      "---------\n",
      "Train loss: 0.29567 | Train accuracy: 0.89%\n",
      "Test loss: 0.32733 | Test accuracy: 0.88%\n",
      "Epoche: 6\n",
      "---------\n",
      "Train loss: 0.26542 | Train accuracy: 0.90%\n",
      "Test loss: 0.31101 | Test accuracy: 0.89%\n",
      "Epoche: 8\n",
      "---------\n",
      "Train loss: 0.24450 | Train accuracy: 0.91%\n",
      "Test loss: 0.31013 | Test accuracy: 0.89%\n",
      "Epoche: 10\n",
      "---------\n",
      "Train loss: 0.22785 | Train accuracy: 0.91%\n",
      "Test loss: 0.29079 | Test accuracy: 0.89%\n"
     ]
    }
   ],
   "source": [
    "model_2 = LeNet(out_shape=len(class_names), activation_fn=nn.GELU)\n",
    "\n",
    "from tqdm.auto import tqdm\n",
    "\n",
    "loss_fn = torch.nn.CrossEntropyLoss()\n",
    "optim = torch.optim.SGD(model_2.parameters(), lr=0.01, momentum=0.9, nesterov=True)\n",
    "\n",
    "epoches = 11\n",
    "\n",
    "train_losses_2 = []\n",
    "test_losses_2 = []\n",
    "test_acc_2 = []\n",
    "\n",
    "for epoche in tqdm(range(epoches)):\n",
    "    train_info = train_step(model_2, train_dataloader, loss_fn, accuracy_fn, optim, device)\n",
    "    test_info = test_step(model_2, test_dataloader, loss_fn, accuracy_fn, device)\n",
    "\n",
    "    if epoche % 2 == 0:\n",
    "        print(f\"Epoche: {epoche}\\n---------\")\n",
    "        print(f\"Train loss: {train_info[0]:.5f} | Train accuracy: {train_info[1]:.2f}%\")\n",
    "        print(f\"Test loss: {test_info[0]:.5f} | Test accuracy: {test_info[1]:.2f}%\")\n",
    "\n",
    "    train_losses_2.append(train_info[0])\n",
    "    test_losses_2.append(test_info[0])\n",
    "    test_acc_2.append(test_info[1])"
   ]
  },
  {
   "cell_type": "code",
   "execution_count": 16,
   "id": "a7715675",
   "metadata": {
    "execution": {
     "iopub.execute_input": "2025-01-16T08:56:47.571826Z",
     "iopub.status.busy": "2025-01-16T08:56:47.571567Z",
     "iopub.status.idle": "2025-01-16T08:56:47.795939Z",
     "shell.execute_reply": "2025-01-16T08:56:47.795144Z"
    },
    "papermill": {
     "duration": 0.23556,
     "end_time": "2025-01-16T08:56:47.797570",
     "exception": false,
     "start_time": "2025-01-16T08:56:47.562010",
     "status": "completed"
    },
    "tags": []
   },
   "outputs": [
    {
     "data": {
      "image/png": "[encoded data removed]",
      "text/plain": [
       "<Figure size 800x600 with 1 Axes>"
      ]
     },
     "metadata": {},
     "output_type": "display_data"
    }
   ],
   "source": [
    "plt.figure(figsize=(8, 6))\n",
    "\n",
    "plt.plot(range(epoches), train_losses_2, c=\"darkorange\",label=\"Train loss\")\n",
    "plt.plot(range(epoches), test_losses_2, c=\"slateblue\", ls='dashed', label=\"Test loss\")\n",
    "plt.plot(range(epoches), test_acc_2, c=\"darkseagreen\", ls='dashdot', label=\"Test acc\")\n",
    "plt.xlabel(\"Epoch\")\n",
    "plt.ylabel(\"Loss\")\n",
    "plt.title(\"Losses using GELU\")\n",
    "plt.legend()\n",
    "plt.grid(True)\n",
    "plt.show()"
   ]
  },
  {
   "cell_type": "markdown",
   "id": "8ffe9bce",
   "metadata": {
    "papermill": {
     "duration": 0.009375,
     "end_time": "2025-01-16T08:56:47.817318",
     "exception": false,
     "start_time": "2025-01-16T08:56:47.807943",
     "status": "completed"
    },
    "tags": []
   },
   "source": [
    "# Comparsion"
   ]
  },
  {
   "cell_type": "code",
   "execution_count": 17,
   "id": "c1ce97d1",
   "metadata": {
    "execution": {
     "iopub.execute_input": "2025-01-16T08:56:47.836816Z",
     "iopub.status.busy": "2025-01-16T08:56:47.836581Z",
     "iopub.status.idle": "2025-01-16T08:56:48.153642Z",
     "shell.execute_reply": "2025-01-16T08:56:48.152755Z"
    },
    "papermill": {
     "duration": 0.328311,
     "end_time": "2025-01-16T08:56:48.155035",
     "exception": false,
     "start_time": "2025-01-16T08:56:47.826724",
     "status": "completed"
    },
    "tags": []
   },
   "outputs": [
    {
     "data": {
      "image/png": "[encoded data removed]",
      "text/plain": [
       "<Figure size 600x400 with 1 Axes>"
      ]
     },
     "metadata": {},
     "output_type": "display_data"
    }
   ],
   "source": [
    "plt.figure(figsize=(6, 4))\n",
    "\n",
    "plt.plot(range(epoches), test_losses_0, c=\"darkorange\", label=\"Loss using Sigmoid\")\n",
    "plt.plot(range(epoches), test_losses_1, c=\"slateblue\", ls='dashed', label=\"Loss using ReLU\")\n",
    "plt.plot(range(epoches), test_losses_2, c=\"darkseagreen\", ls='dashdot', label=\"Loss using GELU\")\n",
    "plt.xlabel(\"Epochs\")\n",
    "plt.ylabel(\"Loss\")\n",
    "plt.title(\"Comparison of Loss Functions\")\n",
    "plt.legend()\n",
    "plt.grid(True)\n",
    "plt.show()\n"
   ]
  },
  {
   "cell_type": "markdown",
   "id": "d2b36689",
   "metadata": {
    "papermill": {
     "duration": 0.010434,
     "end_time": "2025-01-16T08:56:48.176739",
     "exception": false,
     "start_time": "2025-01-16T08:56:48.166305",
     "status": "completed"
    },
    "tags": []
   },
   "source": [
    "# Activation map Visualization\n"
   ]
  },
  {
   "cell_type": "code",
   "execution_count": 18,
   "id": "bd7e8e0a",
   "metadata": {
    "execution": {
     "iopub.execute_input": "2025-01-16T08:56:48.198964Z",
     "iopub.status.busy": "2025-01-16T08:56:48.198704Z",
     "iopub.status.idle": "2025-01-16T08:56:48.203175Z",
     "shell.execute_reply": "2025-01-16T08:56:48.202299Z"
    },
    "papermill": {
     "duration": 0.017317,
     "end_time": "2025-01-16T08:56:48.204922",
     "exception": false,
     "start_time": "2025-01-16T08:56:48.187605",
     "status": "completed"
    },
    "tags": []
   },
   "outputs": [],
   "source": [
    "activations = {}\n",
    "\n",
    "layer_types = {}\n",
    "\n",
    "def hook_fn(name, layer_type):\n",
    "    def hook(module, input, output):\n",
    "        activations[name] = output\n",
    "        layer_types[name] = layer_type\n",
    "    return hook\n",
    "\n",
    "for name, module in model_2.named_modules():\n",
    "    layer_type = type(module).__name__\n",
    "    module.register_forward_hook(hook_fn(name, layer_type))"
   ]
  },
  {
   "cell_type": "code",
   "execution_count": 19,
   "id": "14efd465",
   "metadata": {
    "execution": {
     "iopub.execute_input": "2025-01-16T08:56:48.227063Z",
     "iopub.status.busy": "2025-01-16T08:56:48.226812Z",
     "iopub.status.idle": "2025-01-16T08:56:48.232697Z",
     "shell.execute_reply": "2025-01-16T08:56:48.231935Z"
    },
    "papermill": {
     "duration": 0.018176,
     "end_time": "2025-01-16T08:56:48.233899",
     "exception": false,
     "start_time": "2025-01-16T08:56:48.215723",
     "status": "completed"
    },
    "tags": []
   },
   "outputs": [
    {
     "data": {
      "text/plain": [
       "'Sneaker'"
      ]
     },
     "execution_count": 19,
     "metadata": {},
     "output_type": "execute_result"
    }
   ],
   "source": [
    "random_idx = torch.randint(0, len(test_data), size=[1]).item()\n",
    "img, label = test_data[random_idx]\n",
    "class_names[label]"
   ]
  },
  {
   "cell_type": "code",
   "execution_count": 20,
   "id": "2e326b61",
   "metadata": {
    "execution": {
     "iopub.execute_input": "2025-01-16T08:56:48.255450Z",
     "iopub.status.busy": "2025-01-16T08:56:48.255191Z",
     "iopub.status.idle": "2025-01-16T08:56:48.261201Z",
     "shell.execute_reply": "2025-01-16T08:56:48.260579Z"
    },
    "papermill": {
     "duration": 0.017881,
     "end_time": "2025-01-16T08:56:48.262403",
     "exception": false,
     "start_time": "2025-01-16T08:56:48.244522",
     "status": "completed"
    },
    "tags": []
   },
   "outputs": [],
   "source": [
    "out = model_2.cpu()(img.unsqueeze(dim=0))"
   ]
  },
  {
   "cell_type": "code",
   "execution_count": 21,
   "id": "8c256acc",
   "metadata": {
    "execution": {
     "iopub.execute_input": "2025-01-16T08:56:48.284087Z",
     "iopub.status.busy": "2025-01-16T08:56:48.283888Z",
     "iopub.status.idle": "2025-01-16T08:56:51.142064Z",
     "shell.execute_reply": "2025-01-16T08:56:51.141112Z"
    },
    "papermill": {
     "duration": 2.870251,
     "end_time": "2025-01-16T08:56:51.143408",
     "exception": false,
     "start_time": "2025-01-16T08:56:48.273157",
     "status": "completed"
    },
    "tags": []
   },
   "outputs": [
    {
     "name": "stdout",
     "output_type": "stream",
     "text": [
      "Visualizing: Conv2d, shape: torch.Size([1, 6, 28, 28])\n"
     ]
    },
    {
     "data": {
      "image/png": "[encoded data removed]",
      "text/plain": [
       "<Figure size 1500x500 with 6 Axes>"
      ]
     },
     "metadata": {},
     "output_type": "display_data"
    },
    {
     "name": "stdout",
     "output_type": "stream",
     "text": [
      "Visualizing: GELU, shape: torch.Size([1, 6, 28, 28])\n"
     ]
    },
    {
     "data": {
      "image/png": "[encoded data removed]",
      "text/plain": [
       "<Figure size 1500x500 with 6 Axes>"
      ]
     },
     "metadata": {},
     "output_type": "display_data"
    },
    {
     "name": "stdout",
     "output_type": "stream",
     "text": [
      "Visualizing: MaxPool2d, shape: torch.Size([1, 6, 14, 14])\n"
     ]
    },
    {
     "data": {
      "image/png": "[encoded data removed]",
      "text/plain": [
       "<Figure size 1500x500 with 6 Axes>"
      ]
     },
     "metadata": {},
     "output_type": "display_data"
    },
    {
     "name": "stdout",
     "output_type": "stream",
     "text": [
      "Visualizing: Conv2d, shape: torch.Size([1, 16, 10, 10])\n"
     ]
    },
    {
     "data": {
      "image/png": "[encoded data removed]",
      "text/plain": [
       "<Figure size 1500x500 with 6 Axes>"
      ]
     },
     "metadata": {},
     "output_type": "display_data"
    },
    {
     "name": "stdout",
     "output_type": "stream",
     "text": [
      "Visualizing: GELU, shape: torch.Size([1, 16, 10, 10])\n"
     ]
    },
    {
     "data": {
      "image/png": "[encoded data removed]",
      "text/plain": [
       "<Figure size 1500x500 with 6 Axes>"
      ]
     },
     "metadata": {},
     "output_type": "display_data"
    },
    {
     "name": "stdout",
     "output_type": "stream",
     "text": [
      "Visualizing: MaxPool2d, shape: torch.Size([1, 16, 5, 5])\n"
     ]
    },
    {
     "data": {
      "image/png": "[encoded data removed]",
      "text/plain": [
       "<Figure size 1500x500 with 6 Axes>"
      ]
     },
     "metadata": {},
     "output_type": "display_data"
    },
    {
     "name": "stdout",
     "output_type": "stream",
     "text": [
      "Visualizing: Sequential, shape: torch.Size([1, 16, 5, 5])\n"
     ]
    },
    {
     "data": {
      "image/png": "[encoded data removed]",
      "text/plain": [
       "<Figure size 1500x500 with 6 Axes>"
      ]
     },
     "metadata": {},
     "output_type": "display_data"
    }
   ],
   "source": [
    "def visualize_activation(activation, title, num_channels=6):\n",
    "    activation = activation.squeeze(0) \n",
    "    num_features = min(activation.size(0), num_channels)\n",
    "    plt.figure(figsize=(15, 5))\n",
    "    for i in range(num_features):\n",
    "        plt.subplot(1, num_features, i + 1)\n",
    "        plt.imshow(activation[i].detach().numpy(), cmap='coolwarm')\n",
    "        plt.axis('off')\n",
    "        plt.title(f\"{title} - Channel {i + 1}\")\n",
    "    plt.show()\n",
    "\n",
    "for name, activation in activations.items():\n",
    "    if \"block\" not in name:\n",
    "        break\n",
    "    layer_type = layer_types[name]\n",
    "    print(f\"Visualizing: {layer_type}, shape: {activation.shape}\")\n",
    "    visualize_activation(activation, layer_type)"
   ]
  }
 ],
 "metadata": {
  "kaggle": {
   "accelerator": "nvidiaTeslaT4",
   "dataSources": [],
   "dockerImageVersionId": 30823,
   "isGpuEnabled": true,
   "isInternetEnabled": true,
   "language": "python",
   "sourceType": "notebook"
  },
  "kernelspec": {
   "display_name": "Python 3",
   "language": "python",
   "name": "python3"
  },
  "language_info": {
   "codemirror_mode": {
    "name": "ipython",
    "version": 3
   },
   "file_extension": ".py",
   "mimetype": "text/x-python",
   "name": "python",
   "nbconvert_exporter": "python",
   "pygments_lexer": "ipython3",
   "version": "3.10.12"
  },
  "papermill": {
   "default_parameters": {},
   "duration": 285.42807,
   "end_time": "2025-01-16T08:56:53.660020",
   "environment_variables": {},
   "exception": null,
   "input_path": "__notebook__.ipynb",
   "output_path": "__notebook__.ipynb",
   "parameters": {},
   "start_time": "2025-01-16T08:52:08.231950",
   "version": "2.6.0"
  },
  "widgets": {
   "application/vnd.jupyter.widget-state+json": {
    "state": {
     "03694064891d4299b22f398c26a1257a": {
      "model_module": "@jupyter-widgets/controls",
      "model_module_version": "2.0.0",
      "model_name": "HTMLStyleModel",
      "state": {
       "_model_module": "@jupyter-widgets/controls",
       "_model_module_version": "2.0.0",
       "_model_name": "HTMLStyleModel",
       "_view_count": null,
       "_view_module": "@jupyter-widgets/base",
       "_view_module_version": "2.0.0",
       "_view_name": "StyleView",
       "background": null,
       "description_width": "",
       "font_size": null,
       "text_color": null
      }
     },
     "057a093f51e74bf5b62099c849a53caa": {
      "model_module": "@jupyter-widgets/controls",
      "model_module_version": "2.0.0",
      "model_name": "HTMLStyleModel",
      "state": {
       "_model_module": "@jupyter-widgets/controls",
       "_model_module_version": "2.0.0",
       "_model_name": "HTMLStyleModel",
       "_view_count": null,
       "_view_module": "@jupyter-widgets/base",
       "_view_module_version": "2.0.0",
       "_view_name": "StyleView",
       "background": null,
       "description_width": "",
       "font_size": null,
       "text_color": null
      }
     },
     "0eedcbcd93c44a3583ac8538a70d49f6": {
      "model_module": "@jupyter-widgets/controls",
      "model_module_version": "2.0.0",
      "model_name": "FloatProgressModel",
      "state": {
       "_dom_classes": [],
       "_model_module": "@jupyter-widgets/controls",
       "_model_module_version": "2.0.0",
       "_model_name": "FloatProgressModel",
       "_view_count": null,
       "_view_module": "@jupyter-widgets/controls",
       "_view_module_version": "2.0.0",
       "_view_name": "ProgressView",
       "bar_style": "success",
       "description": "",
       "description_allow_html": false,
       "layout": "IPY_MODEL_623c7dfd387d4c58acd26ac0a5109651",
       "max": 11.0,
       "min": 0.0,
       "orientation": "horizontal",
       "style": "IPY_MODEL_94798e9cb4c14a80bbdb2c5d07c8b19a",
       "tabbable": null,
       "tooltip": null,
       "value": 11.0
      }
     },
     "14831eeda35a4201942ecdd306f3e285": {
      "model_module": "@jupyter-widgets/controls",
      "model_module_version": "2.0.0",
      "model_name": "FloatProgressModel",
      "state": {
       "_dom_classes": [],
       "_model_module": "@jupyter-widgets/controls",
       "_model_module_version": "2.0.0",
       "_model_name": "FloatProgressModel",
       "_view_count": null,
       "_view_module": "@jupyter-widgets/controls",
       "_view_module_version": "2.0.0",
       "_view_name": "ProgressView",
       "bar_style": "success",
       "description": "",
       "description_allow_html": false,
       "layout": "IPY_MODEL_d1b826f7111e4bc1b519d678217de3ff",
       "max": 11.0,
       "min": 0.0,
       "orientation": "horizontal",
       "style": "IPY_MODEL_9c8e7cd87bef4df4b1336be48124d4d0",
       "tabbable": null,
       "tooltip": null,
       "value": 11.0
      }
     },
     "206896b33a8b4216b62d6125c7b650f3": {
      "model_module": "@jupyter-widgets/controls",
      "model_module_version": "2.0.0",
      "model_name": "HTMLStyleModel",
      "state": {
       "_model_module": "@jupyter-widgets/controls",
       "_model_module_version": "2.0.0",
       "_model_name": "HTMLStyleModel",
       "_view_count": null,
       "_view_module": "@jupyter-widgets/base",
       "_view_module_version": "2.0.0",
       "_view_name": "StyleView",
       "background": null,
       "description_width": "",
       "font_size": null,
       "text_color": null
      }
     },
     "22f2f4ef0fb1416f87791ec9650c392c": {
      "model_module": "@jupyter-widgets/base",
      "model_module_version": "2.0.0",
      "model_name": "LayoutModel",
      "state": {
       "_model_module": "@jupyter-widgets/base",
       "_model_module_version": "2.0.0",
       "_model_name": "LayoutModel",
       "_view_count": null,
       "_view_module": "@jupyter-widgets/base",
       "_view_module_version": "2.0.0",
       "_view_name": "LayoutView",
       "align_content": null,
       "align_items": null,
       "align_self": null,
       "border_bottom": null,
       "border_left": null,
       "border_right": null,
       "border_top": null,
       "bottom": null,
       "display": null,
       "flex": null,
       "flex_flow": null,
       "grid_area": null,
       "grid_auto_columns": null,
       "grid_auto_flow": null,
       "grid_auto_rows": null,
       "grid_column": null,
       "grid_gap": null,
       "grid_row": null,
       "grid_template_areas": null,
       "grid_template_columns": null,
       "grid_template_rows": null,
       "height": null,
       "justify_content": null,
       "justify_items": null,
       "left": null,
       "margin": null,
       "max_height": null,
       "max_width": null,
       "min_height": null,
       "min_width": null,
       "object_fit": null,
       "object_position": null,
       "order": null,
       "overflow": null,
       "padding": null,
       "right": null,
       "top": null,
       "visibility": null,
       "width": null
      }
     },
     "230866a4bfa54ca79d7c04a3d2497f53": {
      "model_module": "@jupyter-widgets/controls",
      "model_module_version": "2.0.0",
      "model_name": "HTMLModel",
      "state": {
       "_dom_classes": [],
       "_model_module": "@jupyter-widgets/controls",
       "_model_module_version": "2.0.0",
       "_model_name": "HTMLModel",
       "_view_count": null,
       "_view_module": "@jupyter-widgets/controls",
       "_view_module_version": "2.0.0",
       "_view_name": "HTMLView",
       "description": "",
       "description_allow_html": false,
       "layout": "IPY_MODEL_f4b5635c50194255b98c648e7c2acc1f",
       "placeholder": "​",
       "style": "IPY_MODEL_03694064891d4299b22f398c26a1257a",
       "tabbable": null,
       "tooltip": null,
       "value": "100%"
      }
     },
     "30e57f803cf94c8685f5eea08c90564c": {
      "model_module": "@jupyter-widgets/base",
      "model_module_version": "2.0.0",
      "model_name": "LayoutModel",
      "state": {
       "_model_module": "@jupyter-widgets/base",
       "_model_module_version": "2.0.0",
       "_model_name": "LayoutModel",
       "_view_count": null,
       "_view_module": "@jupyter-widgets/base",
       "_view_module_version": "2.0.0",
       "_view_name": "LayoutView",
       "align_content": null,
       "align_items": null,
       "align_self": null,
       "border_bottom": null,
       "border_left": null,
       "border_right": null,
       "border_top": null,
       "bottom": null,
       "display": null,
       "flex": null,
       "flex_flow": null,
       "grid_area": null,
       "grid_auto_columns": null,
       "grid_auto_flow": null,
       "grid_auto_rows": null,
       "grid_column": null,
       "grid_gap": null,
       "grid_row": null,
       "grid_template_areas": null,
       "grid_template_columns": null,
       "grid_template_rows": null,
       "height": null,
       "justify_content": null,
       "justify_items": null,
       "left": null,
       "margin": null,
       "max_height": null,
       "max_width": null,
       "min_height": null,
       "min_width": null,
       "object_fit": null,
       "object_position": null,
       "order": null,
       "overflow": null,
       "padding": null,
       "right": null,
       "top": null,
       "visibility": null,
       "width": null
      }
     },
     "391d0664751342f0a3b019e44b3f8074": {
      "model_module": "@jupyter-widgets/controls",
      "model_module_version": "2.0.0",
      "model_name": "HTMLModel",
      "state": {
       "_dom_classes": [],
       "_model_module": "@jupyter-widgets/controls",
       "_model_module_version": "2.0.0",
       "_model_name": "HTMLModel",
       "_view_count": null,
       "_view_module": "@jupyter-widgets/controls",
       "_view_module_version": "2.0.0",
       "_view_name": "HTMLView",
       "description": "",
       "description_allow_html": false,
       "layout": "IPY_MODEL_da06c4575f0443e9b63977e08a0ffcd5",
       "placeholder": "​",
       "style": "IPY_MODEL_460a955c62a74e4d9fb72cde56f59af8",
       "tabbable": null,
       "tooltip": null,
       "value": " 11/11 [01:26&lt;00:00,  7.80s/it]"
      }
     },
     "460a955c62a74e4d9fb72cde56f59af8": {
      "model_module": "@jupyter-widgets/controls",
      "model_module_version": "2.0.0",
      "model_name": "HTMLStyleModel",
      "state": {
       "_model_module": "@jupyter-widgets/controls",
       "_model_module_version": "2.0.0",
       "_model_name": "HTMLStyleModel",
       "_view_count": null,
       "_view_module": "@jupyter-widgets/base",
       "_view_module_version": "2.0.0",
       "_view_name": "StyleView",
       "background": null,
       "description_width": "",
       "font_size": null,
       "text_color": null
      }
     },
     "623c7dfd387d4c58acd26ac0a5109651": {
      "model_module": "@jupyter-widgets/base",
      "model_module_version": "2.0.0",
      "model_name": "LayoutModel",
      "state": {
       "_model_module": "@jupyter-widgets/base",
       "_model_module_version": "2.0.0",
       "_model_name": "LayoutModel",
       "_view_count": null,
       "_view_module": "@jupyter-widgets/base",
       "_view_module_version": "2.0.0",
       "_view_name": "LayoutView",
       "align_content": null,
       "align_items": null,
       "align_self": null,
       "border_bottom": null,
       "border_left": null,
       "border_right": null,
       "border_top": null,
       "bottom": null,
       "display": null,
       "flex": null,
       "flex_flow": null,
       "grid_area": null,
       "grid_auto_columns": null,
       "grid_auto_flow": null,
       "grid_auto_rows": null,
       "grid_column": null,
       "grid_gap": null,
       "grid_row": null,
       "grid_template_areas": null,
       "grid_template_columns": null,
       "grid_template_rows": null,
       "height": null,
       "justify_content": null,
       "justify_items": null,
       "left": null,
       "margin": null,
       "max_height": null,
       "max_width": null,
       "min_height": null,
       "min_width": null,
       "object_fit": null,
       "object_position": null,
       "order": null,
       "overflow": null,
       "padding": null,
       "right": null,
       "top": null,
       "visibility": null,
       "width": null
      }
     },
     "71b5d4b1f2604383b5b0deb66bb3a078": {
      "model_module": "@jupyter-widgets/base",
      "model_module_version": "2.0.0",
      "model_name": "LayoutModel",
      "state": {
       "_model_module": "@jupyter-widgets/base",
       "_model_module_version": "2.0.0",
       "_model_name": "LayoutModel",
       "_view_count": null,
       "_view_module": "@jupyter-widgets/base",
       "_view_module_version": "2.0.0",
       "_view_name": "LayoutView",
       "align_content": null,
       "align_items": null,
       "align_self": null,
       "border_bottom": null,
       "border_left": null,
       "border_right": null,
       "border_top": null,
       "bottom": null,
       "display": null,
       "flex": null,
       "flex_flow": null,
       "grid_area": null,
       "grid_auto_columns": null,
       "grid_auto_flow": null,
       "grid_auto_rows": null,
       "grid_column": null,
       "grid_gap": null,
       "grid_row": null,
       "grid_template_areas": null,
       "grid_template_columns": null,
       "grid_template_rows": null,
       "height": null,
       "justify_content": null,
       "justify_items": null,
       "left": null,
       "margin": null,
       "max_height": null,
       "max_width": null,
       "min_height": null,
       "min_width": null,
       "object_fit": null,
       "object_position": null,
       "order": null,
       "overflow": null,
       "padding": null,
       "right": null,
       "top": null,
       "visibility": null,
       "width": null
      }
     },
     "800a091cbc5940fe9746a2e52fb9e8a3": {
      "model_module": "@jupyter-widgets/controls",
      "model_module_version": "2.0.0",
      "model_name": "FloatProgressModel",
      "state": {
       "_dom_classes": [],
       "_model_module": "@jupyter-widgets/controls",
       "_model_module_version": "2.0.0",
       "_model_name": "FloatProgressModel",
       "_view_count": null,
       "_view_module": "@jupyter-widgets/controls",
       "_view_module_version": "2.0.0",
       "_view_name": "ProgressView",
       "bar_style": "success",
       "description": "",
       "description_allow_html": false,
       "layout": "IPY_MODEL_30e57f803cf94c8685f5eea08c90564c",
       "max": 11.0,
       "min": 0.0,
       "orientation": "horizontal",
       "style": "IPY_MODEL_947e862c22ee4f9092b0efeceaccf869",
       "tabbable": null,
       "tooltip": null,
       "value": 11.0
      }
     },
     "86def3cdd3ca4f5da3037ae25f696b9f": {
      "model_module": "@jupyter-widgets/controls",
      "model_module_version": "2.0.0",
      "model_name": "HTMLModel",
      "state": {
       "_dom_classes": [],
       "_model_module": "@jupyter-widgets/controls",
       "_model_module_version": "2.0.0",
       "_model_name": "HTMLModel",
       "_view_count": null,
       "_view_module": "@jupyter-widgets/controls",
       "_view_module_version": "2.0.0",
       "_view_name": "HTMLView",
       "description": "",
       "description_allow_html": false,
       "layout": "IPY_MODEL_b0ba82a3760744c885669b5b27269268",
       "placeholder": "​",
       "style": "IPY_MODEL_cdf2cf48723e4cddb518f05bae439e9e",
       "tabbable": null,
       "tooltip": null,
       "value": "100%"
      }
     },
     "94129950ae824861b13bf27612c1acce": {
      "model_module": "@jupyter-widgets/base",
      "model_module_version": "2.0.0",
      "model_name": "LayoutModel",
      "state": {
       "_model_module": "@jupyter-widgets/base",
       "_model_module_version": "2.0.0",
       "_model_name": "LayoutModel",
       "_view_count": null,
       "_view_module": "@jupyter-widgets/base",
       "_view_module_version": "2.0.0",
       "_view_name": "LayoutView",
       "align_content": null,
       "align_items": null,
       "align_self": null,
       "border_bottom": null,
       "border_left": null,
       "border_right": null,
       "border_top": null,
       "bottom": null,
       "display": null,
       "flex": null,
       "flex_flow": null,
       "grid_area": null,
       "grid_auto_columns": null,
       "grid_auto_flow": null,
       "grid_auto_rows": null,
       "grid_column": null,
       "grid_gap": null,
       "grid_row": null,
       "grid_template_areas": null,
       "grid_template_columns": null,
       "grid_template_rows": null,
       "height": null,
       "justify_content": null,
       "justify_items": null,
       "left": null,
       "margin": null,
       "max_height": null,
       "max_width": null,
       "min_height": null,
       "min_width": null,
       "object_fit": null,
       "object_position": null,
       "order": null,
       "overflow": null,
       "padding": null,
       "right": null,
       "top": null,
       "visibility": null,
       "width": null
      }
     },
     "94798e9cb4c14a80bbdb2c5d07c8b19a": {
      "model_module": "@jupyter-widgets/controls",
      "model_module_version": "2.0.0",
      "model_name": "ProgressStyleModel",
      "state": {
       "_model_module": "@jupyter-widgets/controls",
       "_model_module_version": "2.0.0",
       "_model_name": "ProgressStyleModel",
       "_view_count": null,
       "_view_module": "@jupyter-widgets/base",
       "_view_module_version": "2.0.0",
       "_view_name": "StyleView",
       "bar_color": null,
       "description_width": ""
      }
     },
     "947e862c22ee4f9092b0efeceaccf869": {
      "model_module": "@jupyter-widgets/controls",
      "model_module_version": "2.0.0",
      "model_name": "ProgressStyleModel",
      "state": {
       "_model_module": "@jupyter-widgets/controls",
       "_model_module_version": "2.0.0",
       "_model_name": "ProgressStyleModel",
       "_view_count": null,
       "_view_module": "@jupyter-widgets/base",
       "_view_module_version": "2.0.0",
       "_view_name": "StyleView",
       "bar_color": null,
       "description_width": ""
      }
     },
     "9c8e7cd87bef4df4b1336be48124d4d0": {
      "model_module": "@jupyter-widgets/controls",
      "model_module_version": "2.0.0",
      "model_name": "ProgressStyleModel",
      "state": {
       "_model_module": "@jupyter-widgets/controls",
       "_model_module_version": "2.0.0",
       "_model_name": "ProgressStyleModel",
       "_view_count": null,
       "_view_module": "@jupyter-widgets/base",
       "_view_module_version": "2.0.0",
       "_view_name": "StyleView",
       "bar_color": null,
       "description_width": ""
      }
     },
     "a12d41db87034a52879518b74b5ff48b": {
      "model_module": "@jupyter-widgets/base",
      "model_module_version": "2.0.0",
      "model_name": "LayoutModel",
      "state": {
       "_model_module": "@jupyter-widgets/base",
       "_model_module_version": "2.0.0",
       "_model_name": "LayoutModel",
       "_view_count": null,
       "_view_module": "@jupyter-widgets/base",
       "_view_module_version": "2.0.0",
       "_view_name": "LayoutView",
       "align_content": null,
       "align_items": null,
       "align_self": null,
       "border_bottom": null,
       "border_left": null,
       "border_right": null,
       "border_top": null,
       "bottom": null,
       "display": null,
       "flex": null,
       "flex_flow": null,
       "grid_area": null,
       "grid_auto_columns": null,
       "grid_auto_flow": null,
       "grid_auto_rows": null,
       "grid_column": null,
       "grid_gap": null,
       "grid_row": null,
       "grid_template_areas": null,
       "grid_template_columns": null,
       "grid_template_rows": null,
       "height": null,
       "justify_content": null,
       "justify_items": null,
       "left": null,
       "margin": null,
       "max_height": null,
       "max_width": null,
       "min_height": null,
       "min_width": null,
       "object_fit": null,
       "object_position": null,
       "order": null,
       "overflow": null,
       "padding": null,
       "right": null,
       "top": null,
       "visibility": null,
       "width": null
      }
     },
     "ae1e85b3836c49aeac91226734d0e7d4": {
      "model_module": "@jupyter-widgets/base",
      "model_module_version": "2.0.0",
      "model_name": "LayoutModel",
      "state": {
       "_model_module": "@jupyter-widgets/base",
       "_model_module_version": "2.0.0",
       "_model_name": "LayoutModel",
       "_view_count": null,
       "_view_module": "@jupyter-widgets/base",
       "_view_module_version": "2.0.0",
       "_view_name": "LayoutView",
       "align_content": null,
       "align_items": null,
       "align_self": null,
       "border_bottom": null,
       "border_left": null,
       "border_right": null,
       "border_top": null,
       "bottom": null,
       "display": null,
       "flex": null,
       "flex_flow": null,
       "grid_area": null,
       "grid_auto_columns": null,
       "grid_auto_flow": null,
       "grid_auto_rows": null,
       "grid_column": null,
       "grid_gap": null,
       "grid_row": null,
       "grid_template_areas": null,
       "grid_template_columns": null,
       "grid_template_rows": null,
       "height": null,
       "justify_content": null,
       "justify_items": null,
       "left": null,
       "margin": null,
       "max_height": null,
       "max_width": null,
       "min_height": null,
       "min_width": null,
       "object_fit": null,
       "object_position": null,
       "order": null,
       "overflow": null,
       "padding": null,
       "right": null,
       "top": null,
       "visibility": null,
       "width": null
      }
     },
     "b0ba82a3760744c885669b5b27269268": {
      "model_module": "@jupyter-widgets/base",
      "model_module_version": "2.0.0",
      "model_name": "LayoutModel",
      "state": {
       "_model_module": "@jupyter-widgets/base",
       "_model_module_version": "2.0.0",
       "_model_name": "LayoutModel",
       "_view_count": null,
       "_view_module": "@jupyter-widgets/base",
       "_view_module_version": "2.0.0",
       "_view_name": "LayoutView",
       "align_content": null,
       "align_items": null,
       "align_self": null,
       "border_bottom": null,
       "border_left": null,
       "border_right": null,
       "border_top": null,
       "bottom": null,
       "display": null,
       "flex": null,
       "flex_flow": null,
       "grid_area": null,
       "grid_auto_columns": null,
       "grid_auto_flow": null,
       "grid_auto_rows": null,
       "grid_column": null,
       "grid_gap": null,
       "grid_row": null,
       "grid_template_areas": null,
       "grid_template_columns": null,
       "grid_template_rows": null,
       "height": null,
       "justify_content": null,
       "justify_items": null,
       "left": null,
       "margin": null,
       "max_height": null,
       "max_width": null,
       "min_height": null,
       "min_width": null,
       "object_fit": null,
       "object_position": null,
       "order": null,
       "overflow": null,
       "padding": null,
       "right": null,
       "top": null,
       "visibility": null,
       "width": null
      }
     },
     "b5b667ad3c5c4d25b65d500d9d6b2076": {
      "model_module": "@jupyter-widgets/controls",
      "model_module_version": "2.0.0",
      "model_name": "HTMLModel",
      "state": {
       "_dom_classes": [],
       "_model_module": "@jupyter-widgets/controls",
       "_model_module_version": "2.0.0",
       "_model_name": "HTMLModel",
       "_view_count": null,
       "_view_module": "@jupyter-widgets/controls",
       "_view_module_version": "2.0.0",
       "_view_name": "HTMLView",
       "description": "",
       "description_allow_html": false,
       "layout": "IPY_MODEL_a12d41db87034a52879518b74b5ff48b",
       "placeholder": "​",
       "style": "IPY_MODEL_206896b33a8b4216b62d6125c7b650f3",
       "tabbable": null,
       "tooltip": null,
       "value": " 11/11 [01:26&lt;00:00,  7.88s/it]"
      }
     },
     "c71efc824bcb4dbaa261988aceadc3a3": {
      "model_module": "@jupyter-widgets/controls",
      "model_module_version": "2.0.0",
      "model_name": "HBoxModel",
      "state": {
       "_dom_classes": [],
       "_model_module": "@jupyter-widgets/controls",
       "_model_module_version": "2.0.0",
       "_model_name": "HBoxModel",
       "_view_count": null,
       "_view_module": "@jupyter-widgets/controls",
       "_view_module_version": "2.0.0",
       "_view_name": "HBoxView",
       "box_style": "",
       "children": [
        "IPY_MODEL_c83e024772d6435bbd8531f4b9f4b094",
        "IPY_MODEL_14831eeda35a4201942ecdd306f3e285",
        "IPY_MODEL_b5b667ad3c5c4d25b65d500d9d6b2076"
       ],
       "layout": "IPY_MODEL_94129950ae824861b13bf27612c1acce",
       "tabbable": null,
       "tooltip": null
      }
     },
     "c83e024772d6435bbd8531f4b9f4b094": {
      "model_module": "@jupyter-widgets/controls",
      "model_module_version": "2.0.0",
      "model_name": "HTMLModel",
      "state": {
       "_dom_classes": [],
       "_model_module": "@jupyter-widgets/controls",
       "_model_module_version": "2.0.0",
       "_model_name": "HTMLModel",
       "_view_count": null,
       "_view_module": "@jupyter-widgets/controls",
       "_view_module_version": "2.0.0",
       "_view_name": "HTMLView",
       "description": "",
       "description_allow_html": false,
       "layout": "IPY_MODEL_cfcdee1c1a09443a924225246ffcf2fb",
       "placeholder": "​",
       "style": "IPY_MODEL_fe5a449208d945c195ec9a14b08b1154",
       "tabbable": null,
       "tooltip": null,
       "value": "100%"
      }
     },
     "cdf2cf48723e4cddb518f05bae439e9e": {
      "model_module": "@jupyter-widgets/controls",
      "model_module_version": "2.0.0",
      "model_name": "HTMLStyleModel",
      "state": {
       "_model_module": "@jupyter-widgets/controls",
       "_model_module_version": "2.0.0",
       "_model_name": "HTMLStyleModel",
       "_view_count": null,
       "_view_module": "@jupyter-widgets/base",
       "_view_module_version": "2.0.0",
       "_view_name": "StyleView",
       "background": null,
       "description_width": "",
       "font_size": null,
       "text_color": null
      }
     },
     "ce43c0e7feb94bc29ec2e49a69203f96": {
      "model_module": "@jupyter-widgets/controls",
      "model_module_version": "2.0.0",
      "model_name": "HTMLModel",
      "state": {
       "_dom_classes": [],
       "_model_module": "@jupyter-widgets/controls",
       "_model_module_version": "2.0.0",
       "_model_name": "HTMLModel",
       "_view_count": null,
       "_view_module": "@jupyter-widgets/controls",
       "_view_module_version": "2.0.0",
       "_view_name": "HTMLView",
       "description": "",
       "description_allow_html": false,
       "layout": "IPY_MODEL_ae1e85b3836c49aeac91226734d0e7d4",
       "placeholder": "​",
       "style": "IPY_MODEL_057a093f51e74bf5b62099c849a53caa",
       "tabbable": null,
       "tooltip": null,
       "value": " 11/11 [01:28&lt;00:00,  7.92s/it]"
      }
     },
     "cfcdee1c1a09443a924225246ffcf2fb": {
      "model_module": "@jupyter-widgets/base",
      "model_module_version": "2.0.0",
      "model_name": "LayoutModel",
      "state": {
       "_model_module": "@jupyter-widgets/base",
       "_model_module_version": "2.0.0",
       "_model_name": "LayoutModel",
       "_view_count": null,
       "_view_module": "@jupyter-widgets/base",
       "_view_module_version": "2.0.0",
       "_view_name": "LayoutView",
       "align_content": null,
       "align_items": null,
       "align_self": null,
       "border_bottom": null,
       "border_left": null,
       "border_right": null,
       "border_top": null,
       "bottom": null,
       "display": null,
       "flex": null,
       "flex_flow": null,
       "grid_area": null,
       "grid_auto_columns": null,
       "grid_auto_flow": null,
       "grid_auto_rows": null,
       "grid_column": null,
       "grid_gap": null,
       "grid_row": null,
       "grid_template_areas": null,
       "grid_template_columns": null,
       "grid_template_rows": null,
       "height": null,
       "justify_content": null,
       "justify_items": null,
       "left": null,
       "margin": null,
       "max_height": null,
       "max_width": null,
       "min_height": null,
       "min_width": null,
       "object_fit": null,
       "object_position": null,
       "order": null,
       "overflow": null,
       "padding": null,
       "right": null,
       "top": null,
       "visibility": null,
       "width": null
      }
     },
     "d1b826f7111e4bc1b519d678217de3ff": {
      "model_module": "@jupyter-widgets/base",
      "model_module_version": "2.0.0",
      "model_name": "LayoutModel",
      "state": {
       "_model_module": "@jupyter-widgets/base",
       "_model_module_version": "2.0.0",
       "_model_name": "LayoutModel",
       "_view_count": null,
       "_view_module": "@jupyter-widgets/base",
       "_view_module_version": "2.0.0",
       "_view_name": "LayoutView",
       "align_content": null,
       "align_items": null,
       "align_self": null,
       "border_bottom": null,
       "border_left": null,
       "border_right": null,
       "border_top": null,
       "bottom": null,
       "display": null,
       "flex": null,
       "flex_flow": null,
       "grid_area": null,
       "grid_auto_columns": null,
       "grid_auto_flow": null,
       "grid_auto_rows": null,
       "grid_column": null,
       "grid_gap": null,
       "grid_row": null,
       "grid_template_areas": null,
       "grid_template_columns": null,
       "grid_template_rows": null,
       "height": null,
       "justify_content": null,
       "justify_items": null,
       "left": null,
       "margin": null,
       "max_height": null,
       "max_width": null,
       "min_height": null,
       "min_width": null,
       "object_fit": null,
       "object_position": null,
       "order": null,
       "overflow": null,
       "padding": null,
       "right": null,
       "top": null,
       "visibility": null,
       "width": null
      }
     },
     "d318b5001dd140f3a1d681e1d1d132e2": {
      "model_module": "@jupyter-widgets/controls",
      "model_module_version": "2.0.0",
      "model_name": "HBoxModel",
      "state": {
       "_dom_classes": [],
       "_model_module": "@jupyter-widgets/controls",
       "_model_module_version": "2.0.0",
       "_model_name": "HBoxModel",
       "_view_count": null,
       "_view_module": "@jupyter-widgets/controls",
       "_view_module_version": "2.0.0",
       "_view_name": "HBoxView",
       "box_style": "",
       "children": [
        "IPY_MODEL_86def3cdd3ca4f5da3037ae25f696b9f",
        "IPY_MODEL_0eedcbcd93c44a3583ac8538a70d49f6",
        "IPY_MODEL_391d0664751342f0a3b019e44b3f8074"
       ],
       "layout": "IPY_MODEL_71b5d4b1f2604383b5b0deb66bb3a078",
       "tabbable": null,
       "tooltip": null
      }
     },
     "da06c4575f0443e9b63977e08a0ffcd5": {
      "model_module": "@jupyter-widgets/base",
      "model_module_version": "2.0.0",
      "model_name": "LayoutModel",
      "state": {
       "_model_module": "@jupyter-widgets/base",
       "_model_module_version": "2.0.0",
       "_model_name": "LayoutModel",
       "_view_count": null,
       "_view_module": "@jupyter-widgets/base",
       "_view_module_version": "2.0.0",
       "_view_name": "LayoutView",
       "align_content": null,
       "align_items": null,
       "align_self": null,
       "border_bottom": null,
       "border_left": null,
       "border_right": null,
       "border_top": null,
       "bottom": null,
       "display": null,
       "flex": null,
       "flex_flow": null,
       "grid_area": null,
       "grid_auto_columns": null,
       "grid_auto_flow": null,
       "grid_auto_rows": null,
       "grid_column": null,
       "grid_gap": null,
       "grid_row": null,
       "grid_template_areas": null,
       "grid_template_columns": null,
       "grid_template_rows": null,
       "height": null,
       "justify_content": null,
       "justify_items": null,
       "left": null,
       "margin": null,
       "max_height": null,
       "max_width": null,
       "min_height": null,
       "min_width": null,
       "object_fit": null,
       "object_position": null,
       "order": null,
       "overflow": null,
       "padding": null,
       "right": null,
       "top": null,
       "visibility": null,
       "width": null
      }
     },
     "ed385cc73d9b4be986101b0122fd80cd": {
      "model_module": "@jupyter-widgets/controls",
      "model_module_version": "2.0.0",
      "model_name": "HBoxModel",
      "state": {
       "_dom_classes": [],
       "_model_module": "@jupyter-widgets/controls",
       "_model_module_version": "2.0.0",
       "_model_name": "HBoxModel",
       "_view_count": null,
       "_view_module": "@jupyter-widgets/controls",
       "_view_module_version": "2.0.0",
       "_view_name": "HBoxView",
       "box_style": "",
       "children": [
        "IPY_MODEL_230866a4bfa54ca79d7c04a3d2497f53",
        "IPY_MODEL_800a091cbc5940fe9746a2e52fb9e8a3",
        "IPY_MODEL_ce43c0e7feb94bc29ec2e49a69203f96"
       ],
       "layout": "IPY_MODEL_22f2f4ef0fb1416f87791ec9650c392c",
       "tabbable": null,
       "tooltip": null
      }
     },
     "f4b5635c50194255b98c648e7c2acc1f": {
      "model_module": "@jupyter-widgets/base",
      "model_module_version": "2.0.0",
      "model_name": "LayoutModel",
      "state": {
       "_model_module": "@jupyter-widgets/base",
       "_model_module_version": "2.0.0",
       "_model_name": "LayoutModel",
       "_view_count": null,
       "_view_module": "@jupyter-widgets/base",
       "_view_module_version": "2.0.0",
       "_view_name": "LayoutView",
       "align_content": null,
       "align_items": null,
       "align_self": null,
       "border_bottom": null,
       "border_left": null,
       "border_right": null,
       "border_top": null,
       "bottom": null,
       "display": null,
       "flex": null,
       "flex_flow": null,
       "grid_area": null,
       "grid_auto_columns": null,
       "grid_auto_flow": null,
       "grid_auto_rows": null,
       "grid_column": null,
       "grid_gap": null,
       "grid_row": null,
       "grid_template_areas": null,
       "grid_template_columns": null,
       "grid_template_rows": null,
       "height": null,
       "justify_content": null,
       "justify_items": null,
       "left": null,
       "margin": null,
       "max_height": null,
       "max_width": null,
       "min_height": null,
       "min_width": null,
       "object_fit": null,
       "object_position": null,
       "order": null,
       "overflow": null,
       "padding": null,
       "right": null,
       "top": null,
       "visibility": null,
       "width": null
      }
     },
     "fe5a449208d945c195ec9a14b08b1154": {
      "model_module": "@jupyter-widgets/controls",
      "model_module_version": "2.0.0",
      "model_name": "HTMLStyleModel",
      "state": {
       "_model_module": "@jupyter-widgets/controls",
       "_model_module_version": "2.0.0",
       "_model_name": "HTMLStyleModel",
       "_view_count": null,
       "_view_module": "@jupyter-widgets/base",
       "_view_module_version": "2.0.0",
       "_view_name": "StyleView",
       "background": null,
       "description_width": "",
       "font_size": null,
       "text_color": null
      }
     }
    },
    "version_major": 2,
    "version_minor": 0
   }
  }
 },
 "nbformat": 4,
 "nbformat_minor": 5
}
