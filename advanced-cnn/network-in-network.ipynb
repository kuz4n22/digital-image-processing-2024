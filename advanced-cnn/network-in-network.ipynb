{
 "cells": [
  {
   "cell_type": "code",
   "execution_count": 1,
   "id": "7debcda4",
   "metadata": {
    "execution": {
     "iopub.execute_input": "2025-01-16T11:02:26.357281Z",
     "iopub.status.busy": "2025-01-16T11:02:26.356998Z",
     "iopub.status.idle": "2025-01-16T11:02:31.525075Z",
     "shell.execute_reply": "2025-01-16T11:02:31.524402Z"
    },
    "papermill": {
     "duration": 5.173698,
     "end_time": "2025-01-16T11:02:31.526568",
     "exception": false,
     "start_time": "2025-01-16T11:02:26.352870",
     "status": "completed"
    },
    "tags": []
   },
   "outputs": [],
   "source": [
    "import torch\n",
    "from torch import nn\n",
    "\n",
    "import matplotlib.pyplot as plt"
   ]
  },
  {
   "cell_type": "code",
   "execution_count": 2,
   "id": "d398b5a0",
   "metadata": {
    "execution": {
     "iopub.execute_input": "2025-01-16T11:02:31.534065Z",
     "iopub.status.busy": "2025-01-16T11:02:31.533738Z",
     "iopub.status.idle": "2025-01-16T11:02:41.938933Z",
     "shell.execute_reply": "2025-01-16T11:02:41.937789Z"
    },
    "papermill": {
     "duration": 10.410289,
     "end_time": "2025-01-16T11:02:41.940326",
     "exception": false,
     "start_time": "2025-01-16T11:02:31.530037",
     "status": "completed"
    },
    "tags": []
   },
   "outputs": [
    {
     "name": "stderr",
     "output_type": "stream",
     "text": [
      "/usr/local/lib/python3.10/dist-packages/torchvision/transforms/v2/_deprecated.py:42: UserWarning: The transform `ToTensor()` is deprecated and will be removed in a future release. Instead, please use `v2.Compose([v2.ToImage(), v2.ToDtype(torch.float32, scale=True)])`.Output is equivalent up to float precision.\n",
      "  warnings.warn(\n"
     ]
    },
    {
     "name": "stdout",
     "output_type": "stream",
     "text": [
      "Downloading http://fashion-mnist.s3-website.eu-central-1.amazonaws.com/train-images-idx3-ubyte.gz\n",
      "Downloading http://fashion-mnist.s3-website.eu-central-1.amazonaws.com/train-images-idx3-ubyte.gz to data/FashionMNIST/raw/train-images-idx3-ubyte.gz\n"
     ]
    },
    {
     "name": "stderr",
     "output_type": "stream",
     "text": [
      "100%|██████████| 26.4M/26.4M [00:01<00:00, 18.3MB/s]\n"
     ]
    },
    {
     "name": "stdout",
     "output_type": "stream",
     "text": [
      "Extracting data/FashionMNIST/raw/train-images-idx3-ubyte.gz to data/FashionMNIST/raw\n",
      "\n",
      "Downloading http://fashion-mnist.s3-website.eu-central-1.amazonaws.com/train-labels-idx1-ubyte.gz\n",
      "Downloading http://fashion-mnist.s3-website.eu-central-1.amazonaws.com/train-labels-idx1-ubyte.gz to data/FashionMNIST/raw/train-labels-idx1-ubyte.gz\n"
     ]
    },
    {
     "name": "stderr",
     "output_type": "stream",
     "text": [
      "100%|██████████| 29.5k/29.5k [00:00<00:00, 267kB/s]\n"
     ]
    },
    {
     "name": "stdout",
     "output_type": "stream",
     "text": [
      "Extracting data/FashionMNIST/raw/train-labels-idx1-ubyte.gz to data/FashionMNIST/raw\n",
      "\n",
      "Downloading http://fashion-mnist.s3-website.eu-central-1.amazonaws.com/t10k-images-idx3-ubyte.gz\n",
      "Downloading http://fashion-mnist.s3-website.eu-central-1.amazonaws.com/t10k-images-idx3-ubyte.gz to data/FashionMNIST/raw/t10k-images-idx3-ubyte.gz\n"
     ]
    },
    {
     "name": "stderr",
     "output_type": "stream",
     "text": [
      "100%|██████████| 4.42M/4.42M [00:00<00:00, 4.94MB/s]\n"
     ]
    },
    {
     "name": "stdout",
     "output_type": "stream",
     "text": [
      "Extracting data/FashionMNIST/raw/t10k-images-idx3-ubyte.gz to data/FashionMNIST/raw\n",
      "\n",
      "Downloading http://fashion-mnist.s3-website.eu-central-1.amazonaws.com/t10k-labels-idx1-ubyte.gz\n",
      "Downloading http://fashion-mnist.s3-website.eu-central-1.amazonaws.com/t10k-labels-idx1-ubyte.gz to data/FashionMNIST/raw/t10k-labels-idx1-ubyte.gz\n"
     ]
    },
    {
     "name": "stderr",
     "output_type": "stream",
     "text": [
      "100%|██████████| 5.15k/5.15k [00:00<00:00, 11.8MB/s]"
     ]
    },
    {
     "name": "stdout",
     "output_type": "stream",
     "text": [
      "Extracting data/FashionMNIST/raw/t10k-labels-idx1-ubyte.gz to data/FashionMNIST/raw\n",
      "\n"
     ]
    },
    {
     "name": "stderr",
     "output_type": "stream",
     "text": [
      "\n"
     ]
    }
   ],
   "source": [
    "from torchvision.datasets import FashionMNIST, MNIST\n",
    "from torchvision.transforms.v2 import Resize, ToTensor, Compose, Normalize\n",
    "\n",
    "transforms =Compose([\n",
    "    ToTensor(),\n",
    "    Resize((56, 56)),\n",
    "    Normalize(mean=(0,), std=(1,))\n",
    "])\n",
    "\n",
    "train_data = FashionMNIST(\n",
    "    root=\"data\",\n",
    "    train=True,\n",
    "    download=True,\n",
    "    transform=transforms,\n",
    ")\n",
    "\n",
    "test_data = FashionMNIST(\n",
    "    root=\"data\",\n",
    "    train=False,\n",
    "    download=True,\n",
    "    transform=transforms,\n",
    ")\n",
    "\n",
    "class_names = train_data.classes"
   ]
  },
  {
   "cell_type": "code",
   "execution_count": 3,
   "id": "36fa0659",
   "metadata": {
    "execution": {
     "iopub.execute_input": "2025-01-16T11:02:41.950936Z",
     "iopub.status.busy": "2025-01-16T11:02:41.950607Z",
     "iopub.status.idle": "2025-01-16T11:02:41.954548Z",
     "shell.execute_reply": "2025-01-16T11:02:41.953759Z"
    },
    "papermill": {
     "duration": 0.010533,
     "end_time": "2025-01-16T11:02:41.955872",
     "exception": false,
     "start_time": "2025-01-16T11:02:41.945339",
     "status": "completed"
    },
    "tags": []
   },
   "outputs": [],
   "source": [
    "from torch.utils.data import DataLoader\n",
    "\n",
    "train_dataloader = DataLoader(train_data, batch_size=128, shuffle=True)\n",
    "test_dataloader = DataLoader(test_data, batch_size=128, shuffle=True)"
   ]
  },
  {
   "cell_type": "markdown",
   "id": "077e39fa",
   "metadata": {
    "papermill": {
     "duration": 0.004393,
     "end_time": "2025-01-16T11:02:41.964974",
     "exception": false,
     "start_time": "2025-01-16T11:02:41.960581",
     "status": "completed"
    },
    "tags": []
   },
   "source": [
    "# NiN construction"
   ]
  },
  {
   "cell_type": "code",
   "execution_count": 4,
   "id": "dc3af473",
   "metadata": {
    "execution": {
     "iopub.execute_input": "2025-01-16T11:02:41.974967Z",
     "iopub.status.busy": "2025-01-16T11:02:41.974765Z",
     "iopub.status.idle": "2025-01-16T11:02:41.980756Z",
     "shell.execute_reply": "2025-01-16T11:02:41.980166Z"
    },
    "papermill": {
     "duration": 0.012334,
     "end_time": "2025-01-16T11:02:41.981883",
     "exception": false,
     "start_time": "2025-01-16T11:02:41.969549",
     "status": "completed"
    },
    "tags": []
   },
   "outputs": [],
   "source": [
    "class NiN(nn.Module):\n",
    "    def __init__(self, in_channels=1, out_shape=10, activation_fn=nn.GELU):\n",
    "        super().__init__()\n",
    "        \n",
    "        self.activation_fn = activation_fn \n",
    "        \n",
    "        self.net = nn.Sequential(\n",
    "            self.nin_block(in_channels, 96, 5, 0),\n",
    "            nn.MaxPool2d(3, stride=2),\n",
    "            self.nin_block(96, 256, 3, 2),\n",
    "            nn.MaxPool2d(3, stride=2),\n",
    "            self.nin_block(256, 384, 3),\n",
    "            nn.MaxPool2d(3, stride=2),\n",
    "            nn.Dropout(0.5),\n",
    "            self.nin_block(384, out_shape, 3),\n",
    "            nn.AdaptiveAvgPool2d((1, 1)),\n",
    "            nn.Flatten())\n",
    "            \n",
    "        self.initialize_weights()\n",
    "\n",
    "    def initialize_weights(self):\n",
    "        for layer in self.modules():\n",
    "            if isinstance(layer, nn.Conv2d) or isinstance(layer, nn.Linear):\n",
    "                nn.init.kaiming_normal_(layer.weight, mode='fan_out', nonlinearity='relu')\n",
    "\n",
    "    def nin_block(self, in_channels, out_channels, kernel_size, padding=1):\n",
    "        return nn.Sequential(\n",
    "        nn.Conv2d(in_channels, out_channels, kernel_size=kernel_size), self.activation_fn(),\n",
    "        nn.Conv2d(out_channels, out_channels, kernel_size=1), self.activation_fn(),\n",
    "        nn.Conv2d(out_channels, out_channels, kernel_size=1), self.activation_fn())\n",
    "        \n",
    "    def forward(self, x):\n",
    "        x = self.net(x)\n",
    "\n",
    "        return x"
   ]
  },
  {
   "cell_type": "code",
   "execution_count": 5,
   "id": "80f4c9df",
   "metadata": {
    "execution": {
     "iopub.execute_input": "2025-01-16T11:02:41.992769Z",
     "iopub.status.busy": "2025-01-16T11:02:41.992550Z",
     "iopub.status.idle": "2025-01-16T11:02:41.995123Z",
     "shell.execute_reply": "2025-01-16T11:02:41.994536Z"
    },
    "papermill": {
     "duration": 0.00952,
     "end_time": "2025-01-16T11:02:41.996220",
     "exception": false,
     "start_time": "2025-01-16T11:02:41.986700",
     "status": "completed"
    },
    "tags": []
   },
   "outputs": [],
   "source": [
    "#img = train_data[0][0].unsqueeze(dim=0)\n",
    "#model_test = NiN()\n",
    "#model_test(img)"
   ]
  },
  {
   "cell_type": "code",
   "execution_count": 6,
   "id": "a923e534",
   "metadata": {
    "execution": {
     "iopub.execute_input": "2025-01-16T11:02:42.006326Z",
     "iopub.status.busy": "2025-01-16T11:02:42.006123Z",
     "iopub.status.idle": "2025-01-16T11:02:42.087660Z",
     "shell.execute_reply": "2025-01-16T11:02:42.086838Z"
    },
    "papermill": {
     "duration": 0.088001,
     "end_time": "2025-01-16T11:02:42.088888",
     "exception": false,
     "start_time": "2025-01-16T11:02:42.000887",
     "status": "completed"
    },
    "tags": []
   },
   "outputs": [
    {
     "data": {
      "text/plain": [
       "'cuda'"
      ]
     },
     "execution_count": 6,
     "metadata": {},
     "output_type": "execute_result"
    }
   ],
   "source": [
    "device = \"cuda\" if torch.cuda.is_available() else \"cpu\"\n",
    "device"
   ]
  },
  {
   "cell_type": "code",
   "execution_count": 7,
   "id": "0f5fb367",
   "metadata": {
    "execution": {
     "iopub.execute_input": "2025-01-16T11:02:42.099409Z",
     "iopub.status.busy": "2025-01-16T11:02:42.099168Z",
     "iopub.status.idle": "2025-01-16T11:02:42.105226Z",
     "shell.execute_reply": "2025-01-16T11:02:42.104421Z"
    },
    "papermill": {
     "duration": 0.012483,
     "end_time": "2025-01-16T11:02:42.106334",
     "exception": false,
     "start_time": "2025-01-16T11:02:42.093851",
     "status": "completed"
    },
    "tags": []
   },
   "outputs": [],
   "source": [
    "def train_step(model, train_dataloader, loss_fn, accuracy_fn, optimizer, device=\"cpu\"):\n",
    "    model.to(device)\n",
    "    model.train()\n",
    "    train_loss = train_acc = 0\n",
    "    for X, y in train_dataloader:\n",
    "        X, y = X.to(device), y.to(device)\n",
    "        \n",
    "        y_logits = model(X)\n",
    "\n",
    "        loss = loss_fn(y_logits, y)\n",
    "\n",
    "        train_loss += loss\n",
    "        train_acc += accuracy_fn(y_logits.argmax(dim=1), y)\n",
    "\n",
    "        optimizer.zero_grad()\n",
    "        loss.backward()\n",
    "        optimizer.step()\n",
    "\n",
    "    train_loss /= len(train_dataloader)\n",
    "    train_acc /= len(train_dataloader)\n",
    "\n",
    "    return train_loss.detach().cpu().item(), train_acc\n",
    "\n",
    "\n",
    "def test_step(model, train_dataloader, loss_fn, accuracy_fn, device=\"cpu\"):\n",
    "    model.to(device)\n",
    "    model.eval()\n",
    "    test_loss = test_acc = 0\n",
    "    with torch.inference_mode():\n",
    "        for X, y in test_dataloader:\n",
    "            X, y = X.to(device), y.to(device)\n",
    "            \n",
    "            y_logits = model(X)\n",
    "        \n",
    "            test_loss += loss_fn(y_logits, y)\n",
    "            test_acc += accuracy_fn(y_logits.argmax(dim=1), y)\n",
    "    \n",
    "    \n",
    "        test_loss /= len(test_dataloader)\n",
    "        test_acc /= len(test_dataloader)\n",
    "        \n",
    "        return test_loss.detach().cpu().item(), test_acc"
   ]
  },
  {
   "cell_type": "code",
   "execution_count": 8,
   "id": "3aa145f7",
   "metadata": {
    "execution": {
     "iopub.execute_input": "2025-01-16T11:02:42.116599Z",
     "iopub.status.busy": "2025-01-16T11:02:42.116362Z",
     "iopub.status.idle": "2025-01-16T11:02:42.119572Z",
     "shell.execute_reply": "2025-01-16T11:02:42.118821Z"
    },
    "papermill": {
     "duration": 0.009715,
     "end_time": "2025-01-16T11:02:42.120785",
     "exception": false,
     "start_time": "2025-01-16T11:02:42.111070",
     "status": "completed"
    },
    "tags": []
   },
   "outputs": [],
   "source": [
    "def accuracy_fn(y_pred, y_true):\n",
    "    return torch.eq(y_pred, y_true).sum().item() / len(y_true)"
   ]
  },
  {
   "cell_type": "markdown",
   "id": "44cc2aa9",
   "metadata": {
    "papermill": {
     "duration": 0.004615,
     "end_time": "2025-01-16T11:02:42.130295",
     "exception": false,
     "start_time": "2025-01-16T11:02:42.125680",
     "status": "completed"
    },
    "tags": []
   },
   "source": [
    "## Training"
   ]
  },
  {
   "cell_type": "code",
   "execution_count": 9,
   "id": "f6986be2",
   "metadata": {
    "execution": {
     "iopub.execute_input": "2025-01-16T11:02:42.140330Z",
     "iopub.status.busy": "2025-01-16T11:02:42.140136Z",
     "iopub.status.idle": "2025-01-16T11:12:38.655905Z",
     "shell.execute_reply": "2025-01-16T11:12:38.655033Z"
    },
    "papermill": {
     "duration": 596.52681,
     "end_time": "2025-01-16T11:12:38.661757",
     "exception": false,
     "start_time": "2025-01-16T11:02:42.134947",
     "status": "completed"
    },
    "tags": []
   },
   "outputs": [
    {
     "data": {
      "application/vnd.jupyter.widget-view+json": {
       "model_id": "2a4c30ef34db4527acc106ce4407c65a",
       "version_major": 2,
       "version_minor": 0
      },
      "text/plain": [
       "  0%|          | 0/11 [00:00<?, ?it/s]"
      ]
     },
     "metadata": {},
     "output_type": "display_data"
    },
    {
     "name": "stdout",
     "output_type": "stream",
     "text": [
      "\n",
      "Epoche: 0\n",
      "---------\n",
      "Train loss: 1.39259 | Train accuracy: 0.48%\n",
      "Test loss: 0.58608 | Test accuracy: 0.77%\n",
      "\n",
      "Epoche: 2\n",
      "---------\n",
      "Train loss: 0.43368 | Train accuracy: 0.84%\n",
      "Test loss: 0.39063 | Test accuracy: 0.86%\n",
      "\n",
      "Epoche: 4\n",
      "---------\n",
      "Train loss: 0.35072 | Train accuracy: 0.87%\n",
      "Test loss: 0.34550 | Test accuracy: 0.87%\n",
      "\n",
      "Epoche: 6\n",
      "---------\n",
      "Train loss: 0.30980 | Train accuracy: 0.89%\n",
      "Test loss: 0.31696 | Test accuracy: 0.88%\n",
      "\n",
      "Epoche: 8\n",
      "---------\n",
      "Train loss: 0.28014 | Train accuracy: 0.90%\n",
      "Test loss: 0.30678 | Test accuracy: 0.89%\n",
      "\n",
      "Epoche: 10\n",
      "---------\n",
      "Train loss: 0.25432 | Train accuracy: 0.91%\n",
      "Test loss: 0.28210 | Test accuracy: 0.90%\n"
     ]
    }
   ],
   "source": [
    "from tqdm.auto import tqdm\n",
    "\n",
    "model_0 = NiN()\n",
    "\n",
    "loss_fn = torch.nn.CrossEntropyLoss()\n",
    "optim = torch.optim.SGD(model_0.parameters(), lr=0.01, momentum=0.9, nesterov=True)\n",
    "\n",
    "epoches = 11\n",
    "\n",
    "train_losses_0 = []\n",
    "test_losses_0 = []\n",
    "test_acc_0 = []\n",
    "\n",
    "for epoche in tqdm(range(epoches)):\n",
    "    train_info = train_step(model_0, train_dataloader, loss_fn, accuracy_fn, optim, device)\n",
    "    test_info = test_step(model_0, test_dataloader, loss_fn, accuracy_fn, device)\n",
    "\n",
    "    if epoche % 2 == 0:\n",
    "        print(f\"\\nEpoche: {epoche}\\n---------\")\n",
    "        print(f\"Train loss: {train_info[0]:.5f} | Train accuracy: {train_info[1]:.2f}%\")\n",
    "        print(f\"Test loss: {test_info[0]:.5f} | Test accuracy: {test_info[1]:.2f}%\")\n",
    "\n",
    "    train_losses_0.append(train_info[0])\n",
    "    test_losses_0.append(test_info[0])\n",
    "    test_acc_0.append(test_info[1])"
   ]
  },
  {
   "cell_type": "code",
   "execution_count": 10,
   "id": "385f849b",
   "metadata": {
    "execution": {
     "iopub.execute_input": "2025-01-16T11:12:38.672680Z",
     "iopub.status.busy": "2025-01-16T11:12:38.672406Z",
     "iopub.status.idle": "2025-01-16T11:12:39.068880Z",
     "shell.execute_reply": "2025-01-16T11:12:39.068109Z"
    },
    "papermill": {
     "duration": 0.403353,
     "end_time": "2025-01-16T11:12:39.070231",
     "exception": false,
     "start_time": "2025-01-16T11:12:38.666878",
     "status": "completed"
    },
    "tags": []
   },
   "outputs": [
    {
     "data": {
      "image/png": "[encoded data removed]",
      "text/plain": [
       "<Figure size 600x400 with 1 Axes>"
      ]
     },
     "metadata": {},
     "output_type": "display_data"
    }
   ],
   "source": [
    "plt.figure(figsize=(6, 4))\n",
    "\n",
    "plt.plot(range(epoches), train_losses_0, c=\"darkorange\",label=\"Train loss\")\n",
    "plt.plot(range(epoches), test_losses_0, c=\"slateblue\", ls='dashed', label=\"Test loss\")\n",
    "plt.plot(range(epoches), test_acc_0, c=\"darkseagreen\", ls='dashdot', label=\"Test acc\")\n",
    "plt.xlabel(\"Epoch\")\n",
    "plt.ylabel(\"Loss\")\n",
    "plt.title(f\"Losses\")\n",
    "plt.legend()\n",
    "plt.grid(True)\n",
    "plt.show()"
   ]
  },
  {
   "cell_type": "markdown",
   "id": "ee3ba70f",
   "metadata": {
    "papermill": {
     "duration": 0.00548,
     "end_time": "2025-01-16T11:12:39.081680",
     "exception": false,
     "start_time": "2025-01-16T11:12:39.076200",
     "status": "completed"
    },
    "tags": []
   },
   "source": [
    "# Summary"
   ]
  },
  {
   "cell_type": "code",
   "execution_count": 11,
   "id": "a8533f54",
   "metadata": {
    "execution": {
     "iopub.execute_input": "2025-01-16T11:12:39.093777Z",
     "iopub.status.busy": "2025-01-16T11:12:39.093544Z",
     "iopub.status.idle": "2025-01-16T11:12:39.166960Z",
     "shell.execute_reply": "2025-01-16T11:12:39.166325Z"
    },
    "papermill": {
     "duration": 0.080805,
     "end_time": "2025-01-16T11:12:39.168154",
     "exception": false,
     "start_time": "2025-01-16T11:12:39.087349",
     "status": "completed"
    },
    "tags": []
   },
   "outputs": [
    {
     "data": {
      "text/plain": [
       "==========================================================================================\n",
       "Layer (type:depth-idx)                   Output Shape              Param #\n",
       "==========================================================================================\n",
       "NiN                                      [1, 10]                   --\n",
       "├─Sequential: 1-1                        [1, 10]                   --\n",
       "│    └─Sequential: 2-1                   [1, 96, 52, 52]           --\n",
       "│    │    └─Conv2d: 3-1                  [1, 96, 52, 52]           2,496\n",
       "│    │    └─GELU: 3-2                    [1, 96, 52, 52]           --\n",
       "│    │    └─Conv2d: 3-3                  [1, 96, 52, 52]           9,312\n",
       "│    │    └─GELU: 3-4                    [1, 96, 52, 52]           --\n",
       "│    │    └─Conv2d: 3-5                  [1, 96, 52, 52]           9,312\n",
       "│    │    └─GELU: 3-6                    [1, 96, 52, 52]           --\n",
       "│    └─MaxPool2d: 2-2                    [1, 96, 25, 25]           --\n",
       "│    └─Sequential: 2-3                   [1, 256, 23, 23]          --\n",
       "│    │    └─Conv2d: 3-7                  [1, 256, 23, 23]          221,440\n",
       "│    │    └─GELU: 3-8                    [1, 256, 23, 23]          --\n",
       "│    │    └─Conv2d: 3-9                  [1, 256, 23, 23]          65,792\n",
       "│    │    └─GELU: 3-10                   [1, 256, 23, 23]          --\n",
       "│    │    └─Conv2d: 3-11                 [1, 256, 23, 23]          65,792\n",
       "│    │    └─GELU: 3-12                   [1, 256, 23, 23]          --\n",
       "│    └─MaxPool2d: 2-4                    [1, 256, 11, 11]          --\n",
       "│    └─Sequential: 2-5                   [1, 384, 9, 9]            --\n",
       "│    │    └─Conv2d: 3-13                 [1, 384, 9, 9]            885,120\n",
       "│    │    └─GELU: 3-14                   [1, 384, 9, 9]            --\n",
       "│    │    └─Conv2d: 3-15                 [1, 384, 9, 9]            147,840\n",
       "│    │    └─GELU: 3-16                   [1, 384, 9, 9]            --\n",
       "│    │    └─Conv2d: 3-17                 [1, 384, 9, 9]            147,840\n",
       "│    │    └─GELU: 3-18                   [1, 384, 9, 9]            --\n",
       "│    └─MaxPool2d: 2-6                    [1, 384, 4, 4]            --\n",
       "│    └─Dropout: 2-7                      [1, 384, 4, 4]            --\n",
       "│    └─Sequential: 2-8                   [1, 10, 2, 2]             --\n",
       "│    │    └─Conv2d: 3-19                 [1, 10, 2, 2]             34,570\n",
       "│    │    └─GELU: 3-20                   [1, 10, 2, 2]             --\n",
       "│    │    └─Conv2d: 3-21                 [1, 10, 2, 2]             110\n",
       "│    │    └─GELU: 3-22                   [1, 10, 2, 2]             --\n",
       "│    │    └─Conv2d: 3-23                 [1, 10, 2, 2]             110\n",
       "│    │    └─GELU: 3-24                   [1, 10, 2, 2]             --\n",
       "│    └─AdaptiveAvgPool2d: 2-9            [1, 10, 1, 1]             --\n",
       "│    └─Flatten: 2-10                     [1, 10]                   --\n",
       "==========================================================================================\n",
       "Total params: 1,589,734\n",
       "Trainable params: 1,589,734\n",
       "Non-trainable params: 0\n",
       "Total mult-adds (M): 339.64\n",
       "==========================================================================================\n",
       "Input size (MB): 0.01\n",
       "Forward/backward pass size (MB): 10.23\n",
       "Params size (MB): 6.36\n",
       "Estimated Total Size (MB): 16.60\n",
       "=========================================================================================="
      ]
     },
     "execution_count": 11,
     "metadata": {},
     "output_type": "execute_result"
    }
   ],
   "source": [
    "from torchinfo import summary\n",
    "\n",
    "\n",
    "summary(model_0, input_size=(1, 1, 56, 56))"
   ]
  },
  {
   "cell_type": "markdown",
   "id": "289371f1",
   "metadata": {
    "papermill": {
     "duration": 0.005866,
     "end_time": "2025-01-16T11:12:39.179768",
     "exception": false,
     "start_time": "2025-01-16T11:12:39.173902",
     "status": "completed"
    },
    "tags": []
   },
   "source": [
    "**Как вывод: совокупная сложность архитектуры NiN в $10-10^2$ меньше, чем у моделей архитектуры VGG**"
   ]
  }
 ],
 "metadata": {
  "kaggle": {
   "accelerator": "nvidiaTeslaT4",
   "dataSources": [],
   "dockerImageVersionId": 30840,
   "isGpuEnabled": true,
   "isInternetEnabled": true,
   "language": "python",
   "sourceType": "notebook"
  },
  "kernelspec": {
   "display_name": "Python 3",
   "language": "python",
   "name": "python3"
  },
  "language_info": {
   "codemirror_mode": {
    "name": "ipython",
    "version": 3
   },
   "file_extension": ".py",
   "mimetype": "text/x-python",
   "name": "python",
   "nbconvert_exporter": "python",
   "pygments_lexer": "ipython3",
   "version": "3.10.12"
  },
  "papermill": {
   "default_parameters": {},
   "duration": 618.426666,
   "end_time": "2025-01-16T11:12:41.108449",
   "environment_variables": {},
   "exception": null,
   "input_path": "__notebook__.ipynb",
   "output_path": "__notebook__.ipynb",
   "parameters": {},
   "start_time": "2025-01-16T11:02:22.681783",
   "version": "2.6.0"
  },
  "widgets": {
   "application/vnd.jupyter.widget-state+json": {
    "state": {
     "00755770ce014a5eb0ce099957cdbf92": {
      "model_module": "@jupyter-widgets/controls",
      "model_module_version": "2.0.0",
      "model_name": "HTMLStyleModel",
      "state": {
       "_model_module": "@jupyter-widgets/controls",
       "_model_module_version": "2.0.0",
       "_model_name": "HTMLStyleModel",
       "_view_count": null,
       "_view_module": "@jupyter-widgets/base",
       "_view_module_version": "2.0.0",
       "_view_name": "StyleView",
       "background": null,
       "description_width": "",
       "font_size": null,
       "text_color": null
      }
     },
     "07ab250b3d47429f9e138abecd873936": {
      "model_module": "@jupyter-widgets/base",
      "model_module_version": "2.0.0",
      "model_name": "LayoutModel",
      "state": {
       "_model_module": "@jupyter-widgets/base",
       "_model_module_version": "2.0.0",
       "_model_name": "LayoutModel",
       "_view_count": null,
       "_view_module": "@jupyter-widgets/base",
       "_view_module_version": "2.0.0",
       "_view_name": "LayoutView",
       "align_content": null,
       "align_items": null,
       "align_self": null,
       "border_bottom": null,
       "border_left": null,
       "border_right": null,
       "border_top": null,
       "bottom": null,
       "display": null,
       "flex": null,
       "flex_flow": null,
       "grid_area": null,
       "grid_auto_columns": null,
       "grid_auto_flow": null,
       "grid_auto_rows": null,
       "grid_column": null,
       "grid_gap": null,
       "grid_row": null,
       "grid_template_areas": null,
       "grid_template_columns": null,
       "grid_template_rows": null,
       "height": null,
       "justify_content": null,
       "justify_items": null,
       "left": null,
       "margin": null,
       "max_height": null,
       "max_width": null,
       "min_height": null,
       "min_width": null,
       "object_fit": null,
       "object_position": null,
       "order": null,
       "overflow": null,
       "padding": null,
       "right": null,
       "top": null,
       "visibility": null,
       "width": null
      }
     },
     "132e23b4b7c44a238612fa302a81fd17": {
      "model_module": "@jupyter-widgets/controls",
      "model_module_version": "2.0.0",
      "model_name": "HTMLModel",
      "state": {
       "_dom_classes": [],
       "_model_module": "@jupyter-widgets/controls",
       "_model_module_version": "2.0.0",
       "_model_name": "HTMLModel",
       "_view_count": null,
       "_view_module": "@jupyter-widgets/controls",
       "_view_module_version": "2.0.0",
       "_view_name": "HTMLView",
       "description": "",
       "description_allow_html": false,
       "layout": "IPY_MODEL_74da4d4d2bae4f12b07c8b1683106ae7",
       "placeholder": "​",
       "style": "IPY_MODEL_00755770ce014a5eb0ce099957cdbf92",
       "tabbable": null,
       "tooltip": null,
       "value": " 11/11 [09:56&lt;00:00, 55.10s/it]"
      }
     },
     "15d84147408848b88a1d32fba2cde5d4": {
      "model_module": "@jupyter-widgets/controls",
      "model_module_version": "2.0.0",
      "model_name": "HTMLStyleModel",
      "state": {
       "_model_module": "@jupyter-widgets/controls",
       "_model_module_version": "2.0.0",
       "_model_name": "HTMLStyleModel",
       "_view_count": null,
       "_view_module": "@jupyter-widgets/base",
       "_view_module_version": "2.0.0",
       "_view_name": "StyleView",
       "background": null,
       "description_width": "",
       "font_size": null,
       "text_color": null
      }
     },
     "224d800ea96842898887e5516112cdaf": {
      "model_module": "@jupyter-widgets/controls",
      "model_module_version": "2.0.0",
      "model_name": "HTMLModel",
      "state": {
       "_dom_classes": [],
       "_model_module": "@jupyter-widgets/controls",
       "_model_module_version": "2.0.0",
       "_model_name": "HTMLModel",
       "_view_count": null,
       "_view_module": "@jupyter-widgets/controls",
       "_view_module_version": "2.0.0",
       "_view_name": "HTMLView",
       "description": "",
       "description_allow_html": false,
       "layout": "IPY_MODEL_586ff692477842ab935f01ec898aa8cb",
       "placeholder": "​",
       "style": "IPY_MODEL_15d84147408848b88a1d32fba2cde5d4",
       "tabbable": null,
       "tooltip": null,
       "value": "100%"
      }
     },
     "2a4c30ef34db4527acc106ce4407c65a": {
      "model_module": "@jupyter-widgets/controls",
      "model_module_version": "2.0.0",
      "model_name": "HBoxModel",
      "state": {
       "_dom_classes": [],
       "_model_module": "@jupyter-widgets/controls",
       "_model_module_version": "2.0.0",
       "_model_name": "HBoxModel",
       "_view_count": null,
       "_view_module": "@jupyter-widgets/controls",
       "_view_module_version": "2.0.0",
       "_view_name": "HBoxView",
       "box_style": "",
       "children": [
        "IPY_MODEL_224d800ea96842898887e5516112cdaf",
        "IPY_MODEL_a3a3cd94a9e44ba3bdb9a7cf69f0cc7f",
        "IPY_MODEL_132e23b4b7c44a238612fa302a81fd17"
       ],
       "layout": "IPY_MODEL_07ab250b3d47429f9e138abecd873936",
       "tabbable": null,
       "tooltip": null
      }
     },
     "43fe9be5f7d444c4850c05cf699c9269": {
      "model_module": "@jupyter-widgets/controls",
      "model_module_version": "2.0.0",
      "model_name": "ProgressStyleModel",
      "state": {
       "_model_module": "@jupyter-widgets/controls",
       "_model_module_version": "2.0.0",
       "_model_name": "ProgressStyleModel",
       "_view_count": null,
       "_view_module": "@jupyter-widgets/base",
       "_view_module_version": "2.0.0",
       "_view_name": "StyleView",
       "bar_color": null,
       "description_width": ""
      }
     },
     "586ff692477842ab935f01ec898aa8cb": {
      "model_module": "@jupyter-widgets/base",
      "model_module_version": "2.0.0",
      "model_name": "LayoutModel",
      "state": {
       "_model_module": "@jupyter-widgets/base",
       "_model_module_version": "2.0.0",
       "_model_name": "LayoutModel",
       "_view_count": null,
       "_view_module": "@jupyter-widgets/base",
       "_view_module_version": "2.0.0",
       "_view_name": "LayoutView",
       "align_content": null,
       "align_items": null,
       "align_self": null,
       "border_bottom": null,
       "border_left": null,
       "border_right": null,
       "border_top": null,
       "bottom": null,
       "display": null,
       "flex": null,
       "flex_flow": null,
       "grid_area": null,
       "grid_auto_columns": null,
       "grid_auto_flow": null,
       "grid_auto_rows": null,
       "grid_column": null,
       "grid_gap": null,
       "grid_row": null,
       "grid_template_areas": null,
       "grid_template_columns": null,
       "grid_template_rows": null,
       "height": null,
       "justify_content": null,
       "justify_items": null,
       "left": null,
       "margin": null,
       "max_height": null,
       "max_width": null,
       "min_height": null,
       "min_width": null,
       "object_fit": null,
       "object_position": null,
       "order": null,
       "overflow": null,
       "padding": null,
       "right": null,
       "top": null,
       "visibility": null,
       "width": null
      }
     },
     "6ea825462511408c8a3a6962834eba29": {
      "model_module": "@jupyter-widgets/base",
      "model_module_version": "2.0.0",
      "model_name": "LayoutModel",
      "state": {
       "_model_module": "@jupyter-widgets/base",
       "_model_module_version": "2.0.0",
       "_model_name": "LayoutModel",
       "_view_count": null,
       "_view_module": "@jupyter-widgets/base",
       "_view_module_version": "2.0.0",
       "_view_name": "LayoutView",
       "align_content": null,
       "align_items": null,
       "align_self": null,
       "border_bottom": null,
       "border_left": null,
       "border_right": null,
       "border_top": null,
       "bottom": null,
       "display": null,
       "flex": null,
       "flex_flow": null,
       "grid_area": null,
       "grid_auto_columns": null,
       "grid_auto_flow": null,
       "grid_auto_rows": null,
       "grid_column": null,
       "grid_gap": null,
       "grid_row": null,
       "grid_template_areas": null,
       "grid_template_columns": null,
       "grid_template_rows": null,
       "height": null,
       "justify_content": null,
       "justify_items": null,
       "left": null,
       "margin": null,
       "max_height": null,
       "max_width": null,
       "min_height": null,
       "min_width": null,
       "object_fit": null,
       "object_position": null,
       "order": null,
       "overflow": null,
       "padding": null,
       "right": null,
       "top": null,
       "visibility": null,
       "width": null
      }
     },
     "74da4d4d2bae4f12b07c8b1683106ae7": {
      "model_module": "@jupyter-widgets/base",
      "model_module_version": "2.0.0",
      "model_name": "LayoutModel",
      "state": {
       "_model_module": "@jupyter-widgets/base",
       "_model_module_version": "2.0.0",
       "_model_name": "LayoutModel",
       "_view_count": null,
       "_view_module": "@jupyter-widgets/base",
       "_view_module_version": "2.0.0",
       "_view_name": "LayoutView",
       "align_content": null,
       "align_items": null,
       "align_self": null,
       "border_bottom": null,
       "border_left": null,
       "border_right": null,
       "border_top": null,
       "bottom": null,
       "display": null,
       "flex": null,
       "flex_flow": null,
       "grid_area": null,
       "grid_auto_columns": null,
       "grid_auto_flow": null,
       "grid_auto_rows": null,
       "grid_column": null,
       "grid_gap": null,
       "grid_row": null,
       "grid_template_areas": null,
       "grid_template_columns": null,
       "grid_template_rows": null,
       "height": null,
       "justify_content": null,
       "justify_items": null,
       "left": null,
       "margin": null,
       "max_height": null,
       "max_width": null,
       "min_height": null,
       "min_width": null,
       "object_fit": null,
       "object_position": null,
       "order": null,
       "overflow": null,
       "padding": null,
       "right": null,
       "top": null,
       "visibility": null,
       "width": null
      }
     },
     "a3a3cd94a9e44ba3bdb9a7cf69f0cc7f": {
      "model_module": "@jupyter-widgets/controls",
      "model_module_version": "2.0.0",
      "model_name": "FloatProgressModel",
      "state": {
       "_dom_classes": [],
       "_model_module": "@jupyter-widgets/controls",
       "_model_module_version": "2.0.0",
       "_model_name": "FloatProgressModel",
       "_view_count": null,
       "_view_module": "@jupyter-widgets/controls",
       "_view_module_version": "2.0.0",
       "_view_name": "ProgressView",
       "bar_style": "success",
       "description": "",
       "description_allow_html": false,
       "layout": "IPY_MODEL_6ea825462511408c8a3a6962834eba29",
       "max": 11.0,
       "min": 0.0,
       "orientation": "horizontal",
       "style": "IPY_MODEL_43fe9be5f7d444c4850c05cf699c9269",
       "tabbable": null,
       "tooltip": null,
       "value": 11.0
      }
     }
    },
    "version_major": 2,
    "version_minor": 0
   }
  }
 },
 "nbformat": 4,
 "nbformat_minor": 5
}
