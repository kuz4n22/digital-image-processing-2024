{
 "cells": [
  {
   "cell_type": "code",
   "execution_count": 1,
   "id": "a4a669b4",
   "metadata": {
    "_cell_guid": "b1076dfc-b9ad-4769-8c92-a6c4dae69d19",
    "_uuid": "8f2839f25d086af736a60e9eeb907d3b93b6e0e5",
    "execution": {
     "iopub.execute_input": "2025-01-16T11:02:53.024827Z",
     "iopub.status.busy": "2025-01-16T11:02:53.024624Z",
     "iopub.status.idle": "2025-01-16T11:02:56.968417Z",
     "shell.execute_reply": "2025-01-16T11:02:56.967759Z"
    },
    "papermill": {
     "duration": 3.952484,
     "end_time": "2025-01-16T11:02:56.969983",
     "exception": false,
     "start_time": "2025-01-16T11:02:53.017499",
     "status": "completed"
    },
    "tags": []
   },
   "outputs": [],
   "source": [
    "import torch\n",
    "from torch import nn\n",
    "\n",
    "import matplotlib.pyplot as plt"
   ]
  },
  {
   "cell_type": "markdown",
   "id": "ee66fb2b",
   "metadata": {
    "papermill": {
     "duration": 0.004657,
     "end_time": "2025-01-16T11:02:56.980069",
     "exception": false,
     "start_time": "2025-01-16T11:02:56.975412",
     "status": "completed"
    },
    "tags": []
   },
   "source": [
    "# VGG construction"
   ]
  },
  {
   "cell_type": "code",
   "execution_count": 2,
   "id": "ef704f2b",
   "metadata": {
    "execution": {
     "iopub.execute_input": "2025-01-16T11:02:56.990540Z",
     "iopub.status.busy": "2025-01-16T11:02:56.990222Z",
     "iopub.status.idle": "2025-01-16T11:02:56.997218Z",
     "shell.execute_reply": "2025-01-16T11:02:56.996624Z"
    },
    "papermill": {
     "duration": 0.013529,
     "end_time": "2025-01-16T11:02:56.998492",
     "exception": false,
     "start_time": "2025-01-16T11:02:56.984963",
     "status": "completed"
    },
    "tags": []
   },
   "outputs": [],
   "source": [
    "class VGG(nn.Module):\n",
    "    def __init__(self, arch, img_size=224, in_channels=1, out_shape=10, activation_fn=nn.GELU):\n",
    "        super().__init__()\n",
    "        \n",
    "        self.activation_fn = activation_fn \n",
    "        \n",
    "        conv_blocks = []\n",
    "        self.current_size = img_size\n",
    "        current_channels = in_channels\n",
    "        for num_convs, out_channels in arch:\n",
    "            conv_blocks.append(self.vgg_block(num_convs, current_channels, out_channels))\n",
    "            self.current_size //= 2\n",
    "            current_channels = out_channels\n",
    "            \n",
    "        self.conv_blocks = nn.Sequential(*conv_blocks)\n",
    "        self.classifier = nn.Sequential(\n",
    "            nn.Flatten(),\n",
    "            nn.Linear(in_features=(self.current_size * self.current_size * arch[-1][1]), out_features=4096),\n",
    "            activation_fn(), nn.Dropout(p=0.5),\n",
    "            nn.Linear(in_features=4096, out_features=4096),\n",
    "            activation_fn(), nn.Dropout(p=0.5),\n",
    "            nn.Linear(in_features=4096, out_features=out_shape),\n",
    "        )\n",
    "        self.initialize_weights()\n",
    "\n",
    "    def initialize_weights(self):\n",
    "        for layer in self.modules():\n",
    "            if isinstance(layer, nn.Conv2d) or isinstance(layer, nn.Linear):\n",
    "                nn.init.kaiming_normal_(layer.weight, mode='fan_out', nonlinearity='relu')\n",
    "    \n",
    "    def vgg_block(self, num_convs, in_channels, out_channels):\n",
    "        layers = []\n",
    "        for _ in range(num_convs):\n",
    "            layers.append(nn.Conv2d(in_channels, out_channels, kernel_size=3, padding=1))\n",
    "            layers.append(self.activation_fn())\n",
    "            in_channels = out_channels\n",
    "        layers.append(nn.MaxPool2d(kernel_size=2,stride=2))\n",
    "        return nn.Sequential(*layers)\n",
    "        \n",
    "    def forward(self, x):\n",
    "        x = self.conv_blocks(x)\n",
    "        x = self.classifier(x)\n",
    "\n",
    "        return x"
   ]
  },
  {
   "cell_type": "code",
   "execution_count": 3,
   "id": "fb5d6e72",
   "metadata": {
    "execution": {
     "iopub.execute_input": "2025-01-16T11:02:57.008581Z",
     "iopub.status.busy": "2025-01-16T11:02:57.008359Z",
     "iopub.status.idle": "2025-01-16T11:02:57.091037Z",
     "shell.execute_reply": "2025-01-16T11:02:57.090226Z"
    },
    "papermill": {
     "duration": 0.089149,
     "end_time": "2025-01-16T11:02:57.092434",
     "exception": false,
     "start_time": "2025-01-16T11:02:57.003285",
     "status": "completed"
    },
    "tags": []
   },
   "outputs": [
    {
     "data": {
      "text/plain": [
       "'cuda'"
      ]
     },
     "execution_count": 3,
     "metadata": {},
     "output_type": "execute_result"
    }
   ],
   "source": [
    "device = \"cuda\" if torch.cuda.is_available() else \"cpu\"\n",
    "device"
   ]
  },
  {
   "cell_type": "code",
   "execution_count": 4,
   "id": "5ade15ec",
   "metadata": {
    "execution": {
     "iopub.execute_input": "2025-01-16T11:02:57.103243Z",
     "iopub.status.busy": "2025-01-16T11:02:57.102950Z",
     "iopub.status.idle": "2025-01-16T11:02:57.109181Z",
     "shell.execute_reply": "2025-01-16T11:02:57.108411Z"
    },
    "papermill": {
     "duration": 0.012966,
     "end_time": "2025-01-16T11:02:57.110534",
     "exception": false,
     "start_time": "2025-01-16T11:02:57.097568",
     "status": "completed"
    },
    "tags": []
   },
   "outputs": [],
   "source": [
    "def train_step(model, train_dataloader, loss_fn, accuracy_fn, optimizer, device=\"cpu\"):\n",
    "    model.to(device)\n",
    "    model.train()\n",
    "    train_loss = train_acc = 0\n",
    "    for X, y in train_dataloader:\n",
    "        X, y = X.to(device), y.to(device)\n",
    "        \n",
    "        y_logits = model(X)\n",
    "\n",
    "        loss = loss_fn(y_logits, y)\n",
    "\n",
    "        train_loss += loss\n",
    "        train_acc += accuracy_fn(y_logits.argmax(dim=1), y)\n",
    "\n",
    "        optimizer.zero_grad()\n",
    "        loss.backward()\n",
    "        optimizer.step()\n",
    "\n",
    "    train_loss /= len(train_dataloader)\n",
    "    train_acc /= len(train_dataloader)\n",
    "\n",
    "    return train_loss.detach().cpu().item(), train_acc\n",
    "\n",
    "\n",
    "def test_step(model, train_dataloader, loss_fn, accuracy_fn, device=\"cpu\"):\n",
    "    model.to(device)\n",
    "    model.eval()\n",
    "    test_loss = test_acc = 0\n",
    "    with torch.inference_mode():\n",
    "        for X, y in test_dataloader:\n",
    "            X, y = X.to(device), y.to(device)\n",
    "            \n",
    "            y_logits = model(X)\n",
    "        \n",
    "            test_loss += loss_fn(y_logits, y)\n",
    "            test_acc += accuracy_fn(y_logits.argmax(dim=1), y)\n",
    "    \n",
    "    \n",
    "        test_loss /= len(test_dataloader)\n",
    "        test_acc /= len(test_dataloader)\n",
    "        \n",
    "        return test_loss.detach().cpu().item(), test_acc"
   ]
  },
  {
   "cell_type": "code",
   "execution_count": 5,
   "id": "9334fb75",
   "metadata": {
    "execution": {
     "iopub.execute_input": "2025-01-16T11:02:57.120714Z",
     "iopub.status.busy": "2025-01-16T11:02:57.120513Z",
     "iopub.status.idle": "2025-01-16T11:02:57.123668Z",
     "shell.execute_reply": "2025-01-16T11:02:57.123062Z"
    },
    "papermill": {
     "duration": 0.009468,
     "end_time": "2025-01-16T11:02:57.124833",
     "exception": false,
     "start_time": "2025-01-16T11:02:57.115365",
     "status": "completed"
    },
    "tags": []
   },
   "outputs": [],
   "source": [
    "def accuracy_fn(y_pred, y_true):\n",
    "    return torch.eq(y_pred, y_true).sum().item() / len(y_true)"
   ]
  },
  {
   "cell_type": "markdown",
   "id": "04cf9d42",
   "metadata": {
    "papermill": {
     "duration": 0.004482,
     "end_time": "2025-01-16T11:02:57.134144",
     "exception": false,
     "start_time": "2025-01-16T11:02:57.129662",
     "status": "completed"
    },
    "tags": []
   },
   "source": [
    "# VGG-11"
   ]
  },
  {
   "cell_type": "markdown",
   "id": "f3f3ee23",
   "metadata": {
    "papermill": {
     "duration": 0.004509,
     "end_time": "2025-01-16T11:02:57.143398",
     "exception": false,
     "start_time": "2025-01-16T11:02:57.138889",
     "status": "completed"
    },
    "tags": []
   },
   "source": [
    "## Image size 56x56"
   ]
  },
  {
   "cell_type": "code",
   "execution_count": 6,
   "id": "8b5f04da",
   "metadata": {
    "execution": {
     "iopub.execute_input": "2025-01-16T11:02:57.153484Z",
     "iopub.status.busy": "2025-01-16T11:02:57.153287Z",
     "iopub.status.idle": "2025-01-16T11:02:57.155903Z",
     "shell.execute_reply": "2025-01-16T11:02:57.155355Z"
    },
    "papermill": {
     "duration": 0.009035,
     "end_time": "2025-01-16T11:02:57.157075",
     "exception": false,
     "start_time": "2025-01-16T11:02:57.148040",
     "status": "completed"
    },
    "tags": []
   },
   "outputs": [],
   "source": [
    "image_size = 56"
   ]
  },
  {
   "cell_type": "code",
   "execution_count": 7,
   "id": "376693c6",
   "metadata": {
    "execution": {
     "iopub.execute_input": "2025-01-16T11:02:57.167092Z",
     "iopub.status.busy": "2025-01-16T11:02:57.166901Z",
     "iopub.status.idle": "2025-01-16T11:03:06.251823Z",
     "shell.execute_reply": "2025-01-16T11:03:06.250678Z"
    },
    "papermill": {
     "duration": 9.091332,
     "end_time": "2025-01-16T11:03:06.253125",
     "exception": false,
     "start_time": "2025-01-16T11:02:57.161793",
     "status": "completed"
    },
    "tags": []
   },
   "outputs": [
    {
     "name": "stderr",
     "output_type": "stream",
     "text": [
      "/usr/local/lib/python3.10/dist-packages/torchvision/transforms/v2/_deprecated.py:42: UserWarning: The transform `ToTensor()` is deprecated and will be removed in a future release. Instead, please use `v2.Compose([v2.ToImage(), v2.ToDtype(torch.float32, scale=True)])`.Output is equivalent up to float precision.\n",
      "  warnings.warn(\n"
     ]
    },
    {
     "name": "stdout",
     "output_type": "stream",
     "text": [
      "Downloading http://fashion-mnist.s3-website.eu-central-1.amazonaws.com/train-images-idx3-ubyte.gz\n",
      "Downloading http://fashion-mnist.s3-website.eu-central-1.amazonaws.com/train-images-idx3-ubyte.gz to data/FashionMNIST/raw/train-images-idx3-ubyte.gz\n"
     ]
    },
    {
     "name": "stderr",
     "output_type": "stream",
     "text": [
      "100%|██████████| 26.4M/26.4M [00:01<00:00, 19.7MB/s]\n"
     ]
    },
    {
     "name": "stdout",
     "output_type": "stream",
     "text": [
      "Extracting data/FashionMNIST/raw/train-images-idx3-ubyte.gz to data/FashionMNIST/raw\n",
      "\n",
      "Downloading http://fashion-mnist.s3-website.eu-central-1.amazonaws.com/train-labels-idx1-ubyte.gz\n",
      "Downloading http://fashion-mnist.s3-website.eu-central-1.amazonaws.com/train-labels-idx1-ubyte.gz to data/FashionMNIST/raw/train-labels-idx1-ubyte.gz\n"
     ]
    },
    {
     "name": "stderr",
     "output_type": "stream",
     "text": [
      "100%|██████████| 29.5k/29.5k [00:00<00:00, 299kB/s]\n"
     ]
    },
    {
     "name": "stdout",
     "output_type": "stream",
     "text": [
      "Extracting data/FashionMNIST/raw/train-labels-idx1-ubyte.gz to data/FashionMNIST/raw\n",
      "\n",
      "Downloading http://fashion-mnist.s3-website.eu-central-1.amazonaws.com/t10k-images-idx3-ubyte.gz\n",
      "Downloading http://fashion-mnist.s3-website.eu-central-1.amazonaws.com/t10k-images-idx3-ubyte.gz to data/FashionMNIST/raw/t10k-images-idx3-ubyte.gz\n"
     ]
    },
    {
     "name": "stderr",
     "output_type": "stream",
     "text": [
      "100%|██████████| 4.42M/4.42M [00:00<00:00, 5.66MB/s]\n"
     ]
    },
    {
     "name": "stdout",
     "output_type": "stream",
     "text": [
      "Extracting data/FashionMNIST/raw/t10k-images-idx3-ubyte.gz to data/FashionMNIST/raw\n",
      "\n",
      "Downloading http://fashion-mnist.s3-website.eu-central-1.amazonaws.com/t10k-labels-idx1-ubyte.gz\n",
      "Downloading http://fashion-mnist.s3-website.eu-central-1.amazonaws.com/t10k-labels-idx1-ubyte.gz to data/FashionMNIST/raw/t10k-labels-idx1-ubyte.gz\n"
     ]
    },
    {
     "name": "stderr",
     "output_type": "stream",
     "text": [
      "100%|██████████| 5.15k/5.15k [00:00<00:00, 9.77MB/s]"
     ]
    },
    {
     "name": "stdout",
     "output_type": "stream",
     "text": [
      "Extracting data/FashionMNIST/raw/t10k-labels-idx1-ubyte.gz to data/FashionMNIST/raw\n",
      "\n"
     ]
    },
    {
     "name": "stderr",
     "output_type": "stream",
     "text": [
      "\n"
     ]
    }
   ],
   "source": [
    "from torchvision.datasets import FashionMNIST, MNIST\n",
    "from torchvision.transforms.v2 import Resize, ToTensor, Compose\n",
    "\n",
    "transforms =Compose([\n",
    "    Resize((image_size, image_size)),\n",
    "    ToTensor()\n",
    "])\n",
    "\n",
    "train_data = FashionMNIST(\n",
    "    root=\"data\",\n",
    "    train=True,\n",
    "    download=True,\n",
    "    transform=transforms,\n",
    ")\n",
    "\n",
    "test_data = FashionMNIST(\n",
    "    root=\"data\",\n",
    "    train=False,\n",
    "    download=True,\n",
    "    transform=transforms,\n",
    ")\n",
    "\n",
    "class_names = train_data.classes"
   ]
  },
  {
   "cell_type": "code",
   "execution_count": 8,
   "id": "4f05add5",
   "metadata": {
    "execution": {
     "iopub.execute_input": "2025-01-16T11:03:06.267485Z",
     "iopub.status.busy": "2025-01-16T11:03:06.267119Z",
     "iopub.status.idle": "2025-01-16T11:03:06.270751Z",
     "shell.execute_reply": "2025-01-16T11:03:06.270121Z"
    },
    "papermill": {
     "duration": 0.011826,
     "end_time": "2025-01-16T11:03:06.271954",
     "exception": false,
     "start_time": "2025-01-16T11:03:06.260128",
     "status": "completed"
    },
    "tags": []
   },
   "outputs": [],
   "source": [
    "from torch.utils.data import DataLoader\n",
    "\n",
    "train_dataloader = DataLoader(train_data, batch_size=128, shuffle=True)\n",
    "test_dataloader = DataLoader(test_data, batch_size=128, shuffle=True)"
   ]
  },
  {
   "cell_type": "code",
   "execution_count": 9,
   "id": "92496963",
   "metadata": {
    "execution": {
     "iopub.execute_input": "2025-01-16T11:03:06.285588Z",
     "iopub.status.busy": "2025-01-16T11:03:06.285386Z",
     "iopub.status.idle": "2025-01-16T11:10:38.250148Z",
     "shell.execute_reply": "2025-01-16T11:10:38.249314Z"
    },
    "papermill": {
     "duration": 451.980583,
     "end_time": "2025-01-16T11:10:38.259062",
     "exception": false,
     "start_time": "2025-01-16T11:03:06.278479",
     "status": "completed"
    },
    "tags": []
   },
   "outputs": [
    {
     "data": {
      "application/vnd.jupyter.widget-view+json": {
       "model_id": "a5cc007e2583476e83a1ffd6109e5310",
       "version_major": 2,
       "version_minor": 0
      },
      "text/plain": [
       "  0%|          | 0/11 [00:00<?, ?it/s]"
      ]
     },
     "metadata": {},
     "output_type": "display_data"
    },
    {
     "name": "stdout",
     "output_type": "stream",
     "text": [
      "Epoche: 0\n",
      "---------\n",
      "Train loss: 0.87060 | Train accuracy: 0.68%\n",
      "Test loss: 0.44207 | Test accuracy: 0.85%\n",
      "Epoche: 2\n",
      "---------\n",
      "Train loss: 0.30205 | Train accuracy: 0.89%\n",
      "Test loss: 0.28989 | Test accuracy: 0.90%\n",
      "Epoche: 4\n",
      "---------\n",
      "Train loss: 0.22798 | Train accuracy: 0.92%\n",
      "Test loss: 0.25201 | Test accuracy: 0.91%\n",
      "Epoche: 6\n",
      "---------\n",
      "Train loss: 0.17353 | Train accuracy: 0.94%\n",
      "Test loss: 0.26446 | Test accuracy: 0.91%\n",
      "Epoche: 8\n",
      "---------\n",
      "Train loss: 0.12221 | Train accuracy: 0.95%\n",
      "Test loss: 0.27667 | Test accuracy: 0.91%\n",
      "Epoche: 10\n",
      "---------\n",
      "Train loss: 0.08226 | Train accuracy: 0.97%\n",
      "Test loss: 0.29598 | Test accuracy: 0.92%\n"
     ]
    }
   ],
   "source": [
    "from tqdm.auto import tqdm\n",
    "\n",
    "model_0 = VGG(arch=((1, 64), (1, 128), (2, 256), (2, 512), (2, 512)), img_size=image_size, out_shape=len(class_names))\n",
    "\n",
    "loss_fn = torch.nn.CrossEntropyLoss()\n",
    "optim = torch.optim.SGD(model_0.parameters(), lr=0.01, momentum=0.9, nesterov=True)\n",
    "\n",
    "epoches = 11\n",
    "\n",
    "train_losses_0 = []\n",
    "test_losses_0 = []\n",
    "test_acc_0 = []\n",
    "\n",
    "for epoche in tqdm(range(epoches)):\n",
    "    train_info = train_step(model_0, train_dataloader, loss_fn, accuracy_fn, optim, device)\n",
    "    test_info = test_step(model_0, test_dataloader, loss_fn, accuracy_fn, device)\n",
    "\n",
    "    if epoche % 2 == 0:\n",
    "        print(f\"Epoche: {epoche}\\n---------\")\n",
    "        print(f\"Train loss: {train_info[0]:.5f} | Train accuracy: {train_info[1]:.2f}%\")\n",
    "        print(f\"Test loss: {test_info[0]:.5f} | Test accuracy: {test_info[1]:.2f}%\")\n",
    "\n",
    "    train_losses_0.append(train_info[0])\n",
    "    test_losses_0.append(test_info[0])\n",
    "    test_acc_0.append(test_info[1])"
   ]
  },
  {
   "cell_type": "code",
   "execution_count": 10,
   "id": "bc927041",
   "metadata": {
    "execution": {
     "iopub.execute_input": "2025-01-16T11:10:38.275240Z",
     "iopub.status.busy": "2025-01-16T11:10:38.274976Z",
     "iopub.status.idle": "2025-01-16T11:10:38.571810Z",
     "shell.execute_reply": "2025-01-16T11:10:38.570954Z"
    },
    "papermill": {
     "duration": 0.305871,
     "end_time": "2025-01-16T11:10:38.573044",
     "exception": false,
     "start_time": "2025-01-16T11:10:38.267173",
     "status": "completed"
    },
    "tags": []
   },
   "outputs": [
    {
     "data": {
      "image/png": "[encoded data removed]",
      "text/plain": [
       "<Figure size 600x400 with 1 Axes>"
      ]
     },
     "metadata": {},
     "output_type": "display_data"
    }
   ],
   "source": [
    "plt.figure(figsize=(6, 4))\n",
    "\n",
    "plt.plot(range(epoches), train_losses_0, c=\"darkorange\",label=\"Train loss\")\n",
    "plt.plot(range(epoches), test_losses_0, c=\"slateblue\", ls='dashed', label=\"Test loss\")\n",
    "plt.plot(range(epoches), test_acc_0, c=\"darkseagreen\", ls='dashdot', label=\"Test acc\")\n",
    "plt.xlabel(\"Epoch\")\n",
    "plt.ylabel(\"Loss\")\n",
    "plt.title(f\"VGG-11 Losses,\\nimg size = {image_size}x{image_size}\")\n",
    "plt.legend()\n",
    "plt.grid(True)\n",
    "plt.show()"
   ]
  },
  {
   "cell_type": "markdown",
   "id": "6ce031bb",
   "metadata": {
    "papermill": {
     "duration": 0.007506,
     "end_time": "2025-01-16T11:10:38.588409",
     "exception": false,
     "start_time": "2025-01-16T11:10:38.580903",
     "status": "completed"
    },
    "tags": []
   },
   "source": [
    "## Image size 84x84"
   ]
  },
  {
   "cell_type": "code",
   "execution_count": 11,
   "id": "44c7af48",
   "metadata": {
    "execution": {
     "iopub.execute_input": "2025-01-16T11:10:38.604887Z",
     "iopub.status.busy": "2025-01-16T11:10:38.604649Z",
     "iopub.status.idle": "2025-01-16T11:10:38.607801Z",
     "shell.execute_reply": "2025-01-16T11:10:38.607033Z"
    },
    "papermill": {
     "duration": 0.013083,
     "end_time": "2025-01-16T11:10:38.609090",
     "exception": false,
     "start_time": "2025-01-16T11:10:38.596007",
     "status": "completed"
    },
    "tags": []
   },
   "outputs": [],
   "source": [
    "image_size = 84"
   ]
  },
  {
   "cell_type": "code",
   "execution_count": 12,
   "id": "c001125c",
   "metadata": {
    "execution": {
     "iopub.execute_input": "2025-01-16T11:10:38.624924Z",
     "iopub.status.busy": "2025-01-16T11:10:38.624722Z",
     "iopub.status.idle": "2025-01-16T11:10:38.659099Z",
     "shell.execute_reply": "2025-01-16T11:10:38.658154Z"
    },
    "papermill": {
     "duration": 0.043965,
     "end_time": "2025-01-16T11:10:38.660655",
     "exception": false,
     "start_time": "2025-01-16T11:10:38.616690",
     "status": "completed"
    },
    "tags": []
   },
   "outputs": [
    {
     "name": "stderr",
     "output_type": "stream",
     "text": [
      "/usr/local/lib/python3.10/dist-packages/torchvision/transforms/v2/_deprecated.py:42: UserWarning: The transform `ToTensor()` is deprecated and will be removed in a future release. Instead, please use `v2.Compose([v2.ToImage(), v2.ToDtype(torch.float32, scale=True)])`.Output is equivalent up to float precision.\n",
      "  warnings.warn(\n"
     ]
    }
   ],
   "source": [
    "from torchvision.datasets import FashionMNIST, MNIST\n",
    "from torchvision.transforms.v2 import Resize, ToTensor, Compose\n",
    "\n",
    "transforms =Compose([\n",
    "    Resize((image_size, image_size)),\n",
    "    ToTensor()\n",
    "])\n",
    "\n",
    "train_data = FashionMNIST(\n",
    "    root=\"data\",\n",
    "    train=True,\n",
    "    download=True,\n",
    "    transform=transforms,\n",
    ")\n",
    "\n",
    "test_data = FashionMNIST(\n",
    "    root=\"data\",\n",
    "    train=False,\n",
    "    download=True,\n",
    "    transform=transforms,\n",
    ")\n",
    "\n",
    "class_names = train_data.classes"
   ]
  },
  {
   "cell_type": "code",
   "execution_count": 13,
   "id": "0ffab557",
   "metadata": {
    "execution": {
     "iopub.execute_input": "2025-01-16T11:10:38.677023Z",
     "iopub.status.busy": "2025-01-16T11:10:38.676800Z",
     "iopub.status.idle": "2025-01-16T11:10:38.684378Z",
     "shell.execute_reply": "2025-01-16T11:10:38.683750Z"
    },
    "papermill": {
     "duration": 0.016878,
     "end_time": "2025-01-16T11:10:38.685519",
     "exception": false,
     "start_time": "2025-01-16T11:10:38.668641",
     "status": "completed"
    },
    "tags": []
   },
   "outputs": [],
   "source": [
    "from torch.utils.data import DataLoader\n",
    "\n",
    "train_dataloader = DataLoader(train_data, batch_size=128, shuffle=True)\n",
    "test_dataloader = DataLoader(test_data, batch_size=128, shuffle=True)"
   ]
  },
  {
   "cell_type": "code",
   "execution_count": 14,
   "id": "a880cab2",
   "metadata": {
    "execution": {
     "iopub.execute_input": "2025-01-16T11:10:38.702243Z",
     "iopub.status.busy": "2025-01-16T11:10:38.701998Z",
     "iopub.status.idle": "2025-01-16T11:27:25.515566Z",
     "shell.execute_reply": "2025-01-16T11:27:25.514692Z"
    },
    "papermill": {
     "duration": 1006.832215,
     "end_time": "2025-01-16T11:27:25.525674",
     "exception": false,
     "start_time": "2025-01-16T11:10:38.693459",
     "status": "completed"
    },
    "tags": []
   },
   "outputs": [
    {
     "data": {
      "application/vnd.jupyter.widget-view+json": {
       "model_id": "c0eb928bcf6c44018347ee0e28c13647",
       "version_major": 2,
       "version_minor": 0
      },
      "text/plain": [
       "  0%|          | 0/11 [00:00<?, ?it/s]"
      ]
     },
     "metadata": {},
     "output_type": "display_data"
    },
    {
     "name": "stdout",
     "output_type": "stream",
     "text": [
      "Epoche: 0\n",
      "---------\n",
      "Train loss: 0.73921 | Train accuracy: 0.73%\n",
      "Test loss: 0.41405 | Test accuracy: 0.85%\n",
      "Epoche: 2\n",
      "---------\n",
      "Train loss: 0.31293 | Train accuracy: 0.89%\n",
      "Test loss: 0.31451 | Test accuracy: 0.89%\n",
      "Epoche: 4\n",
      "---------\n",
      "Train loss: 0.23986 | Train accuracy: 0.91%\n",
      "Test loss: 0.29072 | Test accuracy: 0.89%\n",
      "Epoche: 6\n",
      "---------\n",
      "Train loss: 0.18209 | Train accuracy: 0.93%\n",
      "Test loss: 0.24135 | Test accuracy: 0.91%\n",
      "Epoche: 8\n",
      "---------\n",
      "Train loss: 0.13173 | Train accuracy: 0.95%\n",
      "Test loss: 0.26290 | Test accuracy: 0.92%\n",
      "Epoche: 10\n",
      "---------\n",
      "Train loss: 0.09200 | Train accuracy: 0.97%\n",
      "Test loss: 0.29791 | Test accuracy: 0.92%\n"
     ]
    }
   ],
   "source": [
    "from tqdm.auto import tqdm\n",
    "\n",
    "model_1 = VGG(arch=((1, 64), (1, 128), (2, 256), (2, 512), (2, 512)), img_size=image_size, out_shape=len(class_names))\n",
    "\n",
    "loss_fn = torch.nn.CrossEntropyLoss()\n",
    "optim = torch.optim.SGD(model_1.parameters(), lr=0.01, momentum=0.9, nesterov=True)\n",
    "\n",
    "epoches = 11\n",
    "\n",
    "train_losses_1 = []\n",
    "test_losses_1 = []\n",
    "test_acc_1 = []\n",
    "\n",
    "for epoche in tqdm(range(epoches)):\n",
    "    train_info = train_step(model_1, train_dataloader, loss_fn, accuracy_fn, optim, device)\n",
    "    test_info = test_step(model_1, test_dataloader, loss_fn, accuracy_fn, device)\n",
    "\n",
    "    if epoche % 2 == 0:\n",
    "        print(f\"Epoche: {epoche}\\n---------\")\n",
    "        print(f\"Train loss: {train_info[0]:.5f} | Train accuracy: {train_info[1]:.2f}%\")\n",
    "        print(f\"Test loss: {test_info[0]:.5f} | Test accuracy: {test_info[1]:.2f}%\")\n",
    "\n",
    "    train_losses_1.append(train_info[0])\n",
    "    test_losses_1.append(test_info[0])\n",
    "    test_acc_1.append(test_info[1])"
   ]
  },
  {
   "cell_type": "code",
   "execution_count": 15,
   "id": "daa5c067",
   "metadata": {
    "execution": {
     "iopub.execute_input": "2025-01-16T11:27:25.542680Z",
     "iopub.status.busy": "2025-01-16T11:27:25.542457Z",
     "iopub.status.idle": "2025-01-16T11:27:25.708782Z",
     "shell.execute_reply": "2025-01-16T11:27:25.707994Z"
    },
    "papermill": {
     "duration": 0.176267,
     "end_time": "2025-01-16T11:27:25.710016",
     "exception": false,
     "start_time": "2025-01-16T11:27:25.533749",
     "status": "completed"
    },
    "tags": []
   },
   "outputs": [
    {
     "data": {
      "image/png": "[encoded data removed]",
      "text/plain": [
       "<Figure size 600x400 with 1 Axes>"
      ]
     },
     "metadata": {},
     "output_type": "display_data"
    }
   ],
   "source": [
    "plt.figure(figsize=(6, 4))\n",
    "\n",
    "plt.plot(range(epoches), train_losses_1, c=\"darkorange\",label=\"Train loss\")\n",
    "plt.plot(range(epoches), test_losses_1, c=\"slateblue\", ls='dashed', label=\"Test loss\")\n",
    "plt.plot(range(epoches), test_acc_1, c=\"darkseagreen\", ls='dashdot', label=\"Test acc\")\n",
    "plt.xlabel(\"Epoch\")\n",
    "plt.ylabel(\"Loss\")\n",
    "plt.title(f\"VGG-11 Losses,\\nimg size = {image_size}x{image_size}\")\n",
    "plt.legend()\n",
    "plt.grid(True)\n",
    "plt.show()"
   ]
  },
  {
   "cell_type": "markdown",
   "id": "f706da96",
   "metadata": {
    "papermill": {
     "duration": 0.008357,
     "end_time": "2025-01-16T11:27:25.727237",
     "exception": false,
     "start_time": "2025-01-16T11:27:25.718880",
     "status": "completed"
    },
    "tags": []
   },
   "source": [
    "# VGG-16"
   ]
  },
  {
   "cell_type": "markdown",
   "id": "c062908c",
   "metadata": {
    "papermill": {
     "duration": 0.008272,
     "end_time": "2025-01-16T11:27:25.743849",
     "exception": false,
     "start_time": "2025-01-16T11:27:25.735577",
     "status": "completed"
    },
    "tags": []
   },
   "source": [
    "## Image size 56x56"
   ]
  },
  {
   "cell_type": "code",
   "execution_count": 16,
   "id": "1634b113",
   "metadata": {
    "execution": {
     "iopub.execute_input": "2025-01-16T11:27:25.761362Z",
     "iopub.status.busy": "2025-01-16T11:27:25.761101Z",
     "iopub.status.idle": "2025-01-16T11:27:25.764183Z",
     "shell.execute_reply": "2025-01-16T11:27:25.763536Z"
    },
    "papermill": {
     "duration": 0.01314,
     "end_time": "2025-01-16T11:27:25.765339",
     "exception": false,
     "start_time": "2025-01-16T11:27:25.752199",
     "status": "completed"
    },
    "tags": []
   },
   "outputs": [],
   "source": [
    "image_size = 84"
   ]
  },
  {
   "cell_type": "code",
   "execution_count": 17,
   "id": "a0115d97",
   "metadata": {
    "execution": {
     "iopub.execute_input": "2025-01-16T11:27:25.783208Z",
     "iopub.status.busy": "2025-01-16T11:27:25.782969Z",
     "iopub.status.idle": "2025-01-16T11:27:25.812997Z",
     "shell.execute_reply": "2025-01-16T11:27:25.812225Z"
    },
    "papermill": {
     "duration": 0.040579,
     "end_time": "2025-01-16T11:27:25.814520",
     "exception": false,
     "start_time": "2025-01-16T11:27:25.773941",
     "status": "completed"
    },
    "tags": []
   },
   "outputs": [],
   "source": [
    "from torchvision.datasets import FashionMNIST, MNIST\n",
    "from torchvision.transforms.v2 import Resize, ToTensor, Compose\n",
    "\n",
    "transforms =Compose([\n",
    "    Resize((image_size, image_size)),\n",
    "    ToTensor()\n",
    "])\n",
    "\n",
    "train_data = FashionMNIST(\n",
    "    root=\"data\",\n",
    "    train=True,\n",
    "    download=True,\n",
    "    transform=transforms,\n",
    ")\n",
    "\n",
    "test_data = FashionMNIST(\n",
    "    root=\"data\",\n",
    "    train=False,\n",
    "    download=True,\n",
    "    transform=transforms,\n",
    ")\n",
    "\n",
    "class_names = train_data.classes"
   ]
  },
  {
   "cell_type": "code",
   "execution_count": 18,
   "id": "582d1a0f",
   "metadata": {
    "execution": {
     "iopub.execute_input": "2025-01-16T11:27:25.834748Z",
     "iopub.status.busy": "2025-01-16T11:27:25.834481Z",
     "iopub.status.idle": "2025-01-16T11:27:25.838278Z",
     "shell.execute_reply": "2025-01-16T11:27:25.837593Z"
    },
    "papermill": {
     "duration": 0.014633,
     "end_time": "2025-01-16T11:27:25.839645",
     "exception": false,
     "start_time": "2025-01-16T11:27:25.825012",
     "status": "completed"
    },
    "tags": []
   },
   "outputs": [],
   "source": [
    "from torch.utils.data import DataLoader\n",
    "\n",
    "train_dataloader = DataLoader(train_data, batch_size=128, shuffle=True)\n",
    "test_dataloader = DataLoader(test_data, batch_size=128, shuffle=True)"
   ]
  },
  {
   "cell_type": "code",
   "execution_count": 19,
   "id": "8f4f6499",
   "metadata": {
    "execution": {
     "iopub.execute_input": "2025-01-16T11:27:25.857544Z",
     "iopub.status.busy": "2025-01-16T11:27:25.857334Z",
     "iopub.status.idle": "2025-01-16T12:00:29.379032Z",
     "shell.execute_reply": "2025-01-16T12:00:29.378119Z"
    },
    "papermill": {
     "duration": 1983.542797,
     "end_time": "2025-01-16T12:00:29.390902",
     "exception": false,
     "start_time": "2025-01-16T11:27:25.848105",
     "status": "completed"
    },
    "tags": []
   },
   "outputs": [
    {
     "data": {
      "application/vnd.jupyter.widget-view+json": {
       "model_id": "b284ae66d07b4ff1ba7da92b9782bc30",
       "version_major": 2,
       "version_minor": 0
      },
      "text/plain": [
       "  0%|          | 0/11 [00:00<?, ?it/s]"
      ]
     },
     "metadata": {},
     "output_type": "display_data"
    },
    {
     "name": "stdout",
     "output_type": "stream",
     "text": [
      "Epoche: 0\n",
      "---------\n",
      "Train loss: 0.99557 | Train accuracy: 0.63%\n",
      "Test loss: 0.39503 | Test accuracy: 0.85%\n",
      "Epoche: 2\n",
      "---------\n",
      "Train loss: 0.29985 | Train accuracy: 0.89%\n",
      "Test loss: 0.33870 | Test accuracy: 0.88%\n",
      "Epoche: 4\n",
      "---------\n",
      "Train loss: 0.21558 | Train accuracy: 0.92%\n",
      "Test loss: 0.32192 | Test accuracy: 0.89%\n",
      "Epoche: 6\n",
      "---------\n",
      "Train loss: 0.14915 | Train accuracy: 0.95%\n",
      "Test loss: 0.25103 | Test accuracy: 0.92%\n",
      "Epoche: 8\n",
      "---------\n",
      "Train loss: 0.09036 | Train accuracy: 0.97%\n",
      "Test loss: 0.27467 | Test accuracy: 0.92%\n",
      "Epoche: 10\n",
      "---------\n",
      "Train loss: 0.05886 | Train accuracy: 0.98%\n",
      "Test loss: 0.36079 | Test accuracy: 0.92%\n"
     ]
    }
   ],
   "source": [
    "from tqdm.auto import tqdm\n",
    "\n",
    "model_2 = VGG(arch=((2, 64), (2, 128), (3, 256), (3, 512), (3, 512)), img_size=image_size, out_shape=len(class_names))\n",
    "\n",
    "loss_fn = torch.nn.CrossEntropyLoss()\n",
    "optim = torch.optim.SGD(model_2.parameters(), lr=0.01, momentum=0.9, nesterov=True)\n",
    "\n",
    "epoches = 11\n",
    "\n",
    "train_losses_2 = []\n",
    "test_losses_2 = []\n",
    "test_acc_2 = []\n",
    "\n",
    "for epoche in tqdm(range(epoches)):\n",
    "    train_info = train_step(model_2, train_dataloader, loss_fn, accuracy_fn, optim, device)\n",
    "    test_info = test_step(model_2, test_dataloader, loss_fn, accuracy_fn, device)\n",
    "\n",
    "    if epoche % 2 == 0:\n",
    "        print(f\"Epoche: {epoche}\\n---------\")\n",
    "        print(f\"Train loss: {train_info[0]:.5f} | Train accuracy: {train_info[1]:.2f}%\")\n",
    "        print(f\"Test loss: {test_info[0]:.5f} | Test accuracy: {test_info[1]:.2f}%\")\n",
    "\n",
    "    train_losses_2.append(train_info[0])\n",
    "    test_losses_2.append(test_info[0])\n",
    "    test_acc_2.append(test_info[1])"
   ]
  },
  {
   "cell_type": "code",
   "execution_count": 20,
   "id": "f8ead86f",
   "metadata": {
    "execution": {
     "iopub.execute_input": "2025-01-16T12:00:29.411308Z",
     "iopub.status.busy": "2025-01-16T12:00:29.411015Z",
     "iopub.status.idle": "2025-01-16T12:00:29.606866Z",
     "shell.execute_reply": "2025-01-16T12:00:29.606046Z"
    },
    "papermill": {
     "duration": 0.208075,
     "end_time": "2025-01-16T12:00:29.608360",
     "exception": false,
     "start_time": "2025-01-16T12:00:29.400285",
     "status": "completed"
    },
    "tags": []
   },
   "outputs": [
    {
     "data": {
      "image/png": "[encoded data removed]",
      "text/plain": [
       "<Figure size 600x400 with 1 Axes>"
      ]
     },
     "metadata": {},
     "output_type": "display_data"
    }
   ],
   "source": [
    "plt.figure(figsize=(6, 4))\n",
    "\n",
    "plt.plot(range(epoches), train_losses_2, c=\"darkorange\",label=\"Train loss\")\n",
    "plt.plot(range(epoches), test_losses_2, c=\"slateblue\", ls='dashed', label=\"Test loss\")\n",
    "plt.plot(range(epoches), test_acc_2, c=\"darkseagreen\", ls='dashdot', label=\"Test acc\")\n",
    "plt.xlabel(\"Epoch\")\n",
    "plt.ylabel(\"Loss\")\n",
    "plt.title(f\"VGG-16 Losses,\\nimg size = {image_size}x{image_size}\")\n",
    "plt.legend()\n",
    "plt.grid(True)\n",
    "plt.show()"
   ]
  },
  {
   "cell_type": "markdown",
   "id": "ac03352e",
   "metadata": {
    "papermill": {
     "duration": 0.009895,
     "end_time": "2025-01-16T12:00:29.687358",
     "exception": false,
     "start_time": "2025-01-16T12:00:29.677463",
     "status": "completed"
    },
    "tags": []
   },
   "source": [
    "# Comparsion"
   ]
  },
  {
   "cell_type": "code",
   "execution_count": 21,
   "id": "3ace7458",
   "metadata": {
    "execution": {
     "iopub.execute_input": "2025-01-16T12:00:29.708125Z",
     "iopub.status.busy": "2025-01-16T12:00:29.707823Z",
     "iopub.status.idle": "2025-01-16T12:00:29.897735Z",
     "shell.execute_reply": "2025-01-16T12:00:29.896888Z"
    },
    "papermill": {
     "duration": 0.202016,
     "end_time": "2025-01-16T12:00:29.899271",
     "exception": false,
     "start_time": "2025-01-16T12:00:29.697255",
     "status": "completed"
    },
    "tags": []
   },
   "outputs": [
    {
     "data": {
      "image/png": "[encoded data removed]",
      "text/plain": [
       "<Figure size 600x400 with 1 Axes>"
      ]
     },
     "metadata": {},
     "output_type": "display_data"
    }
   ],
   "source": [
    "plt.figure(figsize=(6, 4))\n",
    "\n",
    "plt.plot(range(epoches), test_losses_0, c=\"darkorange\", label=\"Loss using VGG-11 and image size = 56\")\n",
    "plt.plot(range(epoches), test_losses_1, c=\"slateblue\", ls='dashed', label=\"Loss using VGG-11 and image size = 84\")\n",
    "plt.plot(range(epoches), test_losses_2, c=\"darkseagreen\", ls='dashdot', label=\"Loss using VGG-16 and image size = 84\")\n",
    "plt.xlabel(\"Epochs\")\n",
    "plt.ylabel(\"Loss\")\n",
    "plt.title(\"Comparison of Loss Functions\")\n",
    "plt.legend()\n",
    "#plt.grid(True)\n",
    "plt.show()"
   ]
  },
  {
   "cell_type": "markdown",
   "id": "28cb0ae0",
   "metadata": {
    "papermill": {
     "duration": 0.010789,
     "end_time": "2025-01-16T12:00:29.921492",
     "exception": false,
     "start_time": "2025-01-16T12:00:29.910703",
     "status": "completed"
    },
    "tags": []
   },
   "source": [
    "# Summary"
   ]
  },
  {
   "cell_type": "markdown",
   "id": "0b8512ae",
   "metadata": {
    "papermill": {
     "duration": 0.010831,
     "end_time": "2025-01-16T12:00:29.943033",
     "exception": false,
     "start_time": "2025-01-16T12:00:29.932202",
     "status": "completed"
    },
    "tags": []
   },
   "source": [
    "## VGG-11"
   ]
  },
  {
   "cell_type": "code",
   "execution_count": 22,
   "id": "7d577684",
   "metadata": {
    "execution": {
     "iopub.execute_input": "2025-01-16T12:00:29.965438Z",
     "iopub.status.busy": "2025-01-16T12:00:29.965126Z",
     "iopub.status.idle": "2025-01-16T12:00:30.063852Z",
     "shell.execute_reply": "2025-01-16T12:00:30.063063Z"
    },
    "papermill": {
     "duration": 0.111445,
     "end_time": "2025-01-16T12:00:30.065184",
     "exception": false,
     "start_time": "2025-01-16T12:00:29.953739",
     "status": "completed"
    },
    "tags": []
   },
   "outputs": [
    {
     "data": {
      "text/plain": [
       "==========================================================================================\n",
       "Layer (type:depth-idx)                   Output Shape              Param #\n",
       "==========================================================================================\n",
       "VGG                                      [1, 10]                   --\n",
       "├─Sequential: 1-1                        [1, 512, 1, 1]            --\n",
       "│    └─Sequential: 2-1                   [1, 64, 28, 28]           --\n",
       "│    │    └─Conv2d: 3-1                  [1, 64, 56, 56]           640\n",
       "│    │    └─GELU: 3-2                    [1, 64, 56, 56]           --\n",
       "│    │    └─MaxPool2d: 3-3               [1, 64, 28, 28]           --\n",
       "│    └─Sequential: 2-2                   [1, 128, 14, 14]          --\n",
       "│    │    └─Conv2d: 3-4                  [1, 128, 28, 28]          73,856\n",
       "│    │    └─GELU: 3-5                    [1, 128, 28, 28]          --\n",
       "│    │    └─MaxPool2d: 3-6               [1, 128, 14, 14]          --\n",
       "│    └─Sequential: 2-3                   [1, 256, 7, 7]            --\n",
       "│    │    └─Conv2d: 3-7                  [1, 256, 14, 14]          295,168\n",
       "│    │    └─GELU: 3-8                    [1, 256, 14, 14]          --\n",
       "│    │    └─Conv2d: 3-9                  [1, 256, 14, 14]          590,080\n",
       "│    │    └─GELU: 3-10                   [1, 256, 14, 14]          --\n",
       "│    │    └─MaxPool2d: 3-11              [1, 256, 7, 7]            --\n",
       "│    └─Sequential: 2-4                   [1, 512, 3, 3]            --\n",
       "│    │    └─Conv2d: 3-12                 [1, 512, 7, 7]            1,180,160\n",
       "│    │    └─GELU: 3-13                   [1, 512, 7, 7]            --\n",
       "│    │    └─Conv2d: 3-14                 [1, 512, 7, 7]            2,359,808\n",
       "│    │    └─GELU: 3-15                   [1, 512, 7, 7]            --\n",
       "│    │    └─MaxPool2d: 3-16              [1, 512, 3, 3]            --\n",
       "│    └─Sequential: 2-5                   [1, 512, 1, 1]            --\n",
       "│    │    └─Conv2d: 3-17                 [1, 512, 3, 3]            2,359,808\n",
       "│    │    └─GELU: 3-18                   [1, 512, 3, 3]            --\n",
       "│    │    └─Conv2d: 3-19                 [1, 512, 3, 3]            2,359,808\n",
       "│    │    └─GELU: 3-20                   [1, 512, 3, 3]            --\n",
       "│    │    └─MaxPool2d: 3-21              [1, 512, 1, 1]            --\n",
       "├─Sequential: 1-2                        [1, 10]                   --\n",
       "│    └─Flatten: 2-6                      [1, 512]                  --\n",
       "│    └─Linear: 2-7                       [1, 4096]                 2,101,248\n",
       "│    └─GELU: 2-8                         [1, 4096]                 --\n",
       "│    └─Dropout: 2-9                      [1, 4096]                 --\n",
       "│    └─Linear: 2-10                      [1, 4096]                 16,781,312\n",
       "│    └─GELU: 2-11                        [1, 4096]                 --\n",
       "│    └─Dropout: 2-12                     [1, 4096]                 --\n",
       "│    └─Linear: 2-13                      [1, 10]                   40,970\n",
       "==========================================================================================\n",
       "Total params: 28,142,858\n",
       "Trainable params: 28,142,858\n",
       "Non-trainable params: 0\n",
       "Total mult-adds (M): 468.28\n",
       "==========================================================================================\n",
       "Input size (MB): 0.01\n",
       "Forward/backward pass size (MB): 3.75\n",
       "Params size (MB): 112.57\n",
       "Estimated Total Size (MB): 116.34\n",
       "=========================================================================================="
      ]
     },
     "execution_count": 22,
     "metadata": {},
     "output_type": "execute_result"
    }
   ],
   "source": [
    "from torchinfo import summary\n",
    "\n",
    "\n",
    "summary(model_0, input_size=(1, 1, 56, 56))"
   ]
  },
  {
   "cell_type": "markdown",
   "id": "ccaed27a",
   "metadata": {
    "papermill": {
     "duration": 0.010893,
     "end_time": "2025-01-16T12:00:30.087522",
     "exception": false,
     "start_time": "2025-01-16T12:00:30.076629",
     "status": "completed"
    },
    "tags": []
   },
   "source": [
    "## VGG-16"
   ]
  },
  {
   "cell_type": "code",
   "execution_count": 23,
   "id": "e3424116",
   "metadata": {
    "execution": {
     "iopub.execute_input": "2025-01-16T12:00:30.110540Z",
     "iopub.status.busy": "2025-01-16T12:00:30.110258Z",
     "iopub.status.idle": "2025-01-16T12:00:30.133301Z",
     "shell.execute_reply": "2025-01-16T12:00:30.132587Z"
    },
    "papermill": {
     "duration": 0.036166,
     "end_time": "2025-01-16T12:00:30.134532",
     "exception": false,
     "start_time": "2025-01-16T12:00:30.098366",
     "status": "completed"
    },
    "tags": []
   },
   "outputs": [
    {
     "data": {
      "text/plain": [
       "==========================================================================================\n",
       "Layer (type:depth-idx)                   Output Shape              Param #\n",
       "==========================================================================================\n",
       "VGG                                      [1, 10]                   --\n",
       "├─Sequential: 1-1                        [1, 512, 2, 2]            --\n",
       "│    └─Sequential: 2-1                   [1, 64, 42, 42]           --\n",
       "│    │    └─Conv2d: 3-1                  [1, 64, 84, 84]           640\n",
       "│    │    └─GELU: 3-2                    [1, 64, 84, 84]           --\n",
       "│    │    └─Conv2d: 3-3                  [1, 64, 84, 84]           36,928\n",
       "│    │    └─GELU: 3-4                    [1, 64, 84, 84]           --\n",
       "│    │    └─MaxPool2d: 3-5               [1, 64, 42, 42]           --\n",
       "│    └─Sequential: 2-2                   [1, 128, 21, 21]          --\n",
       "│    │    └─Conv2d: 3-6                  [1, 128, 42, 42]          73,856\n",
       "│    │    └─GELU: 3-7                    [1, 128, 42, 42]          --\n",
       "│    │    └─Conv2d: 3-8                  [1, 128, 42, 42]          147,584\n",
       "│    │    └─GELU: 3-9                    [1, 128, 42, 42]          --\n",
       "│    │    └─MaxPool2d: 3-10              [1, 128, 21, 21]          --\n",
       "│    └─Sequential: 2-3                   [1, 256, 10, 10]          --\n",
       "│    │    └─Conv2d: 3-11                 [1, 256, 21, 21]          295,168\n",
       "│    │    └─GELU: 3-12                   [1, 256, 21, 21]          --\n",
       "│    │    └─Conv2d: 3-13                 [1, 256, 21, 21]          590,080\n",
       "│    │    └─GELU: 3-14                   [1, 256, 21, 21]          --\n",
       "│    │    └─Conv2d: 3-15                 [1, 256, 21, 21]          590,080\n",
       "│    │    └─GELU: 3-16                   [1, 256, 21, 21]          --\n",
       "│    │    └─MaxPool2d: 3-17              [1, 256, 10, 10]          --\n",
       "│    └─Sequential: 2-4                   [1, 512, 5, 5]            --\n",
       "│    │    └─Conv2d: 3-18                 [1, 512, 10, 10]          1,180,160\n",
       "│    │    └─GELU: 3-19                   [1, 512, 10, 10]          --\n",
       "│    │    └─Conv2d: 3-20                 [1, 512, 10, 10]          2,359,808\n",
       "│    │    └─GELU: 3-21                   [1, 512, 10, 10]          --\n",
       "│    │    └─Conv2d: 3-22                 [1, 512, 10, 10]          2,359,808\n",
       "│    │    └─GELU: 3-23                   [1, 512, 10, 10]          --\n",
       "│    │    └─MaxPool2d: 3-24              [1, 512, 5, 5]            --\n",
       "│    └─Sequential: 2-5                   [1, 512, 2, 2]            --\n",
       "│    │    └─Conv2d: 3-25                 [1, 512, 5, 5]            2,359,808\n",
       "│    │    └─GELU: 3-26                   [1, 512, 5, 5]            --\n",
       "│    │    └─Conv2d: 3-27                 [1, 512, 5, 5]            2,359,808\n",
       "│    │    └─GELU: 3-28                   [1, 512, 5, 5]            --\n",
       "│    │    └─Conv2d: 3-29                 [1, 512, 5, 5]            2,359,808\n",
       "│    │    └─GELU: 3-30                   [1, 512, 5, 5]            --\n",
       "│    │    └─MaxPool2d: 3-31              [1, 512, 2, 2]            --\n",
       "├─Sequential: 1-2                        [1, 10]                   --\n",
       "│    └─Flatten: 2-6                      [1, 2048]                 --\n",
       "│    └─Linear: 2-7                       [1, 4096]                 8,392,704\n",
       "│    └─GELU: 2-8                         [1, 4096]                 --\n",
       "│    └─Dropout: 2-9                      [1, 4096]                 --\n",
       "│    └─Linear: 2-10                      [1, 4096]                 16,781,312\n",
       "│    └─GELU: 2-11                        [1, 4096]                 --\n",
       "│    └─Dropout: 2-12                     [1, 4096]                 --\n",
       "│    └─Linear: 2-13                      [1, 10]                   40,970\n",
       "==========================================================================================\n",
       "Total params: 39,928,522\n",
       "Trainable params: 39,928,522\n",
       "Non-trainable params: 0\n",
       "Total mult-adds (G): 2.10\n",
       "==========================================================================================\n",
       "Input size (MB): 0.03\n",
       "Forward/backward pass size (MB): 15.15\n",
       "Params size (MB): 159.71\n",
       "Estimated Total Size (MB): 174.89\n",
       "=========================================================================================="
      ]
     },
     "execution_count": 23,
     "metadata": {},
     "output_type": "execute_result"
    }
   ],
   "source": [
    "summary(model_2, input_size=(1, 1, 84, 84))"
   ]
  }
 ],
 "metadata": {
  "kaggle": {
   "accelerator": "nvidiaTeslaT4",
   "dataSources": [],
   "dockerImageVersionId": 30840,
   "isGpuEnabled": true,
   "isInternetEnabled": true,
   "language": "python",
   "sourceType": "notebook"
  },
  "kernelspec": {
   "display_name": "Python 3",
   "language": "python",
   "name": "python3"
  },
  "language_info": {
   "codemirror_mode": {
    "name": "ipython",
    "version": 3
   },
   "file_extension": ".py",
   "mimetype": "text/x-python",
   "name": "python",
   "nbconvert_exporter": "python",
   "pygments_lexer": "ipython3",
   "version": "3.10.12"
  },
  "papermill": {
   "default_parameters": {},
   "duration": 3462.304175,
   "end_time": "2025-01-16T12:00:32.497513",
   "environment_variables": {},
   "exception": null,
   "input_path": "__notebook__.ipynb",
   "output_path": "__notebook__.ipynb",
   "parameters": {},
   "start_time": "2025-01-16T11:02:50.193338",
   "version": "2.6.0"
  },
  "widgets": {
   "application/vnd.jupyter.widget-state+json": {
    "state": {
     "10119fc622c44242a0eeb6f4cdcdaa46": {
      "model_module": "@jupyter-widgets/base",
      "model_module_version": "2.0.0",
      "model_name": "LayoutModel",
      "state": {
       "_model_module": "@jupyter-widgets/base",
       "_model_module_version": "2.0.0",
       "_model_name": "LayoutModel",
       "_view_count": null,
       "_view_module": "@jupyter-widgets/base",
       "_view_module_version": "2.0.0",
       "_view_name": "LayoutView",
       "align_content": null,
       "align_items": null,
       "align_self": null,
       "border_bottom": null,
       "border_left": null,
       "border_right": null,
       "border_top": null,
       "bottom": null,
       "display": null,
       "flex": null,
       "flex_flow": null,
       "grid_area": null,
       "grid_auto_columns": null,
       "grid_auto_flow": null,
       "grid_auto_rows": null,
       "grid_column": null,
       "grid_gap": null,
       "grid_row": null,
       "grid_template_areas": null,
       "grid_template_columns": null,
       "grid_template_rows": null,
       "height": null,
       "justify_content": null,
       "justify_items": null,
       "left": null,
       "margin": null,
       "max_height": null,
       "max_width": null,
       "min_height": null,
       "min_width": null,
       "object_fit": null,
       "object_position": null,
       "order": null,
       "overflow": null,
       "padding": null,
       "right": null,
       "top": null,
       "visibility": null,
       "width": null
      }
     },
     "12a38d6400c7431981bc19edeb26c601": {
      "model_module": "@jupyter-widgets/controls",
      "model_module_version": "2.0.0",
      "model_name": "HTMLStyleModel",
      "state": {
       "_model_module": "@jupyter-widgets/controls",
       "_model_module_version": "2.0.0",
       "_model_name": "HTMLStyleModel",
       "_view_count": null,
       "_view_module": "@jupyter-widgets/base",
       "_view_module_version": "2.0.0",
       "_view_name": "StyleView",
       "background": null,
       "description_width": "",
       "font_size": null,
       "text_color": null
      }
     },
     "17ff9df701074d4a8abce936a5c55dcc": {
      "model_module": "@jupyter-widgets/controls",
      "model_module_version": "2.0.0",
      "model_name": "HTMLStyleModel",
      "state": {
       "_model_module": "@jupyter-widgets/controls",
       "_model_module_version": "2.0.0",
       "_model_name": "HTMLStyleModel",
       "_view_count": null,
       "_view_module": "@jupyter-widgets/base",
       "_view_module_version": "2.0.0",
       "_view_name": "StyleView",
       "background": null,
       "description_width": "",
       "font_size": null,
       "text_color": null
      }
     },
     "1b402058ab3f4443a6e97628510949b0": {
      "model_module": "@jupyter-widgets/controls",
      "model_module_version": "2.0.0",
      "model_name": "ProgressStyleModel",
      "state": {
       "_model_module": "@jupyter-widgets/controls",
       "_model_module_version": "2.0.0",
       "_model_name": "ProgressStyleModel",
       "_view_count": null,
       "_view_module": "@jupyter-widgets/base",
       "_view_module_version": "2.0.0",
       "_view_name": "StyleView",
       "bar_color": null,
       "description_width": ""
      }
     },
     "1de9d8601aa147f499289bf4a7089a8d": {
      "model_module": "@jupyter-widgets/base",
      "model_module_version": "2.0.0",
      "model_name": "LayoutModel",
      "state": {
       "_model_module": "@jupyter-widgets/base",
       "_model_module_version": "2.0.0",
       "_model_name": "LayoutModel",
       "_view_count": null,
       "_view_module": "@jupyter-widgets/base",
       "_view_module_version": "2.0.0",
       "_view_name": "LayoutView",
       "align_content": null,
       "align_items": null,
       "align_self": null,
       "border_bottom": null,
       "border_left": null,
       "border_right": null,
       "border_top": null,
       "bottom": null,
       "display": null,
       "flex": null,
       "flex_flow": null,
       "grid_area": null,
       "grid_auto_columns": null,
       "grid_auto_flow": null,
       "grid_auto_rows": null,
       "grid_column": null,
       "grid_gap": null,
       "grid_row": null,
       "grid_template_areas": null,
       "grid_template_columns": null,
       "grid_template_rows": null,
       "height": null,
       "justify_content": null,
       "justify_items": null,
       "left": null,
       "margin": null,
       "max_height": null,
       "max_width": null,
       "min_height": null,
       "min_width": null,
       "object_fit": null,
       "object_position": null,
       "order": null,
       "overflow": null,
       "padding": null,
       "right": null,
       "top": null,
       "visibility": null,
       "width": null
      }
     },
     "1f0a0ecf0f2c4ef99222fc8d3ea3a5cf": {
      "model_module": "@jupyter-widgets/controls",
      "model_module_version": "2.0.0",
      "model_name": "HTMLStyleModel",
      "state": {
       "_model_module": "@jupyter-widgets/controls",
       "_model_module_version": "2.0.0",
       "_model_name": "HTMLStyleModel",
       "_view_count": null,
       "_view_module": "@jupyter-widgets/base",
       "_view_module_version": "2.0.0",
       "_view_name": "StyleView",
       "background": null,
       "description_width": "",
       "font_size": null,
       "text_color": null
      }
     },
     "215ffb741bbc4e3f9bb9f584ada1aeaf": {
      "model_module": "@jupyter-widgets/controls",
      "model_module_version": "2.0.0",
      "model_name": "HTMLModel",
      "state": {
       "_dom_classes": [],
       "_model_module": "@jupyter-widgets/controls",
       "_model_module_version": "2.0.0",
       "_model_name": "HTMLModel",
       "_view_count": null,
       "_view_module": "@jupyter-widgets/controls",
       "_view_module_version": "2.0.0",
       "_view_name": "HTMLView",
       "description": "",
       "description_allow_html": false,
       "layout": "IPY_MODEL_7b5fa6a29b2c46dc9b8d671a6ba6cac4",
       "placeholder": "​",
       "style": "IPY_MODEL_4956dbf194b54180b2c78a2d1fbe13c1",
       "tabbable": null,
       "tooltip": null,
       "value": " 11/11 [16:46&lt;00:00, 91.66s/it]"
      }
     },
     "2190d3af46bc4d60a7eb0f0c37acc7e2": {
      "model_module": "@jupyter-widgets/base",
      "model_module_version": "2.0.0",
      "model_name": "LayoutModel",
      "state": {
       "_model_module": "@jupyter-widgets/base",
       "_model_module_version": "2.0.0",
       "_model_name": "LayoutModel",
       "_view_count": null,
       "_view_module": "@jupyter-widgets/base",
       "_view_module_version": "2.0.0",
       "_view_name": "LayoutView",
       "align_content": null,
       "align_items": null,
       "align_self": null,
       "border_bottom": null,
       "border_left": null,
       "border_right": null,
       "border_top": null,
       "bottom": null,
       "display": null,
       "flex": null,
       "flex_flow": null,
       "grid_area": null,
       "grid_auto_columns": null,
       "grid_auto_flow": null,
       "grid_auto_rows": null,
       "grid_column": null,
       "grid_gap": null,
       "grid_row": null,
       "grid_template_areas": null,
       "grid_template_columns": null,
       "grid_template_rows": null,
       "height": null,
       "justify_content": null,
       "justify_items": null,
       "left": null,
       "margin": null,
       "max_height": null,
       "max_width": null,
       "min_height": null,
       "min_width": null,
       "object_fit": null,
       "object_position": null,
       "order": null,
       "overflow": null,
       "padding": null,
       "right": null,
       "top": null,
       "visibility": null,
       "width": null
      }
     },
     "2ccaa0b539f0475381897e64d416198a": {
      "model_module": "@jupyter-widgets/controls",
      "model_module_version": "2.0.0",
      "model_name": "HTMLModel",
      "state": {
       "_dom_classes": [],
       "_model_module": "@jupyter-widgets/controls",
       "_model_module_version": "2.0.0",
       "_model_name": "HTMLModel",
       "_view_count": null,
       "_view_module": "@jupyter-widgets/controls",
       "_view_module_version": "2.0.0",
       "_view_name": "HTMLView",
       "description": "",
       "description_allow_html": false,
       "layout": "IPY_MODEL_e70219bce6b9428d8246c4455513cadd",
       "placeholder": "​",
       "style": "IPY_MODEL_12a38d6400c7431981bc19edeb26c601",
       "tabbable": null,
       "tooltip": null,
       "value": " 11/11 [07:31&lt;00:00, 42.19s/it]"
      }
     },
     "4956dbf194b54180b2c78a2d1fbe13c1": {
      "model_module": "@jupyter-widgets/controls",
      "model_module_version": "2.0.0",
      "model_name": "HTMLStyleModel",
      "state": {
       "_model_module": "@jupyter-widgets/controls",
       "_model_module_version": "2.0.0",
       "_model_name": "HTMLStyleModel",
       "_view_count": null,
       "_view_module": "@jupyter-widgets/base",
       "_view_module_version": "2.0.0",
       "_view_name": "StyleView",
       "background": null,
       "description_width": "",
       "font_size": null,
       "text_color": null
      }
     },
     "53f7cd789c6e4af6ac4ecefd42c6590a": {
      "model_module": "@jupyter-widgets/controls",
      "model_module_version": "2.0.0",
      "model_name": "HTMLStyleModel",
      "state": {
       "_model_module": "@jupyter-widgets/controls",
       "_model_module_version": "2.0.0",
       "_model_name": "HTMLStyleModel",
       "_view_count": null,
       "_view_module": "@jupyter-widgets/base",
       "_view_module_version": "2.0.0",
       "_view_name": "StyleView",
       "background": null,
       "description_width": "",
       "font_size": null,
       "text_color": null
      }
     },
     "5c15a3b5479141b99aa304b02c6af5b9": {
      "model_module": "@jupyter-widgets/base",
      "model_module_version": "2.0.0",
      "model_name": "LayoutModel",
      "state": {
       "_model_module": "@jupyter-widgets/base",
       "_model_module_version": "2.0.0",
       "_model_name": "LayoutModel",
       "_view_count": null,
       "_view_module": "@jupyter-widgets/base",
       "_view_module_version": "2.0.0",
       "_view_name": "LayoutView",
       "align_content": null,
       "align_items": null,
       "align_self": null,
       "border_bottom": null,
       "border_left": null,
       "border_right": null,
       "border_top": null,
       "bottom": null,
       "display": null,
       "flex": null,
       "flex_flow": null,
       "grid_area": null,
       "grid_auto_columns": null,
       "grid_auto_flow": null,
       "grid_auto_rows": null,
       "grid_column": null,
       "grid_gap": null,
       "grid_row": null,
       "grid_template_areas": null,
       "grid_template_columns": null,
       "grid_template_rows": null,
       "height": null,
       "justify_content": null,
       "justify_items": null,
       "left": null,
       "margin": null,
       "max_height": null,
       "max_width": null,
       "min_height": null,
       "min_width": null,
       "object_fit": null,
       "object_position": null,
       "order": null,
       "overflow": null,
       "padding": null,
       "right": null,
       "top": null,
       "visibility": null,
       "width": null
      }
     },
     "62e373bda3374513b0f03317d79628c4": {
      "model_module": "@jupyter-widgets/base",
      "model_module_version": "2.0.0",
      "model_name": "LayoutModel",
      "state": {
       "_model_module": "@jupyter-widgets/base",
       "_model_module_version": "2.0.0",
       "_model_name": "LayoutModel",
       "_view_count": null,
       "_view_module": "@jupyter-widgets/base",
       "_view_module_version": "2.0.0",
       "_view_name": "LayoutView",
       "align_content": null,
       "align_items": null,
       "align_self": null,
       "border_bottom": null,
       "border_left": null,
       "border_right": null,
       "border_top": null,
       "bottom": null,
       "display": null,
       "flex": null,
       "flex_flow": null,
       "grid_area": null,
       "grid_auto_columns": null,
       "grid_auto_flow": null,
       "grid_auto_rows": null,
       "grid_column": null,
       "grid_gap": null,
       "grid_row": null,
       "grid_template_areas": null,
       "grid_template_columns": null,
       "grid_template_rows": null,
       "height": null,
       "justify_content": null,
       "justify_items": null,
       "left": null,
       "margin": null,
       "max_height": null,
       "max_width": null,
       "min_height": null,
       "min_width": null,
       "object_fit": null,
       "object_position": null,
       "order": null,
       "overflow": null,
       "padding": null,
       "right": null,
       "top": null,
       "visibility": null,
       "width": null
      }
     },
     "6e5962a476cb4a5ebec66745654eded6": {
      "model_module": "@jupyter-widgets/controls",
      "model_module_version": "2.0.0",
      "model_name": "HTMLModel",
      "state": {
       "_dom_classes": [],
       "_model_module": "@jupyter-widgets/controls",
       "_model_module_version": "2.0.0",
       "_model_name": "HTMLModel",
       "_view_count": null,
       "_view_module": "@jupyter-widgets/controls",
       "_view_module_version": "2.0.0",
       "_view_name": "HTMLView",
       "description": "",
       "description_allow_html": false,
       "layout": "IPY_MODEL_d131841c64b9429886544a44df2ab6cf",
       "placeholder": "​",
       "style": "IPY_MODEL_ea538e685287431ead1c9d7c686fc8cf",
       "tabbable": null,
       "tooltip": null,
       "value": "100%"
      }
     },
     "7b5fa6a29b2c46dc9b8d671a6ba6cac4": {
      "model_module": "@jupyter-widgets/base",
      "model_module_version": "2.0.0",
      "model_name": "LayoutModel",
      "state": {
       "_model_module": "@jupyter-widgets/base",
       "_model_module_version": "2.0.0",
       "_model_name": "LayoutModel",
       "_view_count": null,
       "_view_module": "@jupyter-widgets/base",
       "_view_module_version": "2.0.0",
       "_view_name": "LayoutView",
       "align_content": null,
       "align_items": null,
       "align_self": null,
       "border_bottom": null,
       "border_left": null,
       "border_right": null,
       "border_top": null,
       "bottom": null,
       "display": null,
       "flex": null,
       "flex_flow": null,
       "grid_area": null,
       "grid_auto_columns": null,
       "grid_auto_flow": null,
       "grid_auto_rows": null,
       "grid_column": null,
       "grid_gap": null,
       "grid_row": null,
       "grid_template_areas": null,
       "grid_template_columns": null,
       "grid_template_rows": null,
       "height": null,
       "justify_content": null,
       "justify_items": null,
       "left": null,
       "margin": null,
       "max_height": null,
       "max_width": null,
       "min_height": null,
       "min_width": null,
       "object_fit": null,
       "object_position": null,
       "order": null,
       "overflow": null,
       "padding": null,
       "right": null,
       "top": null,
       "visibility": null,
       "width": null
      }
     },
     "8f406876ff37461d9ea1fcddbc89aa0d": {
      "model_module": "@jupyter-widgets/controls",
      "model_module_version": "2.0.0",
      "model_name": "FloatProgressModel",
      "state": {
       "_dom_classes": [],
       "_model_module": "@jupyter-widgets/controls",
       "_model_module_version": "2.0.0",
       "_model_name": "FloatProgressModel",
       "_view_count": null,
       "_view_module": "@jupyter-widgets/controls",
       "_view_module_version": "2.0.0",
       "_view_name": "ProgressView",
       "bar_style": "success",
       "description": "",
       "description_allow_html": false,
       "layout": "IPY_MODEL_db11047a51c648188840e8e1436acaa2",
       "max": 11.0,
       "min": 0.0,
       "orientation": "horizontal",
       "style": "IPY_MODEL_1b402058ab3f4443a6e97628510949b0",
       "tabbable": null,
       "tooltip": null,
       "value": 11.0
      }
     },
     "98b6680de53a41bb8a51cd0284de865a": {
      "model_module": "@jupyter-widgets/controls",
      "model_module_version": "2.0.0",
      "model_name": "ProgressStyleModel",
      "state": {
       "_model_module": "@jupyter-widgets/controls",
       "_model_module_version": "2.0.0",
       "_model_name": "ProgressStyleModel",
       "_view_count": null,
       "_view_module": "@jupyter-widgets/base",
       "_view_module_version": "2.0.0",
       "_view_name": "StyleView",
       "bar_color": null,
       "description_width": ""
      }
     },
     "9a86560324824750b20dcc38d6a46e11": {
      "model_module": "@jupyter-widgets/controls",
      "model_module_version": "2.0.0",
      "model_name": "HTMLModel",
      "state": {
       "_dom_classes": [],
       "_model_module": "@jupyter-widgets/controls",
       "_model_module_version": "2.0.0",
       "_model_name": "HTMLModel",
       "_view_count": null,
       "_view_module": "@jupyter-widgets/controls",
       "_view_module_version": "2.0.0",
       "_view_name": "HTMLView",
       "description": "",
       "description_allow_html": false,
       "layout": "IPY_MODEL_c900846d31184e108e47f7ad87698ca8",
       "placeholder": "​",
       "style": "IPY_MODEL_1f0a0ecf0f2c4ef99222fc8d3ea3a5cf",
       "tabbable": null,
       "tooltip": null,
       "value": " 11/11 [33:03&lt;00:00, 180.34s/it]"
      }
     },
     "a5cc007e2583476e83a1ffd6109e5310": {
      "model_module": "@jupyter-widgets/controls",
      "model_module_version": "2.0.0",
      "model_name": "HBoxModel",
      "state": {
       "_dom_classes": [],
       "_model_module": "@jupyter-widgets/controls",
       "_model_module_version": "2.0.0",
       "_model_name": "HBoxModel",
       "_view_count": null,
       "_view_module": "@jupyter-widgets/controls",
       "_view_module_version": "2.0.0",
       "_view_name": "HBoxView",
       "box_style": "",
       "children": [
        "IPY_MODEL_6e5962a476cb4a5ebec66745654eded6",
        "IPY_MODEL_c31c0ab08aca46f8b1acc32e629e71fb",
        "IPY_MODEL_2ccaa0b539f0475381897e64d416198a"
       ],
       "layout": "IPY_MODEL_b5e14eea93af43dea0af9c70969939e4",
       "tabbable": null,
       "tooltip": null
      }
     },
     "b284ae66d07b4ff1ba7da92b9782bc30": {
      "model_module": "@jupyter-widgets/controls",
      "model_module_version": "2.0.0",
      "model_name": "HBoxModel",
      "state": {
       "_dom_classes": [],
       "_model_module": "@jupyter-widgets/controls",
       "_model_module_version": "2.0.0",
       "_model_name": "HBoxModel",
       "_view_count": null,
       "_view_module": "@jupyter-widgets/controls",
       "_view_module_version": "2.0.0",
       "_view_name": "HBoxView",
       "box_style": "",
       "children": [
        "IPY_MODEL_e996995dc1d74520a488f94b6e2fdf4e",
        "IPY_MODEL_8f406876ff37461d9ea1fcddbc89aa0d",
        "IPY_MODEL_9a86560324824750b20dcc38d6a46e11"
       ],
       "layout": "IPY_MODEL_2190d3af46bc4d60a7eb0f0c37acc7e2",
       "tabbable": null,
       "tooltip": null
      }
     },
     "b38101e74964400a972011ba0cf50312": {
      "model_module": "@jupyter-widgets/controls",
      "model_module_version": "2.0.0",
      "model_name": "FloatProgressModel",
      "state": {
       "_dom_classes": [],
       "_model_module": "@jupyter-widgets/controls",
       "_model_module_version": "2.0.0",
       "_model_name": "FloatProgressModel",
       "_view_count": null,
       "_view_module": "@jupyter-widgets/controls",
       "_view_module_version": "2.0.0",
       "_view_name": "ProgressView",
       "bar_style": "success",
       "description": "",
       "description_allow_html": false,
       "layout": "IPY_MODEL_5c15a3b5479141b99aa304b02c6af5b9",
       "max": 11.0,
       "min": 0.0,
       "orientation": "horizontal",
       "style": "IPY_MODEL_98b6680de53a41bb8a51cd0284de865a",
       "tabbable": null,
       "tooltip": null,
       "value": 11.0
      }
     },
     "b5e14eea93af43dea0af9c70969939e4": {
      "model_module": "@jupyter-widgets/base",
      "model_module_version": "2.0.0",
      "model_name": "LayoutModel",
      "state": {
       "_model_module": "@jupyter-widgets/base",
       "_model_module_version": "2.0.0",
       "_model_name": "LayoutModel",
       "_view_count": null,
       "_view_module": "@jupyter-widgets/base",
       "_view_module_version": "2.0.0",
       "_view_name": "LayoutView",
       "align_content": null,
       "align_items": null,
       "align_self": null,
       "border_bottom": null,
       "border_left": null,
       "border_right": null,
       "border_top": null,
       "bottom": null,
       "display": null,
       "flex": null,
       "flex_flow": null,
       "grid_area": null,
       "grid_auto_columns": null,
       "grid_auto_flow": null,
       "grid_auto_rows": null,
       "grid_column": null,
       "grid_gap": null,
       "grid_row": null,
       "grid_template_areas": null,
       "grid_template_columns": null,
       "grid_template_rows": null,
       "height": null,
       "justify_content": null,
       "justify_items": null,
       "left": null,
       "margin": null,
       "max_height": null,
       "max_width": null,
       "min_height": null,
       "min_width": null,
       "object_fit": null,
       "object_position": null,
       "order": null,
       "overflow": null,
       "padding": null,
       "right": null,
       "top": null,
       "visibility": null,
       "width": null
      }
     },
     "c0eb928bcf6c44018347ee0e28c13647": {
      "model_module": "@jupyter-widgets/controls",
      "model_module_version": "2.0.0",
      "model_name": "HBoxModel",
      "state": {
       "_dom_classes": [],
       "_model_module": "@jupyter-widgets/controls",
       "_model_module_version": "2.0.0",
       "_model_name": "HBoxModel",
       "_view_count": null,
       "_view_module": "@jupyter-widgets/controls",
       "_view_module_version": "2.0.0",
       "_view_name": "HBoxView",
       "box_style": "",
       "children": [
        "IPY_MODEL_e2f40458412647bab75c1a64cad98653",
        "IPY_MODEL_b38101e74964400a972011ba0cf50312",
        "IPY_MODEL_215ffb741bbc4e3f9bb9f584ada1aeaf"
       ],
       "layout": "IPY_MODEL_10119fc622c44242a0eeb6f4cdcdaa46",
       "tabbable": null,
       "tooltip": null
      }
     },
     "c31c0ab08aca46f8b1acc32e629e71fb": {
      "model_module": "@jupyter-widgets/controls",
      "model_module_version": "2.0.0",
      "model_name": "FloatProgressModel",
      "state": {
       "_dom_classes": [],
       "_model_module": "@jupyter-widgets/controls",
       "_model_module_version": "2.0.0",
       "_model_name": "FloatProgressModel",
       "_view_count": null,
       "_view_module": "@jupyter-widgets/controls",
       "_view_module_version": "2.0.0",
       "_view_name": "ProgressView",
       "bar_style": "success",
       "description": "",
       "description_allow_html": false,
       "layout": "IPY_MODEL_cc4a945588a04bb8b301f795824b0a99",
       "max": 11.0,
       "min": 0.0,
       "orientation": "horizontal",
       "style": "IPY_MODEL_c738fce05e9644d58ceabbc8d40e24f5",
       "tabbable": null,
       "tooltip": null,
       "value": 11.0
      }
     },
     "c738fce05e9644d58ceabbc8d40e24f5": {
      "model_module": "@jupyter-widgets/controls",
      "model_module_version": "2.0.0",
      "model_name": "ProgressStyleModel",
      "state": {
       "_model_module": "@jupyter-widgets/controls",
       "_model_module_version": "2.0.0",
       "_model_name": "ProgressStyleModel",
       "_view_count": null,
       "_view_module": "@jupyter-widgets/base",
       "_view_module_version": "2.0.0",
       "_view_name": "StyleView",
       "bar_color": null,
       "description_width": ""
      }
     },
     "c900846d31184e108e47f7ad87698ca8": {
      "model_module": "@jupyter-widgets/base",
      "model_module_version": "2.0.0",
      "model_name": "LayoutModel",
      "state": {
       "_model_module": "@jupyter-widgets/base",
       "_model_module_version": "2.0.0",
       "_model_name": "LayoutModel",
       "_view_count": null,
       "_view_module": "@jupyter-widgets/base",
       "_view_module_version": "2.0.0",
       "_view_name": "LayoutView",
       "align_content": null,
       "align_items": null,
       "align_self": null,
       "border_bottom": null,
       "border_left": null,
       "border_right": null,
       "border_top": null,
       "bottom": null,
       "display": null,
       "flex": null,
       "flex_flow": null,
       "grid_area": null,
       "grid_auto_columns": null,
       "grid_auto_flow": null,
       "grid_auto_rows": null,
       "grid_column": null,
       "grid_gap": null,
       "grid_row": null,
       "grid_template_areas": null,
       "grid_template_columns": null,
       "grid_template_rows": null,
       "height": null,
       "justify_content": null,
       "justify_items": null,
       "left": null,
       "margin": null,
       "max_height": null,
       "max_width": null,
       "min_height": null,
       "min_width": null,
       "object_fit": null,
       "object_position": null,
       "order": null,
       "overflow": null,
       "padding": null,
       "right": null,
       "top": null,
       "visibility": null,
       "width": null
      }
     },
     "cc4a945588a04bb8b301f795824b0a99": {
      "model_module": "@jupyter-widgets/base",
      "model_module_version": "2.0.0",
      "model_name": "LayoutModel",
      "state": {
       "_model_module": "@jupyter-widgets/base",
       "_model_module_version": "2.0.0",
       "_model_name": "LayoutModel",
       "_view_count": null,
       "_view_module": "@jupyter-widgets/base",
       "_view_module_version": "2.0.0",
       "_view_name": "LayoutView",
       "align_content": null,
       "align_items": null,
       "align_self": null,
       "border_bottom": null,
       "border_left": null,
       "border_right": null,
       "border_top": null,
       "bottom": null,
       "display": null,
       "flex": null,
       "flex_flow": null,
       "grid_area": null,
       "grid_auto_columns": null,
       "grid_auto_flow": null,
       "grid_auto_rows": null,
       "grid_column": null,
       "grid_gap": null,
       "grid_row": null,
       "grid_template_areas": null,
       "grid_template_columns": null,
       "grid_template_rows": null,
       "height": null,
       "justify_content": null,
       "justify_items": null,
       "left": null,
       "margin": null,
       "max_height": null,
       "max_width": null,
       "min_height": null,
       "min_width": null,
       "object_fit": null,
       "object_position": null,
       "order": null,
       "overflow": null,
       "padding": null,
       "right": null,
       "top": null,
       "visibility": null,
       "width": null
      }
     },
     "d131841c64b9429886544a44df2ab6cf": {
      "model_module": "@jupyter-widgets/base",
      "model_module_version": "2.0.0",
      "model_name": "LayoutModel",
      "state": {
       "_model_module": "@jupyter-widgets/base",
       "_model_module_version": "2.0.0",
       "_model_name": "LayoutModel",
       "_view_count": null,
       "_view_module": "@jupyter-widgets/base",
       "_view_module_version": "2.0.0",
       "_view_name": "LayoutView",
       "align_content": null,
       "align_items": null,
       "align_self": null,
       "border_bottom": null,
       "border_left": null,
       "border_right": null,
       "border_top": null,
       "bottom": null,
       "display": null,
       "flex": null,
       "flex_flow": null,
       "grid_area": null,
       "grid_auto_columns": null,
       "grid_auto_flow": null,
       "grid_auto_rows": null,
       "grid_column": null,
       "grid_gap": null,
       "grid_row": null,
       "grid_template_areas": null,
       "grid_template_columns": null,
       "grid_template_rows": null,
       "height": null,
       "justify_content": null,
       "justify_items": null,
       "left": null,
       "margin": null,
       "max_height": null,
       "max_width": null,
       "min_height": null,
       "min_width": null,
       "object_fit": null,
       "object_position": null,
       "order": null,
       "overflow": null,
       "padding": null,
       "right": null,
       "top": null,
       "visibility": null,
       "width": null
      }
     },
     "db11047a51c648188840e8e1436acaa2": {
      "model_module": "@jupyter-widgets/base",
      "model_module_version": "2.0.0",
      "model_name": "LayoutModel",
      "state": {
       "_model_module": "@jupyter-widgets/base",
       "_model_module_version": "2.0.0",
       "_model_name": "LayoutModel",
       "_view_count": null,
       "_view_module": "@jupyter-widgets/base",
       "_view_module_version": "2.0.0",
       "_view_name": "LayoutView",
       "align_content": null,
       "align_items": null,
       "align_self": null,
       "border_bottom": null,
       "border_left": null,
       "border_right": null,
       "border_top": null,
       "bottom": null,
       "display": null,
       "flex": null,
       "flex_flow": null,
       "grid_area": null,
       "grid_auto_columns": null,
       "grid_auto_flow": null,
       "grid_auto_rows": null,
       "grid_column": null,
       "grid_gap": null,
       "grid_row": null,
       "grid_template_areas": null,
       "grid_template_columns": null,
       "grid_template_rows": null,
       "height": null,
       "justify_content": null,
       "justify_items": null,
       "left": null,
       "margin": null,
       "max_height": null,
       "max_width": null,
       "min_height": null,
       "min_width": null,
       "object_fit": null,
       "object_position": null,
       "order": null,
       "overflow": null,
       "padding": null,
       "right": null,
       "top": null,
       "visibility": null,
       "width": null
      }
     },
     "e2f40458412647bab75c1a64cad98653": {
      "model_module": "@jupyter-widgets/controls",
      "model_module_version": "2.0.0",
      "model_name": "HTMLModel",
      "state": {
       "_dom_classes": [],
       "_model_module": "@jupyter-widgets/controls",
       "_model_module_version": "2.0.0",
       "_model_name": "HTMLModel",
       "_view_count": null,
       "_view_module": "@jupyter-widgets/controls",
       "_view_module_version": "2.0.0",
       "_view_name": "HTMLView",
       "description": "",
       "description_allow_html": false,
       "layout": "IPY_MODEL_62e373bda3374513b0f03317d79628c4",
       "placeholder": "​",
       "style": "IPY_MODEL_53f7cd789c6e4af6ac4ecefd42c6590a",
       "tabbable": null,
       "tooltip": null,
       "value": "100%"
      }
     },
     "e70219bce6b9428d8246c4455513cadd": {
      "model_module": "@jupyter-widgets/base",
      "model_module_version": "2.0.0",
      "model_name": "LayoutModel",
      "state": {
       "_model_module": "@jupyter-widgets/base",
       "_model_module_version": "2.0.0",
       "_model_name": "LayoutModel",
       "_view_count": null,
       "_view_module": "@jupyter-widgets/base",
       "_view_module_version": "2.0.0",
       "_view_name": "LayoutView",
       "align_content": null,
       "align_items": null,
       "align_self": null,
       "border_bottom": null,
       "border_left": null,
       "border_right": null,
       "border_top": null,
       "bottom": null,
       "display": null,
       "flex": null,
       "flex_flow": null,
       "grid_area": null,
       "grid_auto_columns": null,
       "grid_auto_flow": null,
       "grid_auto_rows": null,
       "grid_column": null,
       "grid_gap": null,
       "grid_row": null,
       "grid_template_areas": null,
       "grid_template_columns": null,
       "grid_template_rows": null,
       "height": null,
       "justify_content": null,
       "justify_items": null,
       "left": null,
       "margin": null,
       "max_height": null,
       "max_width": null,
       "min_height": null,
       "min_width": null,
       "object_fit": null,
       "object_position": null,
       "order": null,
       "overflow": null,
       "padding": null,
       "right": null,
       "top": null,
       "visibility": null,
       "width": null
      }
     },
     "e996995dc1d74520a488f94b6e2fdf4e": {
      "model_module": "@jupyter-widgets/controls",
      "model_module_version": "2.0.0",
      "model_name": "HTMLModel",
      "state": {
       "_dom_classes": [],
       "_model_module": "@jupyter-widgets/controls",
       "_model_module_version": "2.0.0",
       "_model_name": "HTMLModel",
       "_view_count": null,
       "_view_module": "@jupyter-widgets/controls",
       "_view_module_version": "2.0.0",
       "_view_name": "HTMLView",
       "description": "",
       "description_allow_html": false,
       "layout": "IPY_MODEL_1de9d8601aa147f499289bf4a7089a8d",
       "placeholder": "​",
       "style": "IPY_MODEL_17ff9df701074d4a8abce936a5c55dcc",
       "tabbable": null,
       "tooltip": null,
       "value": "100%"
      }
     },
     "ea538e685287431ead1c9d7c686fc8cf": {
      "model_module": "@jupyter-widgets/controls",
      "model_module_version": "2.0.0",
      "model_name": "HTMLStyleModel",
      "state": {
       "_model_module": "@jupyter-widgets/controls",
       "_model_module_version": "2.0.0",
       "_model_name": "HTMLStyleModel",
       "_view_count": null,
       "_view_module": "@jupyter-widgets/base",
       "_view_module_version": "2.0.0",
       "_view_name": "StyleView",
       "background": null,
       "description_width": "",
       "font_size": null,
       "text_color": null
      }
     }
    },
    "version_major": 2,
    "version_minor": 0
   }
  }
 },
 "nbformat": 4,
 "nbformat_minor": 5
}
