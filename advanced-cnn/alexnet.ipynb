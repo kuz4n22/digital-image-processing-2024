{
 "cells": [
  {
   "cell_type": "code",
   "execution_count": 1,
   "id": "4cba3210",
   "metadata": {
    "_cell_guid": "b1076dfc-b9ad-4769-8c92-a6c4dae69d19",
    "_uuid": "8f2839f25d086af736a60e9eeb907d3b93b6e0e5",
    "execution": {
     "iopub.execute_input": "2025-01-16T08:23:55.047382Z",
     "iopub.status.busy": "2025-01-16T08:23:55.047036Z",
     "iopub.status.idle": "2025-01-16T08:23:58.018949Z",
     "shell.execute_reply": "2025-01-16T08:23:58.018291Z"
    },
    "papermill": {
     "duration": 2.978204,
     "end_time": "2025-01-16T08:23:58.020536",
     "exception": false,
     "start_time": "2025-01-16T08:23:55.042332",
     "status": "completed"
    },
    "tags": []
   },
   "outputs": [],
   "source": [
    "import torch\n",
    "from torch import nn\n",
    "import torch.nn.init as init"
   ]
  },
  {
   "cell_type": "code",
   "execution_count": 2,
   "id": "2314ab3d",
   "metadata": {
    "execution": {
     "iopub.execute_input": "2025-01-16T08:23:58.028442Z",
     "iopub.status.busy": "2025-01-16T08:23:58.028099Z",
     "iopub.status.idle": "2025-01-16T08:24:04.978127Z",
     "shell.execute_reply": "2025-01-16T08:24:04.977107Z"
    },
    "papermill": {
     "duration": 6.955177,
     "end_time": "2025-01-16T08:24:04.979635",
     "exception": false,
     "start_time": "2025-01-16T08:23:58.024458",
     "status": "completed"
    },
    "tags": []
   },
   "outputs": [
    {
     "name": "stderr",
     "output_type": "stream",
     "text": [
      "/usr/local/lib/python3.10/dist-packages/torchvision/transforms/v2/_deprecated.py:42: UserWarning: The transform `ToTensor()` is deprecated and will be removed in a future release. Instead, please use `v2.Compose([v2.ToImage(), v2.ToDtype(torch.float32, scale=True)])`.Output is equivalent up to float precision.\n",
      "  warnings.warn(\n"
     ]
    },
    {
     "name": "stdout",
     "output_type": "stream",
     "text": [
      "Downloading http://fashion-mnist.s3-website.eu-central-1.amazonaws.com/train-images-idx3-ubyte.gz\n",
      "Downloading http://fashion-mnist.s3-website.eu-central-1.amazonaws.com/train-images-idx3-ubyte.gz to data/FashionMNIST/raw/train-images-idx3-ubyte.gz\n"
     ]
    },
    {
     "name": "stderr",
     "output_type": "stream",
     "text": [
      "100%|██████████| 26421880/26421880 [00:01<00:00, 16948098.67it/s]\n"
     ]
    },
    {
     "name": "stdout",
     "output_type": "stream",
     "text": [
      "Extracting data/FashionMNIST/raw/train-images-idx3-ubyte.gz to data/FashionMNIST/raw\n",
      "\n",
      "Downloading http://fashion-mnist.s3-website.eu-central-1.amazonaws.com/train-labels-idx1-ubyte.gz\n",
      "Downloading http://fashion-mnist.s3-website.eu-central-1.amazonaws.com/train-labels-idx1-ubyte.gz to data/FashionMNIST/raw/train-labels-idx1-ubyte.gz\n"
     ]
    },
    {
     "name": "stderr",
     "output_type": "stream",
     "text": [
      "100%|██████████| 29515/29515 [00:00<00:00, 272831.00it/s]\n"
     ]
    },
    {
     "name": "stdout",
     "output_type": "stream",
     "text": [
      "Extracting data/FashionMNIST/raw/train-labels-idx1-ubyte.gz to data/FashionMNIST/raw\n",
      "\n",
      "Downloading http://fashion-mnist.s3-website.eu-central-1.amazonaws.com/t10k-images-idx3-ubyte.gz\n",
      "Downloading http://fashion-mnist.s3-website.eu-central-1.amazonaws.com/t10k-images-idx3-ubyte.gz to data/FashionMNIST/raw/t10k-images-idx3-ubyte.gz\n"
     ]
    },
    {
     "name": "stderr",
     "output_type": "stream",
     "text": [
      "100%|██████████| 4422102/4422102 [00:00<00:00, 4989559.63it/s]\n"
     ]
    },
    {
     "name": "stdout",
     "output_type": "stream",
     "text": [
      "Extracting data/FashionMNIST/raw/t10k-images-idx3-ubyte.gz to data/FashionMNIST/raw\n",
      "\n",
      "Downloading http://fashion-mnist.s3-website.eu-central-1.amazonaws.com/t10k-labels-idx1-ubyte.gz\n",
      "Downloading http://fashion-mnist.s3-website.eu-central-1.amazonaws.com/t10k-labels-idx1-ubyte.gz to data/FashionMNIST/raw/t10k-labels-idx1-ubyte.gz\n"
     ]
    },
    {
     "name": "stderr",
     "output_type": "stream",
     "text": [
      "100%|██████████| 5148/5148 [00:00<00:00, 8745353.18it/s]"
     ]
    },
    {
     "name": "stdout",
     "output_type": "stream",
     "text": [
      "Extracting data/FashionMNIST/raw/t10k-labels-idx1-ubyte.gz to data/FashionMNIST/raw\n",
      "\n"
     ]
    },
    {
     "name": "stderr",
     "output_type": "stream",
     "text": [
      "\n"
     ]
    }
   ],
   "source": [
    "from torchvision.datasets import FashionMNIST, MNIST\n",
    "from torchvision.transforms.v2 import Resize, ToTensor, Compose, Normalize\n",
    "\n",
    "transforms =Compose([\n",
    "    ToTensor(),\n",
    "    Normalize(mean=(0,), std=(1,))\n",
    "])\n",
    "\n",
    "train_data = FashionMNIST(\n",
    "    root=\"data\",\n",
    "    train=True,\n",
    "    download=True,\n",
    "    transform=ToTensor(),\n",
    ")\n",
    "\n",
    "test_data = FashionMNIST(\n",
    "    root=\"data\",\n",
    "    train=False,\n",
    "    download=True,\n",
    "    transform=ToTensor(),\n",
    ")\n",
    "\n",
    "class_names = train_data.classes"
   ]
  },
  {
   "cell_type": "code",
   "execution_count": 3,
   "id": "90de138f",
   "metadata": {
    "execution": {
     "iopub.execute_input": "2025-01-16T08:24:04.991067Z",
     "iopub.status.busy": "2025-01-16T08:24:04.990736Z",
     "iopub.status.idle": "2025-01-16T08:24:04.994094Z",
     "shell.execute_reply": "2025-01-16T08:24:04.993316Z"
    },
    "papermill": {
     "duration": 0.010364,
     "end_time": "2025-01-16T08:24:04.995383",
     "exception": false,
     "start_time": "2025-01-16T08:24:04.985019",
     "status": "completed"
    },
    "tags": []
   },
   "outputs": [],
   "source": [
    "import matplotlib.pyplot as plt"
   ]
  },
  {
   "cell_type": "code",
   "execution_count": 4,
   "id": "df37de8d",
   "metadata": {
    "execution": {
     "iopub.execute_input": "2025-01-16T08:24:05.006358Z",
     "iopub.status.busy": "2025-01-16T08:24:05.006119Z",
     "iopub.status.idle": "2025-01-16T08:24:05.201095Z",
     "shell.execute_reply": "2025-01-16T08:24:05.200277Z"
    },
    "jupyter": {
     "source_hidden": true
    },
    "papermill": {
     "duration": 0.202034,
     "end_time": "2025-01-16T08:24:05.202481",
     "exception": false,
     "start_time": "2025-01-16T08:24:05.000447",
     "status": "completed"
    },
    "tags": []
   },
   "outputs": [
    {
     "data": {
      "image/png": "[encoded data removed]",
      "text/plain": [
       "<Figure size 500x400 with 1 Axes>"
      ]
     },
     "metadata": {},
     "output_type": "display_data"
    }
   ],
   "source": [
    "plt.figure(figsize=(5, 4))\n",
    "\n",
    "random_idx = torch.randint(0, len(train_data), size=[1]).item()\n",
    "img, label = train_data[random_idx]\n",
    "\n",
    "plt.imshow(img.squeeze(), cmap=\"gray\")\n",
    "plt.title(class_names[label])\n",
    "plt.axis(False)\n",
    "plt.show()"
   ]
  },
  {
   "cell_type": "code",
   "execution_count": 5,
   "id": "79d1f080",
   "metadata": {
    "execution": {
     "iopub.execute_input": "2025-01-16T08:24:05.214451Z",
     "iopub.status.busy": "2025-01-16T08:24:05.214205Z",
     "iopub.status.idle": "2025-01-16T08:24:05.217791Z",
     "shell.execute_reply": "2025-01-16T08:24:05.217193Z"
    },
    "papermill": {
     "duration": 0.010951,
     "end_time": "2025-01-16T08:24:05.218899",
     "exception": false,
     "start_time": "2025-01-16T08:24:05.207948",
     "status": "completed"
    },
    "tags": []
   },
   "outputs": [],
   "source": [
    "from torch.utils.data import DataLoader\n",
    "\n",
    "train_dataloader = DataLoader(train_data, batch_size=128, shuffle=True)\n",
    "test_dataloader = DataLoader(test_data, batch_size=128, shuffle=True)"
   ]
  },
  {
   "cell_type": "code",
   "execution_count": 6,
   "id": "814b284b",
   "metadata": {
    "execution": {
     "iopub.execute_input": "2025-01-16T08:24:05.229886Z",
     "iopub.status.busy": "2025-01-16T08:24:05.229682Z",
     "iopub.status.idle": "2025-01-16T08:24:05.236336Z",
     "shell.execute_reply": "2025-01-16T08:24:05.235713Z"
    },
    "papermill": {
     "duration": 0.013411,
     "end_time": "2025-01-16T08:24:05.237468",
     "exception": false,
     "start_time": "2025-01-16T08:24:05.224057",
     "status": "completed"
    },
    "tags": []
   },
   "outputs": [],
   "source": [
    "class AlexNet(nn.Module):\n",
    "    def __init__(self, in_channels=1, out_shape=10, activation_fn=nn.ReLU):\n",
    "        super().__init__()\n",
    "        self.activation_fn = activation_fn \n",
    "        self.block_1 = nn.Sequential( \n",
    "            nn.Conv2d(1, 64, kernel_size=3, padding=1), # 64x28x28\n",
    "            activation_fn(),\n",
    "            nn.MaxPool2d(kernel_size=3, stride=2), # 64x14x14\n",
    "            nn.Conv2d(64, 128, kernel_size=3, padding=1), # 128x14x14\n",
    "            activation_fn(),\n",
    "            nn.MaxPool2d(kernel_size=3, stride=2), # 128x7x7\n",
    "            nn.Conv2d(128, 256, kernel_size=3, padding=1), activation_fn(), # 256x7x7\n",
    "            nn.Conv2d(256, 256, kernel_size=3, padding=1), activation_fn(), # 256x7x7\n",
    "            nn.MaxPool2d(kernel_size=3, stride=2), # 128x3x3\n",
    "        )\n",
    "        self.classifier = nn.Sequential(\n",
    "            nn.Flatten(),\n",
    "            nn.LazyLinear(out_features=1024),\n",
    "            activation_fn(), nn.Dropout(p=0.5),\n",
    "            nn.Linear(in_features=1024, out_features=1024),\n",
    "            activation_fn(), nn.Dropout(p=0.5),\n",
    "            nn.Linear(in_features=1024, out_features=out_shape),\n",
    "        )\n",
    "        dummy_input = torch.randn(1, 1, 28, 28) \n",
    "        _ = self(dummy_input)\n",
    "        self.initialize_weights()\n",
    "\n",
    "    def initialize_weights(self):\n",
    "        for layer in self.modules():\n",
    "            if isinstance(layer, nn.Conv2d) or isinstance(layer, nn.Linear):\n",
    "                nn.init.kaiming_normal_(layer.weight, mode='fan_out', nonlinearity='relu')\n",
    "\n",
    "    def forward(self, x):\n",
    "        x = self.block_1(x)\n",
    "        x = self.classifier(x)\n",
    "\n",
    "        return x"
   ]
  },
  {
   "cell_type": "code",
   "execution_count": 7,
   "id": "ba179e49",
   "metadata": {
    "execution": {
     "iopub.execute_input": "2025-01-16T08:24:05.248364Z",
     "iopub.status.busy": "2025-01-16T08:24:05.248137Z",
     "iopub.status.idle": "2025-01-16T08:24:05.328219Z",
     "shell.execute_reply": "2025-01-16T08:24:05.327501Z"
    },
    "papermill": {
     "duration": 0.086976,
     "end_time": "2025-01-16T08:24:05.329566",
     "exception": false,
     "start_time": "2025-01-16T08:24:05.242590",
     "status": "completed"
    },
    "tags": []
   },
   "outputs": [
    {
     "data": {
      "text/plain": [
       "'cuda'"
      ]
     },
     "execution_count": 7,
     "metadata": {},
     "output_type": "execute_result"
    }
   ],
   "source": [
    "device = \"cuda\" if torch.cuda.is_available() else \"cpu\"\n",
    "device"
   ]
  },
  {
   "cell_type": "code",
   "execution_count": 8,
   "id": "4154d280",
   "metadata": {
    "execution": {
     "iopub.execute_input": "2025-01-16T08:24:05.343312Z",
     "iopub.status.busy": "2025-01-16T08:24:05.343033Z",
     "iopub.status.idle": "2025-01-16T08:24:05.349319Z",
     "shell.execute_reply": "2025-01-16T08:24:05.348514Z"
    },
    "papermill": {
     "duration": 0.014887,
     "end_time": "2025-01-16T08:24:05.350666",
     "exception": false,
     "start_time": "2025-01-16T08:24:05.335779",
     "status": "completed"
    },
    "tags": []
   },
   "outputs": [],
   "source": [
    "def train_step(model, train_dataloader, loss_fn, accuracy_fn, optimizer, device=\"cpu\"):\n",
    "    model.to(device)\n",
    "    model.train()\n",
    "    train_loss = train_acc = 0\n",
    "    for X, y in train_dataloader:\n",
    "        X, y = X.to(device), y.to(device)\n",
    "        \n",
    "        y_logits = model(X)\n",
    "\n",
    "        loss = loss_fn(y_logits, y)\n",
    "\n",
    "        train_loss += loss\n",
    "        train_acc += accuracy_fn(y_logits.argmax(dim=1), y)\n",
    "\n",
    "        optimizer.zero_grad()\n",
    "        loss.backward()\n",
    "        optimizer.step()\n",
    "\n",
    "    train_loss /= len(train_dataloader)\n",
    "    train_acc /= len(train_dataloader)\n",
    "\n",
    "    return train_loss.detach().cpu().item(), train_acc\n",
    "\n",
    "\n",
    "def test_step(model, train_dataloader, loss_fn, accuracy_fn, device=\"cpu\"):\n",
    "    model.to(device)\n",
    "    model.eval()\n",
    "    test_loss = test_acc = 0\n",
    "    with torch.inference_mode():\n",
    "        for X, y in test_dataloader:\n",
    "            X, y = X.to(device), y.to(device)\n",
    "            \n",
    "            y_logits = model(X)\n",
    "        \n",
    "            test_loss += loss_fn(y_logits, y)\n",
    "            test_acc += accuracy_fn(y_logits.argmax(dim=1), y)\n",
    "    \n",
    "        test_loss /= len(test_dataloader)\n",
    "        test_acc /= len(test_dataloader)\n",
    "        \n",
    "        return test_loss.detach().cpu().item(), test_acc"
   ]
  },
  {
   "cell_type": "code",
   "execution_count": 9,
   "id": "46ce0e68",
   "metadata": {
    "execution": {
     "iopub.execute_input": "2025-01-16T08:24:05.366165Z",
     "iopub.status.busy": "2025-01-16T08:24:05.365926Z",
     "iopub.status.idle": "2025-01-16T08:24:05.369273Z",
     "shell.execute_reply": "2025-01-16T08:24:05.368515Z"
    },
    "papermill": {
     "duration": 0.010532,
     "end_time": "2025-01-16T08:24:05.370534",
     "exception": false,
     "start_time": "2025-01-16T08:24:05.360002",
     "status": "completed"
    },
    "tags": []
   },
   "outputs": [],
   "source": [
    "def accuracy_fn(y_pred, y_true):\n",
    "    return torch.eq(y_pred, y_true).sum().item() / len(y_true)"
   ]
  },
  {
   "cell_type": "markdown",
   "id": "1a26cbe1",
   "metadata": {
    "papermill": {
     "duration": 0.005055,
     "end_time": "2025-01-16T08:24:05.381542",
     "exception": false,
     "start_time": "2025-01-16T08:24:05.376487",
     "status": "completed"
    },
    "tags": []
   },
   "source": [
    "# ReLU as activation func"
   ]
  },
  {
   "cell_type": "code",
   "execution_count": 10,
   "id": "8bccb7b7",
   "metadata": {
    "execution": {
     "iopub.execute_input": "2025-01-16T08:24:05.394387Z",
     "iopub.status.busy": "2025-01-16T08:24:05.394141Z",
     "iopub.status.idle": "2025-01-16T08:26:00.500593Z",
     "shell.execute_reply": "2025-01-16T08:26:00.499660Z"
    },
    "papermill": {
     "duration": 115.113519,
     "end_time": "2025-01-16T08:26:00.502045",
     "exception": false,
     "start_time": "2025-01-16T08:24:05.388526",
     "status": "completed"
    },
    "tags": []
   },
   "outputs": [
    {
     "data": {
      "application/vnd.jupyter.widget-view+json": {
       "model_id": "3ebb51ae4c0343459a0ae2aa86bcfbe0",
       "version_major": 2,
       "version_minor": 0
      },
      "text/plain": [
       "  0%|          | 0/11 [00:00<?, ?it/s]"
      ]
     },
     "metadata": {},
     "output_type": "display_data"
    },
    {
     "name": "stdout",
     "output_type": "stream",
     "text": [
      "Epoche: 0\n",
      "---------\n",
      "Train loss: 0.75204 | Train accuracy: 0.72%\n",
      "Test loss: 0.41109 | Test accuracy: 0.85%\n",
      "Epoche: 2\n",
      "---------\n",
      "Train loss: 0.33479 | Train accuracy: 0.88%\n",
      "Test loss: 0.31165 | Test accuracy: 0.89%\n",
      "Epoche: 4\n",
      "---------\n",
      "Train loss: 0.27453 | Train accuracy: 0.90%\n",
      "Test loss: 0.28368 | Test accuracy: 0.90%\n",
      "Epoche: 6\n",
      "---------\n",
      "Train loss: 0.24281 | Train accuracy: 0.91%\n",
      "Test loss: 0.26491 | Test accuracy: 0.91%\n",
      "Epoche: 8\n",
      "---------\n",
      "Train loss: 0.21193 | Train accuracy: 0.92%\n",
      "Test loss: 0.25316 | Test accuracy: 0.91%\n",
      "Epoche: 10\n",
      "---------\n",
      "Train loss: 0.19320 | Train accuracy: 0.93%\n",
      "Test loss: 0.24408 | Test accuracy: 0.92%\n"
     ]
    }
   ],
   "source": [
    "from tqdm.auto import tqdm\n",
    "\n",
    "model_0 = AlexNet(out_shape=len(class_names), activation_fn=nn.ReLU)\n",
    "\n",
    "loss_fn = torch.nn.CrossEntropyLoss()\n",
    "optim = torch.optim.SGD(model_0.parameters(), lr=0.01, momentum=0.9, weight_decay=0.0005, nesterov=True)\n",
    "\n",
    "epoches = 11\n",
    "\n",
    "train_losses_0 = []\n",
    "test_losses_0 = []\n",
    "test_acc_0 = []\n",
    "\n",
    "for epoche in tqdm(range(epoches)):\n",
    "    train_info = train_step(model_0, train_dataloader, loss_fn, accuracy_fn, optim, device)\n",
    "    test_info = test_step(model_0, test_dataloader, loss_fn, accuracy_fn, device)\n",
    "    \n",
    "    if epoche % 2 == 0:\n",
    "        print(f\"Epoche: {epoche}\\n---------\")\n",
    "        print(f\"Train loss: {train_info[0]:.5f} | Train accuracy: {train_info[1]:.2f}%\")\n",
    "        print(f\"Test loss: {test_info[0]:.5f} | Test accuracy: {test_info[1]:.2f}%\")\n",
    "\n",
    "    train_losses_0.append(train_info[0])\n",
    "    test_losses_0.append(test_info[0])\n",
    "    test_acc_0.append(test_info[1])"
   ]
  },
  {
   "cell_type": "code",
   "execution_count": 11,
   "id": "d25540df",
   "metadata": {
    "execution": {
     "iopub.execute_input": "2025-01-16T08:26:00.514815Z",
     "iopub.status.busy": "2025-01-16T08:26:00.514585Z",
     "iopub.status.idle": "2025-01-16T08:26:00.796602Z",
     "shell.execute_reply": "2025-01-16T08:26:00.795741Z"
    },
    "papermill": {
     "duration": 0.289906,
     "end_time": "2025-01-16T08:26:00.798132",
     "exception": false,
     "start_time": "2025-01-16T08:26:00.508226",
     "status": "completed"
    },
    "tags": []
   },
   "outputs": [
    {
     "data": {
      "image/png": "[encoded data removed]",
      "text/plain": [
       "<Figure size 600x400 with 1 Axes>"
      ]
     },
     "metadata": {},
     "output_type": "display_data"
    }
   ],
   "source": [
    "plt.figure(figsize=(6, 4))\n",
    "\n",
    "plt.plot(range(epoches), train_losses_0, c=\"darkorange\",label=\"Train loss\")\n",
    "plt.plot(range(epoches), test_losses_0, c=\"slateblue\", ls='dashed', label=\"Test loss\")\n",
    "plt.plot(range(epoches), test_acc_0, c=\"darkseagreen\", ls='dashdot', label=\"Test acc\")\n",
    "plt.xlabel(\"Epoch\")\n",
    "plt.ylabel(\"Loss\")\n",
    "plt.title(\"Losses using ReLU\")\n",
    "plt.legend()\n",
    "plt.grid(True)\n",
    "plt.show()"
   ]
  },
  {
   "cell_type": "markdown",
   "id": "8e4b9149",
   "metadata": {
    "papermill": {
     "duration": 0.00694,
     "end_time": "2025-01-16T08:26:00.812684",
     "exception": false,
     "start_time": "2025-01-16T08:26:00.805744",
     "status": "completed"
    },
    "tags": []
   },
   "source": [
    "# GELU as activation func"
   ]
  },
  {
   "cell_type": "code",
   "execution_count": 12,
   "id": "94ee0d54",
   "metadata": {
    "execution": {
     "iopub.execute_input": "2025-01-16T08:26:00.827573Z",
     "iopub.status.busy": "2025-01-16T08:26:00.827300Z",
     "iopub.status.idle": "2025-01-16T08:27:54.386701Z",
     "shell.execute_reply": "2025-01-16T08:27:54.385767Z"
    },
    "papermill": {
     "duration": 113.568714,
     "end_time": "2025-01-16T08:27:54.388346",
     "exception": false,
     "start_time": "2025-01-16T08:26:00.819632",
     "status": "completed"
    },
    "tags": []
   },
   "outputs": [
    {
     "data": {
      "application/vnd.jupyter.widget-view+json": {
       "model_id": "b4e66802e1b84d57acbc3ac9ab43870e",
       "version_major": 2,
       "version_minor": 0
      },
      "text/plain": [
       "  0%|          | 0/11 [00:00<?, ?it/s]"
      ]
     },
     "metadata": {},
     "output_type": "display_data"
    },
    {
     "name": "stdout",
     "output_type": "stream",
     "text": [
      "Epoche: 0\n",
      "---------\n",
      "Train loss: 0.74306 | Train accuracy: 0.72%\n",
      "Test loss: 0.43697 | Test accuracy: 0.85%\n",
      "Epoche: 2\n",
      "---------\n",
      "Train loss: 0.33992 | Train accuracy: 0.88%\n",
      "Test loss: 0.31628 | Test accuracy: 0.89%\n",
      "Epoche: 4\n",
      "---------\n",
      "Train loss: 0.27719 | Train accuracy: 0.90%\n",
      "Test loss: 0.29336 | Test accuracy: 0.89%\n",
      "Epoche: 6\n",
      "---------\n",
      "Train loss: 0.24037 | Train accuracy: 0.91%\n",
      "Test loss: 0.26994 | Test accuracy: 0.90%\n",
      "Epoche: 8\n",
      "---------\n",
      "Train loss: 0.21406 | Train accuracy: 0.92%\n",
      "Test loss: 0.24812 | Test accuracy: 0.91%\n",
      "Epoche: 10\n",
      "---------\n",
      "Train loss: 0.19059 | Train accuracy: 0.93%\n",
      "Test loss: 0.23901 | Test accuracy: 0.91%\n"
     ]
    }
   ],
   "source": [
    "model_1 = AlexNet(out_shape=len(class_names), activation_fn=nn.GELU)\n",
    "\n",
    "from tqdm.auto import tqdm\n",
    "\n",
    "loss_fn = torch.nn.CrossEntropyLoss()\n",
    "optim = torch.optim.SGD(model_1.parameters(), lr=0.01, momentum=0.9, weight_decay=0.0005, nesterov=True)\n",
    "\n",
    "epoches = 11\n",
    "\n",
    "train_losses_1 = []\n",
    "test_losses_1 = []\n",
    "test_acc_1 = []\n",
    "\n",
    "for epoche in tqdm(range(epoches)):\n",
    "    train_info = train_step(model_1, train_dataloader, loss_fn, accuracy_fn, optim, device)\n",
    "    test_info = test_step(model_1, test_dataloader, loss_fn, accuracy_fn, device)\n",
    "\n",
    "    if epoche % 2 == 0:\n",
    "        print(f\"Epoche: {epoche}\\n---------\")\n",
    "        print(f\"Train loss: {train_info[0]:.5f} | Train accuracy: {train_info[1]:.2f}%\")\n",
    "        print(f\"Test loss: {test_info[0]:.5f} | Test accuracy: {test_info[1]:.2f}%\")\n",
    "\n",
    "    train_losses_1.append(train_info[0])\n",
    "    test_losses_1.append(test_info[0])\n",
    "    test_acc_1.append(test_info[1])"
   ]
  },
  {
   "cell_type": "code",
   "execution_count": 13,
   "id": "4bf457e3",
   "metadata": {
    "execution": {
     "iopub.execute_input": "2025-01-16T08:27:54.403040Z",
     "iopub.status.busy": "2025-01-16T08:27:54.402807Z",
     "iopub.status.idle": "2025-01-16T08:27:54.664201Z",
     "shell.execute_reply": "2025-01-16T08:27:54.663450Z"
    },
    "papermill": {
     "duration": 0.270218,
     "end_time": "2025-01-16T08:27:54.665668",
     "exception": false,
     "start_time": "2025-01-16T08:27:54.395450",
     "status": "completed"
    },
    "tags": []
   },
   "outputs": [
    {
     "data": {
      "image/png": "[encoded data removed]",
      "text/plain": [
       "<Figure size 600x400 with 1 Axes>"
      ]
     },
     "metadata": {},
     "output_type": "display_data"
    }
   ],
   "source": [
    "plt.figure(figsize=(6, 4))\n",
    "\n",
    "plt.plot(range(epoches), train_losses_1, c=\"darkorange\",label=\"Train loss\")\n",
    "plt.plot(range(epoches), test_losses_1, c=\"slateblue\", ls='dashed', label=\"Test loss\")\n",
    "plt.plot(range(epoches), test_acc_1, c=\"darkseagreen\", ls='dashdot', label=\"Test acc\")\n",
    "plt.xlabel(\"Epoch\")\n",
    "plt.ylabel(\"Loss\")\n",
    "plt.title(\"Losses using GELU\")\n",
    "plt.legend()\n",
    "plt.grid(True)\n",
    "plt.show()"
   ]
  },
  {
   "cell_type": "markdown",
   "id": "77a0a1b8",
   "metadata": {
    "papermill": {
     "duration": 0.007332,
     "end_time": "2025-01-16T08:27:54.680539",
     "exception": false,
     "start_time": "2025-01-16T08:27:54.673207",
     "status": "completed"
    },
    "tags": []
   },
   "source": [
    "# Conclusion"
   ]
  },
  {
   "cell_type": "code",
   "execution_count": 14,
   "id": "7f73fea0",
   "metadata": {
    "execution": {
     "iopub.execute_input": "2025-01-16T08:27:54.696069Z",
     "iopub.status.busy": "2025-01-16T08:27:54.695843Z",
     "iopub.status.idle": "2025-01-16T08:27:54.876622Z",
     "shell.execute_reply": "2025-01-16T08:27:54.875844Z"
    },
    "papermill": {
     "duration": 0.190392,
     "end_time": "2025-01-16T08:27:54.878123",
     "exception": false,
     "start_time": "2025-01-16T08:27:54.687731",
     "status": "completed"
    },
    "tags": []
   },
   "outputs": [
    {
     "data": {
      "image/png": "[encoded data removed]",
      "text/plain": [
       "<Figure size 600x400 with 1 Axes>"
      ]
     },
     "metadata": {},
     "output_type": "display_data"
    }
   ],
   "source": [
    "plt.figure(figsize=(6, 4))\n",
    "\n",
    "plt.plot(range(epoches), test_losses_0, c=\"darkorange\", label=\"Loss using ReLU\")\n",
    "plt.plot(range(epoches), test_losses_1, c=\"slateblue\", ls='dashed', label=\"Loss using GELU\")\n",
    "plt.xlabel(\"Epochs\")\n",
    "plt.ylabel(\"Loss\")\n",
    "plt.title(\"Comparison of Loss Functions\")\n",
    "plt.legend()\n",
    "#plt.grid(True)\n",
    "plt.show()\n"
   ]
  }
 ],
 "metadata": {
  "kaggle": {
   "accelerator": "nvidiaTeslaT4",
   "dataSources": [],
   "dockerImageVersionId": 30823,
   "isGpuEnabled": true,
   "isInternetEnabled": true,
   "language": "python",
   "sourceType": "notebook"
  },
  "kernelspec": {
   "display_name": "Python 3",
   "language": "python",
   "name": "python3"
  },
  "language_info": {
   "codemirror_mode": {
    "name": "ipython",
    "version": 3
   },
   "file_extension": ".py",
   "mimetype": "text/x-python",
   "name": "python",
   "nbconvert_exporter": "python",
   "pygments_lexer": "ipython3",
   "version": "3.10.12"
  },
  "papermill": {
   "default_parameters": {},
   "duration": 243.361041,
   "end_time": "2025-01-16T08:27:56.207573",
   "environment_variables": {},
   "exception": null,
   "input_path": "__notebook__.ipynb",
   "output_path": "__notebook__.ipynb",
   "parameters": {},
   "start_time": "2025-01-16T08:23:52.846532",
   "version": "2.6.0"
  },
  "widgets": {
   "application/vnd.jupyter.widget-state+json": {
    "state": {
     "08a49d8f85b64f308a7978a77b13d5da": {
      "model_module": "@jupyter-widgets/controls",
      "model_module_version": "2.0.0",
      "model_name": "HTMLModel",
      "state": {
       "_dom_classes": [],
       "_model_module": "@jupyter-widgets/controls",
       "_model_module_version": "2.0.0",
       "_model_name": "HTMLModel",
       "_view_count": null,
       "_view_module": "@jupyter-widgets/controls",
       "_view_module_version": "2.0.0",
       "_view_name": "HTMLView",
       "description": "",
       "description_allow_html": false,
       "layout": "IPY_MODEL_1c4f202c289f457e8e45aa4785253c46",
       "placeholder": "​",
       "style": "IPY_MODEL_e6560e40c6654aa6a89be2c4be46fa34",
       "tabbable": null,
       "tooltip": null,
       "value": "100%"
      }
     },
     "0e1e41bc2273405398f3da6aee87ae79": {
      "model_module": "@jupyter-widgets/base",
      "model_module_version": "2.0.0",
      "model_name": "LayoutModel",
      "state": {
       "_model_module": "@jupyter-widgets/base",
       "_model_module_version": "2.0.0",
       "_model_name": "LayoutModel",
       "_view_count": null,
       "_view_module": "@jupyter-widgets/base",
       "_view_module_version": "2.0.0",
       "_view_name": "LayoutView",
       "align_content": null,
       "align_items": null,
       "align_self": null,
       "border_bottom": null,
       "border_left": null,
       "border_right": null,
       "border_top": null,
       "bottom": null,
       "display": null,
       "flex": null,
       "flex_flow": null,
       "grid_area": null,
       "grid_auto_columns": null,
       "grid_auto_flow": null,
       "grid_auto_rows": null,
       "grid_column": null,
       "grid_gap": null,
       "grid_row": null,
       "grid_template_areas": null,
       "grid_template_columns": null,
       "grid_template_rows": null,
       "height": null,
       "justify_content": null,
       "justify_items": null,
       "left": null,
       "margin": null,
       "max_height": null,
       "max_width": null,
       "min_height": null,
       "min_width": null,
       "object_fit": null,
       "object_position": null,
       "order": null,
       "overflow": null,
       "padding": null,
       "right": null,
       "top": null,
       "visibility": null,
       "width": null
      }
     },
     "0fc94e3d46ce448d8581a580492e7632": {
      "model_module": "@jupyter-widgets/controls",
      "model_module_version": "2.0.0",
      "model_name": "HTMLStyleModel",
      "state": {
       "_model_module": "@jupyter-widgets/controls",
       "_model_module_version": "2.0.0",
       "_model_name": "HTMLStyleModel",
       "_view_count": null,
       "_view_module": "@jupyter-widgets/base",
       "_view_module_version": "2.0.0",
       "_view_name": "StyleView",
       "background": null,
       "description_width": "",
       "font_size": null,
       "text_color": null
      }
     },
     "1bbf444b1a6441dbb57a3761f9debcbe": {
      "model_module": "@jupyter-widgets/base",
      "model_module_version": "2.0.0",
      "model_name": "LayoutModel",
      "state": {
       "_model_module": "@jupyter-widgets/base",
       "_model_module_version": "2.0.0",
       "_model_name": "LayoutModel",
       "_view_count": null,
       "_view_module": "@jupyter-widgets/base",
       "_view_module_version": "2.0.0",
       "_view_name": "LayoutView",
       "align_content": null,
       "align_items": null,
       "align_self": null,
       "border_bottom": null,
       "border_left": null,
       "border_right": null,
       "border_top": null,
       "bottom": null,
       "display": null,
       "flex": null,
       "flex_flow": null,
       "grid_area": null,
       "grid_auto_columns": null,
       "grid_auto_flow": null,
       "grid_auto_rows": null,
       "grid_column": null,
       "grid_gap": null,
       "grid_row": null,
       "grid_template_areas": null,
       "grid_template_columns": null,
       "grid_template_rows": null,
       "height": null,
       "justify_content": null,
       "justify_items": null,
       "left": null,
       "margin": null,
       "max_height": null,
       "max_width": null,
       "min_height": null,
       "min_width": null,
       "object_fit": null,
       "object_position": null,
       "order": null,
       "overflow": null,
       "padding": null,
       "right": null,
       "top": null,
       "visibility": null,
       "width": null
      }
     },
     "1c4f202c289f457e8e45aa4785253c46": {
      "model_module": "@jupyter-widgets/base",
      "model_module_version": "2.0.0",
      "model_name": "LayoutModel",
      "state": {
       "_model_module": "@jupyter-widgets/base",
       "_model_module_version": "2.0.0",
       "_model_name": "LayoutModel",
       "_view_count": null,
       "_view_module": "@jupyter-widgets/base",
       "_view_module_version": "2.0.0",
       "_view_name": "LayoutView",
       "align_content": null,
       "align_items": null,
       "align_self": null,
       "border_bottom": null,
       "border_left": null,
       "border_right": null,
       "border_top": null,
       "bottom": null,
       "display": null,
       "flex": null,
       "flex_flow": null,
       "grid_area": null,
       "grid_auto_columns": null,
       "grid_auto_flow": null,
       "grid_auto_rows": null,
       "grid_column": null,
       "grid_gap": null,
       "grid_row": null,
       "grid_template_areas": null,
       "grid_template_columns": null,
       "grid_template_rows": null,
       "height": null,
       "justify_content": null,
       "justify_items": null,
       "left": null,
       "margin": null,
       "max_height": null,
       "max_width": null,
       "min_height": null,
       "min_width": null,
       "object_fit": null,
       "object_position": null,
       "order": null,
       "overflow": null,
       "padding": null,
       "right": null,
       "top": null,
       "visibility": null,
       "width": null
      }
     },
     "224d571d53ae4b6fbb6e562a1ca32a5a": {
      "model_module": "@jupyter-widgets/controls",
      "model_module_version": "2.0.0",
      "model_name": "ProgressStyleModel",
      "state": {
       "_model_module": "@jupyter-widgets/controls",
       "_model_module_version": "2.0.0",
       "_model_name": "ProgressStyleModel",
       "_view_count": null,
       "_view_module": "@jupyter-widgets/base",
       "_view_module_version": "2.0.0",
       "_view_name": "StyleView",
       "bar_color": null,
       "description_width": ""
      }
     },
     "2d6fbdbf83ee4364a8009b4d1ee4da86": {
      "model_module": "@jupyter-widgets/controls",
      "model_module_version": "2.0.0",
      "model_name": "HTMLModel",
      "state": {
       "_dom_classes": [],
       "_model_module": "@jupyter-widgets/controls",
       "_model_module_version": "2.0.0",
       "_model_name": "HTMLModel",
       "_view_count": null,
       "_view_module": "@jupyter-widgets/controls",
       "_view_module_version": "2.0.0",
       "_view_name": "HTMLView",
       "description": "",
       "description_allow_html": false,
       "layout": "IPY_MODEL_a5f61f2c244844a68fa415f171a942c2",
       "placeholder": "​",
       "style": "IPY_MODEL_0fc94e3d46ce448d8581a580492e7632",
       "tabbable": null,
       "tooltip": null,
       "value": "100%"
      }
     },
     "335ed41ffb6b4fdb8d791141e399d515": {
      "model_module": "@jupyter-widgets/base",
      "model_module_version": "2.0.0",
      "model_name": "LayoutModel",
      "state": {
       "_model_module": "@jupyter-widgets/base",
       "_model_module_version": "2.0.0",
       "_model_name": "LayoutModel",
       "_view_count": null,
       "_view_module": "@jupyter-widgets/base",
       "_view_module_version": "2.0.0",
       "_view_name": "LayoutView",
       "align_content": null,
       "align_items": null,
       "align_self": null,
       "border_bottom": null,
       "border_left": null,
       "border_right": null,
       "border_top": null,
       "bottom": null,
       "display": null,
       "flex": null,
       "flex_flow": null,
       "grid_area": null,
       "grid_auto_columns": null,
       "grid_auto_flow": null,
       "grid_auto_rows": null,
       "grid_column": null,
       "grid_gap": null,
       "grid_row": null,
       "grid_template_areas": null,
       "grid_template_columns": null,
       "grid_template_rows": null,
       "height": null,
       "justify_content": null,
       "justify_items": null,
       "left": null,
       "margin": null,
       "max_height": null,
       "max_width": null,
       "min_height": null,
       "min_width": null,
       "object_fit": null,
       "object_position": null,
       "order": null,
       "overflow": null,
       "padding": null,
       "right": null,
       "top": null,
       "visibility": null,
       "width": null
      }
     },
     "34dcae546bb9407caecbab70034642f2": {
      "model_module": "@jupyter-widgets/controls",
      "model_module_version": "2.0.0",
      "model_name": "HTMLStyleModel",
      "state": {
       "_model_module": "@jupyter-widgets/controls",
       "_model_module_version": "2.0.0",
       "_model_name": "HTMLStyleModel",
       "_view_count": null,
       "_view_module": "@jupyter-widgets/base",
       "_view_module_version": "2.0.0",
       "_view_name": "StyleView",
       "background": null,
       "description_width": "",
       "font_size": null,
       "text_color": null
      }
     },
     "3720baaf94db4a64afff763d7a74594f": {
      "model_module": "@jupyter-widgets/controls",
      "model_module_version": "2.0.0",
      "model_name": "ProgressStyleModel",
      "state": {
       "_model_module": "@jupyter-widgets/controls",
       "_model_module_version": "2.0.0",
       "_model_name": "ProgressStyleModel",
       "_view_count": null,
       "_view_module": "@jupyter-widgets/base",
       "_view_module_version": "2.0.0",
       "_view_name": "StyleView",
       "bar_color": null,
       "description_width": ""
      }
     },
     "3ebb51ae4c0343459a0ae2aa86bcfbe0": {
      "model_module": "@jupyter-widgets/controls",
      "model_module_version": "2.0.0",
      "model_name": "HBoxModel",
      "state": {
       "_dom_classes": [],
       "_model_module": "@jupyter-widgets/controls",
       "_model_module_version": "2.0.0",
       "_model_name": "HBoxModel",
       "_view_count": null,
       "_view_module": "@jupyter-widgets/controls",
       "_view_module_version": "2.0.0",
       "_view_name": "HBoxView",
       "box_style": "",
       "children": [
        "IPY_MODEL_2d6fbdbf83ee4364a8009b4d1ee4da86",
        "IPY_MODEL_5248c638e7f247a5aa9735ed6dcdfea0",
        "IPY_MODEL_aeb26d79af954124875fa1d39b5afc0c"
       ],
       "layout": "IPY_MODEL_335ed41ffb6b4fdb8d791141e399d515",
       "tabbable": null,
       "tooltip": null
      }
     },
     "46e67773eab149d58377155ca119a19d": {
      "model_module": "@jupyter-widgets/controls",
      "model_module_version": "2.0.0",
      "model_name": "HTMLModel",
      "state": {
       "_dom_classes": [],
       "_model_module": "@jupyter-widgets/controls",
       "_model_module_version": "2.0.0",
       "_model_name": "HTMLModel",
       "_view_count": null,
       "_view_module": "@jupyter-widgets/controls",
       "_view_module_version": "2.0.0",
       "_view_name": "HTMLView",
       "description": "",
       "description_allow_html": false,
       "layout": "IPY_MODEL_e589fc1df149454e92c029daf7d882de",
       "placeholder": "​",
       "style": "IPY_MODEL_d106cf70ef2943dc858b8ddf4b1ac556",
       "tabbable": null,
       "tooltip": null,
       "value": " 11/11 [01:53&lt;00:00, 10.31s/it]"
      }
     },
     "5248c638e7f247a5aa9735ed6dcdfea0": {
      "model_module": "@jupyter-widgets/controls",
      "model_module_version": "2.0.0",
      "model_name": "FloatProgressModel",
      "state": {
       "_dom_classes": [],
       "_model_module": "@jupyter-widgets/controls",
       "_model_module_version": "2.0.0",
       "_model_name": "FloatProgressModel",
       "_view_count": null,
       "_view_module": "@jupyter-widgets/controls",
       "_view_module_version": "2.0.0",
       "_view_name": "ProgressView",
       "bar_style": "success",
       "description": "",
       "description_allow_html": false,
       "layout": "IPY_MODEL_d54bb225642d4bfda89747d57ebf5db4",
       "max": 11.0,
       "min": 0.0,
       "orientation": "horizontal",
       "style": "IPY_MODEL_224d571d53ae4b6fbb6e562a1ca32a5a",
       "tabbable": null,
       "tooltip": null,
       "value": 11.0
      }
     },
     "7c26380d59d449cd8eae68718fba4a18": {
      "model_module": "@jupyter-widgets/controls",
      "model_module_version": "2.0.0",
      "model_name": "FloatProgressModel",
      "state": {
       "_dom_classes": [],
       "_model_module": "@jupyter-widgets/controls",
       "_model_module_version": "2.0.0",
       "_model_name": "FloatProgressModel",
       "_view_count": null,
       "_view_module": "@jupyter-widgets/controls",
       "_view_module_version": "2.0.0",
       "_view_name": "ProgressView",
       "bar_style": "success",
       "description": "",
       "description_allow_html": false,
       "layout": "IPY_MODEL_0e1e41bc2273405398f3da6aee87ae79",
       "max": 11.0,
       "min": 0.0,
       "orientation": "horizontal",
       "style": "IPY_MODEL_3720baaf94db4a64afff763d7a74594f",
       "tabbable": null,
       "tooltip": null,
       "value": 11.0
      }
     },
     "a5f61f2c244844a68fa415f171a942c2": {
      "model_module": "@jupyter-widgets/base",
      "model_module_version": "2.0.0",
      "model_name": "LayoutModel",
      "state": {
       "_model_module": "@jupyter-widgets/base",
       "_model_module_version": "2.0.0",
       "_model_name": "LayoutModel",
       "_view_count": null,
       "_view_module": "@jupyter-widgets/base",
       "_view_module_version": "2.0.0",
       "_view_name": "LayoutView",
       "align_content": null,
       "align_items": null,
       "align_self": null,
       "border_bottom": null,
       "border_left": null,
       "border_right": null,
       "border_top": null,
       "bottom": null,
       "display": null,
       "flex": null,
       "flex_flow": null,
       "grid_area": null,
       "grid_auto_columns": null,
       "grid_auto_flow": null,
       "grid_auto_rows": null,
       "grid_column": null,
       "grid_gap": null,
       "grid_row": null,
       "grid_template_areas": null,
       "grid_template_columns": null,
       "grid_template_rows": null,
       "height": null,
       "justify_content": null,
       "justify_items": null,
       "left": null,
       "margin": null,
       "max_height": null,
       "max_width": null,
       "min_height": null,
       "min_width": null,
       "object_fit": null,
       "object_position": null,
       "order": null,
       "overflow": null,
       "padding": null,
       "right": null,
       "top": null,
       "visibility": null,
       "width": null
      }
     },
     "aeb26d79af954124875fa1d39b5afc0c": {
      "model_module": "@jupyter-widgets/controls",
      "model_module_version": "2.0.0",
      "model_name": "HTMLModel",
      "state": {
       "_dom_classes": [],
       "_model_module": "@jupyter-widgets/controls",
       "_model_module_version": "2.0.0",
       "_model_name": "HTMLModel",
       "_view_count": null,
       "_view_module": "@jupyter-widgets/controls",
       "_view_module_version": "2.0.0",
       "_view_name": "HTMLView",
       "description": "",
       "description_allow_html": false,
       "layout": "IPY_MODEL_eeb79d9d561740199392efa29e2742fd",
       "placeholder": "​",
       "style": "IPY_MODEL_34dcae546bb9407caecbab70034642f2",
       "tabbable": null,
       "tooltip": null,
       "value": " 11/11 [01:54&lt;00:00, 10.35s/it]"
      }
     },
     "b4e66802e1b84d57acbc3ac9ab43870e": {
      "model_module": "@jupyter-widgets/controls",
      "model_module_version": "2.0.0",
      "model_name": "HBoxModel",
      "state": {
       "_dom_classes": [],
       "_model_module": "@jupyter-widgets/controls",
       "_model_module_version": "2.0.0",
       "_model_name": "HBoxModel",
       "_view_count": null,
       "_view_module": "@jupyter-widgets/controls",
       "_view_module_version": "2.0.0",
       "_view_name": "HBoxView",
       "box_style": "",
       "children": [
        "IPY_MODEL_08a49d8f85b64f308a7978a77b13d5da",
        "IPY_MODEL_7c26380d59d449cd8eae68718fba4a18",
        "IPY_MODEL_46e67773eab149d58377155ca119a19d"
       ],
       "layout": "IPY_MODEL_1bbf444b1a6441dbb57a3761f9debcbe",
       "tabbable": null,
       "tooltip": null
      }
     },
     "d106cf70ef2943dc858b8ddf4b1ac556": {
      "model_module": "@jupyter-widgets/controls",
      "model_module_version": "2.0.0",
      "model_name": "HTMLStyleModel",
      "state": {
       "_model_module": "@jupyter-widgets/controls",
       "_model_module_version": "2.0.0",
       "_model_name": "HTMLStyleModel",
       "_view_count": null,
       "_view_module": "@jupyter-widgets/base",
       "_view_module_version": "2.0.0",
       "_view_name": "StyleView",
       "background": null,
       "description_width": "",
       "font_size": null,
       "text_color": null
      }
     },
     "d54bb225642d4bfda89747d57ebf5db4": {
      "model_module": "@jupyter-widgets/base",
      "model_module_version": "2.0.0",
      "model_name": "LayoutModel",
      "state": {
       "_model_module": "@jupyter-widgets/base",
       "_model_module_version": "2.0.0",
       "_model_name": "LayoutModel",
       "_view_count": null,
       "_view_module": "@jupyter-widgets/base",
       "_view_module_version": "2.0.0",
       "_view_name": "LayoutView",
       "align_content": null,
       "align_items": null,
       "align_self": null,
       "border_bottom": null,
       "border_left": null,
       "border_right": null,
       "border_top": null,
       "bottom": null,
       "display": null,
       "flex": null,
       "flex_flow": null,
       "grid_area": null,
       "grid_auto_columns": null,
       "grid_auto_flow": null,
       "grid_auto_rows": null,
       "grid_column": null,
       "grid_gap": null,
       "grid_row": null,
       "grid_template_areas": null,
       "grid_template_columns": null,
       "grid_template_rows": null,
       "height": null,
       "justify_content": null,
       "justify_items": null,
       "left": null,
       "margin": null,
       "max_height": null,
       "max_width": null,
       "min_height": null,
       "min_width": null,
       "object_fit": null,
       "object_position": null,
       "order": null,
       "overflow": null,
       "padding": null,
       "right": null,
       "top": null,
       "visibility": null,
       "width": null
      }
     },
     "e589fc1df149454e92c029daf7d882de": {
      "model_module": "@jupyter-widgets/base",
      "model_module_version": "2.0.0",
      "model_name": "LayoutModel",
      "state": {
       "_model_module": "@jupyter-widgets/base",
       "_model_module_version": "2.0.0",
       "_model_name": "LayoutModel",
       "_view_count": null,
       "_view_module": "@jupyter-widgets/base",
       "_view_module_version": "2.0.0",
       "_view_name": "LayoutView",
       "align_content": null,
       "align_items": null,
       "align_self": null,
       "border_bottom": null,
       "border_left": null,
       "border_right": null,
       "border_top": null,
       "bottom": null,
       "display": null,
       "flex": null,
       "flex_flow": null,
       "grid_area": null,
       "grid_auto_columns": null,
       "grid_auto_flow": null,
       "grid_auto_rows": null,
       "grid_column": null,
       "grid_gap": null,
       "grid_row": null,
       "grid_template_areas": null,
       "grid_template_columns": null,
       "grid_template_rows": null,
       "height": null,
       "justify_content": null,
       "justify_items": null,
       "left": null,
       "margin": null,
       "max_height": null,
       "max_width": null,
       "min_height": null,
       "min_width": null,
       "object_fit": null,
       "object_position": null,
       "order": null,
       "overflow": null,
       "padding": null,
       "right": null,
       "top": null,
       "visibility": null,
       "width": null
      }
     },
     "e6560e40c6654aa6a89be2c4be46fa34": {
      "model_module": "@jupyter-widgets/controls",
      "model_module_version": "2.0.0",
      "model_name": "HTMLStyleModel",
      "state": {
       "_model_module": "@jupyter-widgets/controls",
       "_model_module_version": "2.0.0",
       "_model_name": "HTMLStyleModel",
       "_view_count": null,
       "_view_module": "@jupyter-widgets/base",
       "_view_module_version": "2.0.0",
       "_view_name": "StyleView",
       "background": null,
       "description_width": "",
       "font_size": null,
       "text_color": null
      }
     },
     "eeb79d9d561740199392efa29e2742fd": {
      "model_module": "@jupyter-widgets/base",
      "model_module_version": "2.0.0",
      "model_name": "LayoutModel",
      "state": {
       "_model_module": "@jupyter-widgets/base",
       "_model_module_version": "2.0.0",
       "_model_name": "LayoutModel",
       "_view_count": null,
       "_view_module": "@jupyter-widgets/base",
       "_view_module_version": "2.0.0",
       "_view_name": "LayoutView",
       "align_content": null,
       "align_items": null,
       "align_self": null,
       "border_bottom": null,
       "border_left": null,
       "border_right": null,
       "border_top": null,
       "bottom": null,
       "display": null,
       "flex": null,
       "flex_flow": null,
       "grid_area": null,
       "grid_auto_columns": null,
       "grid_auto_flow": null,
       "grid_auto_rows": null,
       "grid_column": null,
       "grid_gap": null,
       "grid_row": null,
       "grid_template_areas": null,
       "grid_template_columns": null,
       "grid_template_rows": null,
       "height": null,
       "justify_content": null,
       "justify_items": null,
       "left": null,
       "margin": null,
       "max_height": null,
       "max_width": null,
       "min_height": null,
       "min_width": null,
       "object_fit": null,
       "object_position": null,
       "order": null,
       "overflow": null,
       "padding": null,
       "right": null,
       "top": null,
       "visibility": null,
       "width": null
      }
     }
    },
    "version_major": 2,
    "version_minor": 0
   }
  }
 },
 "nbformat": 4,
 "nbformat_minor": 5
}
